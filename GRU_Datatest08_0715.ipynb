{
  "nbformat": 4,
  "nbformat_minor": 0,
  "metadata": {
    "colab": {
      "name": "GRU_Datatest08/0715.ipynb",
      "provenance": [],
      "collapsed_sections": [],
      "include_colab_link": true
    },
    "kernelspec": {
      "name": "python3",
      "display_name": "Python 3"
    },
    "accelerator": "GPU"
  },
  "cells": [
    {
      "cell_type": "markdown",
      "metadata": {
        "id": "view-in-github",
        "colab_type": "text"
      },
      "source": [
        "<a href=\"https://colab.research.google.com/github/hui09241/GRU_test/blob/master/GRU_Datatest08_0715.ipynb\" target=\"_parent\"><img src=\"https://colab.research.google.com/assets/colab-badge.svg\" alt=\"Open In Colab\"/></a>"
      ]
    },
    {
      "cell_type": "code",
      "metadata": {
        "id": "XSDmYPM-NtrA",
        "colab_type": "code",
        "colab": {
          "base_uri": "https://localhost:8080/",
          "height": 1000
        },
        "outputId": "538ec35e-e06c-4824-ef81-15236a4785e9"
      },
      "source": [
        "!pip install pydrive\n",
        "!pip install scikit-learn==0.20.0\n",
        "!pip show scikit-learn # to see which version and where scikit-learn is installed\n",
        "!pip freeze # to see all packages installed in the active virtualenv\n",
        "\"import sklearn; sklearn.show_versions()\""
      ],
      "execution_count": null,
      "outputs": [
        {
          "output_type": "stream",
          "text": [
            "Requirement already satisfied: pydrive in /usr/local/lib/python3.6/dist-packages (1.3.1)\n",
            "Requirement already satisfied: PyYAML>=3.0 in /usr/local/lib/python3.6/dist-packages (from pydrive) (3.13)\n",
            "Requirement already satisfied: oauth2client>=4.0.0 in /usr/local/lib/python3.6/dist-packages (from pydrive) (4.1.3)\n",
            "Requirement already satisfied: google-api-python-client>=1.2 in /usr/local/lib/python3.6/dist-packages (from pydrive) (1.7.12)\n",
            "Requirement already satisfied: pyasn1-modules>=0.0.5 in /usr/local/lib/python3.6/dist-packages (from oauth2client>=4.0.0->pydrive) (0.2.8)\n",
            "Requirement already satisfied: rsa>=3.1.4 in /usr/local/lib/python3.6/dist-packages (from oauth2client>=4.0.0->pydrive) (4.6)\n",
            "Requirement already satisfied: httplib2>=0.9.1 in /usr/local/lib/python3.6/dist-packages (from oauth2client>=4.0.0->pydrive) (0.17.4)\n",
            "Requirement already satisfied: pyasn1>=0.1.7 in /usr/local/lib/python3.6/dist-packages (from oauth2client>=4.0.0->pydrive) (0.4.8)\n",
            "Requirement already satisfied: six>=1.6.1 in /usr/local/lib/python3.6/dist-packages (from oauth2client>=4.0.0->pydrive) (1.12.0)\n",
            "Requirement already satisfied: google-auth-httplib2>=0.0.3 in /usr/local/lib/python3.6/dist-packages (from google-api-python-client>=1.2->pydrive) (0.0.4)\n",
            "Requirement already satisfied: google-auth>=1.4.1 in /usr/local/lib/python3.6/dist-packages (from google-api-python-client>=1.2->pydrive) (1.17.2)\n",
            "Requirement already satisfied: uritemplate<4dev,>=3.0.0 in /usr/local/lib/python3.6/dist-packages (from google-api-python-client>=1.2->pydrive) (3.0.1)\n",
            "Requirement already satisfied: cachetools<5.0,>=2.0.0 in /usr/local/lib/python3.6/dist-packages (from google-auth>=1.4.1->google-api-python-client>=1.2->pydrive) (4.1.1)\n",
            "Requirement already satisfied: setuptools>=40.3.0 in /usr/local/lib/python3.6/dist-packages (from google-auth>=1.4.1->google-api-python-client>=1.2->pydrive) (49.1.0)\n",
            "Collecting scikit-learn==0.20.0\n",
            "\u001b[?25l  Downloading https://files.pythonhosted.org/packages/0c/b2/05be9b6da9ae4a4c54f537be22e95833f722742a02b1e355fdc09363877c/scikit_learn-0.20.0-cp36-cp36m-manylinux1_x86_64.whl (5.3MB)\n",
            "\u001b[K     |████████████████████████████████| 5.3MB 2.6MB/s \n",
            "\u001b[?25hRequirement already satisfied: scipy>=0.13.3 in /usr/local/lib/python3.6/dist-packages (from scikit-learn==0.20.0) (1.4.1)\n",
            "Requirement already satisfied: numpy>=1.8.2 in /usr/local/lib/python3.6/dist-packages (from scikit-learn==0.20.0) (1.18.5)\n",
            "Installing collected packages: scikit-learn\n",
            "  Found existing installation: scikit-learn 0.22.2.post1\n",
            "    Uninstalling scikit-learn-0.22.2.post1:\n",
            "      Successfully uninstalled scikit-learn-0.22.2.post1\n",
            "Successfully installed scikit-learn-0.20.0\n",
            "Name: scikit-learn\n",
            "Version: 0.20.0\n",
            "Summary: A set of python modules for machine learning and data mining\n",
            "Home-page: http://scikit-learn.org\n",
            "Author: None\n",
            "Author-email: None\n",
            "License: new BSD\n",
            "Location: /usr/local/lib/python3.6/dist-packages\n",
            "Requires: scipy, numpy\n",
            "Required-by: yellowbrick, umap-learn, textgenrnn, sklearn, sklearn-pandas, mlxtend, lucid, lightgbm, librosa, imbalanced-learn, fancyimpute\n",
            "absl-py==0.9.0\n",
            "alabaster==0.7.12\n",
            "albumentations==0.1.12\n",
            "altair==4.1.0\n",
            "asgiref==3.2.10\n",
            "astor==0.8.1\n",
            "astropy==4.0.1.post1\n",
            "astunparse==1.6.3\n",
            "atari-py==0.2.6\n",
            "atomicwrites==1.4.0\n",
            "attrs==19.3.0\n",
            "audioread==2.1.8\n",
            "autograd==1.3\n",
            "Babel==2.8.0\n",
            "backcall==0.2.0\n",
            "beautifulsoup4==4.6.3\n",
            "bleach==3.1.5\n",
            "blis==0.4.1\n",
            "bokeh==1.4.0\n",
            "boto==2.49.0\n",
            "boto3==1.14.20\n",
            "botocore==1.17.20\n",
            "Bottleneck==1.3.2\n",
            "branca==0.4.1\n",
            "bs4==0.0.1\n",
            "CacheControl==0.12.6\n",
            "cachetools==4.1.1\n",
            "catalogue==1.0.0\n",
            "certifi==2020.6.20\n",
            "cffi==1.14.0\n",
            "chainer==7.4.0\n",
            "chardet==3.0.4\n",
            "click==7.1.2\n",
            "cloudpickle==1.3.0\n",
            "cmake==3.12.0\n",
            "cmdstanpy==0.4.0\n",
            "colorlover==0.3.0\n",
            "community==1.0.0b1\n",
            "contextlib2==0.5.5\n",
            "convertdate==2.2.1\n",
            "coverage==3.7.1\n",
            "coveralls==0.5\n",
            "crcmod==1.7\n",
            "cufflinks==0.17.3\n",
            "cupy-cuda101==7.4.0\n",
            "cvxopt==1.2.5\n",
            "cvxpy==1.0.31\n",
            "cycler==0.10.0\n",
            "cymem==2.0.3\n",
            "Cython==0.29.21\n",
            "daft==0.0.4\n",
            "dask==2.12.0\n",
            "dataclasses==0.7\n",
            "datascience==0.10.6\n",
            "decorator==4.4.2\n",
            "defusedxml==0.6.0\n",
            "descartes==1.1.0\n",
            "dill==0.3.2\n",
            "distributed==1.25.3\n",
            "Django==3.0.8\n",
            "dlib==19.18.0\n",
            "docopt==0.6.2\n",
            "docutils==0.15.2\n",
            "dopamine-rl==1.0.5\n",
            "earthengine-api==0.1.227\n",
            "easydict==1.9\n",
            "ecos==2.0.7.post1\n",
            "editdistance==0.5.3\n",
            "en-core-web-sm==2.2.5\n",
            "entrypoints==0.3\n",
            "ephem==3.7.7.1\n",
            "et-xmlfile==1.0.1\n",
            "fa2==0.3.5\n",
            "fancyimpute==0.4.3\n",
            "fastai==1.0.61\n",
            "fastdtw==0.3.4\n",
            "fastprogress==0.2.3\n",
            "fastrlock==0.5\n",
            "fbprophet==0.6\n",
            "feather-format==0.4.1\n",
            "featuretools==0.4.1\n",
            "filelock==3.0.12\n",
            "firebase-admin==4.1.0\n",
            "fix-yahoo-finance==0.0.22\n",
            "Flask==1.1.2\n",
            "folium==0.8.3\n",
            "fsspec==0.7.4\n",
            "future==0.16.0\n",
            "gast==0.3.3\n",
            "GDAL==2.2.2\n",
            "gdown==3.6.4\n",
            "gensim==3.6.0\n",
            "geographiclib==1.50\n",
            "geopy==1.17.0\n",
            "gin-config==0.3.0\n",
            "glob2==0.7\n",
            "google==2.0.3\n",
            "google-api-core==1.16.0\n",
            "google-api-python-client==1.7.12\n",
            "google-auth==1.17.2\n",
            "google-auth-httplib2==0.0.4\n",
            "google-auth-oauthlib==0.4.1\n",
            "google-cloud-bigquery==1.21.0\n",
            "google-cloud-core==1.0.3\n",
            "google-cloud-datastore==1.8.0\n",
            "google-cloud-firestore==1.7.0\n",
            "google-cloud-language==1.2.0\n",
            "google-cloud-storage==1.18.1\n",
            "google-cloud-translate==1.5.0\n",
            "google-colab==1.0.0\n",
            "google-pasta==0.2.0\n",
            "google-resumable-media==0.4.1\n",
            "googleapis-common-protos==1.52.0\n",
            "googledrivedownloader==0.4\n",
            "graphviz==0.10.1\n",
            "grpcio==1.30.0\n",
            "gspread==3.0.1\n",
            "gspread-dataframe==3.0.7\n",
            "gym==0.17.2\n",
            "h5py==2.10.0\n",
            "HeapDict==1.0.1\n",
            "holidays==0.9.12\n",
            "html5lib==1.0.1\n",
            "httpimport==0.5.18\n",
            "httplib2==0.17.4\n",
            "httplib2shim==0.0.3\n",
            "humanize==0.5.1\n",
            "hyperopt==0.1.2\n",
            "ideep4py==2.0.0.post3\n",
            "idna==2.10\n",
            "image==1.5.32\n",
            "imageio==2.4.1\n",
            "imagesize==1.2.0\n",
            "imbalanced-learn==0.4.3\n",
            "imblearn==0.0\n",
            "imgaug==0.2.9\n",
            "importlib-metadata==1.7.0\n",
            "imutils==0.5.3\n",
            "inflect==2.1.0\n",
            "intel-openmp==2020.0.133\n",
            "intervaltree==2.1.0\n",
            "ipykernel==4.10.1\n",
            "ipython==5.5.0\n",
            "ipython-genutils==0.2.0\n",
            "ipython-sql==0.3.9\n",
            "ipywidgets==7.5.1\n",
            "itsdangerous==1.1.0\n",
            "jax==0.1.72\n",
            "jaxlib==0.1.51\n",
            "jdcal==1.4.1\n",
            "jedi==0.17.1\n",
            "jieba==0.42.1\n",
            "Jinja2==2.11.2\n",
            "jmespath==0.10.0\n",
            "joblib==0.16.0\n",
            "jpeg4py==0.1.4\n",
            "jsonschema==2.6.0\n",
            "jupyter==1.0.0\n",
            "jupyter-client==5.3.5\n",
            "jupyter-console==5.2.0\n",
            "jupyter-core==4.6.3\n",
            "kaggle==1.5.6\n",
            "kapre==0.1.3.1\n",
            "Keras==2.3.1\n",
            "Keras-Applications==1.0.8\n",
            "Keras-Preprocessing==1.1.2\n",
            "keras-vis==0.4.1\n",
            "kiwisolver==1.2.0\n",
            "knnimpute==0.1.0\n",
            "librosa==0.6.3\n",
            "lightgbm==2.2.3\n",
            "llvmlite==0.31.0\n",
            "lmdb==0.98\n",
            "lucid==0.3.8\n",
            "LunarCalendar==0.0.9\n",
            "lxml==4.2.6\n",
            "Markdown==3.2.2\n",
            "MarkupSafe==1.1.1\n",
            "matplotlib==3.2.2\n",
            "matplotlib-venn==0.11.5\n",
            "missingno==0.4.2\n",
            "mistune==0.8.4\n",
            "mizani==0.6.0\n",
            "mkl==2019.0\n",
            "mlxtend==0.14.0\n",
            "more-itertools==8.4.0\n",
            "moviepy==0.2.3.5\n",
            "mpmath==1.1.0\n",
            "msgpack==1.0.0\n",
            "multiprocess==0.70.10\n",
            "multitasking==0.0.9\n",
            "murmurhash==1.0.2\n",
            "music21==5.5.0\n",
            "natsort==5.5.0\n",
            "nbconvert==5.6.1\n",
            "nbformat==5.0.7\n",
            "networkx==2.4\n",
            "nibabel==3.0.2\n",
            "nltk==3.2.5\n",
            "notebook==5.2.2\n",
            "np-utils==0.5.12.1\n",
            "numba==0.48.0\n",
            "numexpr==2.7.1\n",
            "numpy==1.18.5\n",
            "nvidia-ml-py3==7.352.0\n",
            "oauth2client==4.1.3\n",
            "oauthlib==3.1.0\n",
            "okgrade==0.4.3\n",
            "opencv-contrib-python==4.1.2.30\n",
            "opencv-python==4.1.2.30\n",
            "openpyxl==2.5.9\n",
            "opt-einsum==3.2.1\n",
            "osqp==0.6.1\n",
            "packaging==20.4\n",
            "palettable==3.3.0\n",
            "pandas==1.0.5\n",
            "pandas-datareader==0.8.1\n",
            "pandas-gbq==0.11.0\n",
            "pandas-profiling==1.4.1\n",
            "pandocfilters==1.4.2\n",
            "parso==0.7.0\n",
            "pathlib==1.0.1\n",
            "patsy==0.5.1\n",
            "pexpect==4.8.0\n",
            "pickleshare==0.7.5\n",
            "Pillow==7.0.0\n",
            "pip-tools==4.5.1\n",
            "plac==1.1.3\n",
            "plotly==4.4.1\n",
            "plotnine==0.6.0\n",
            "pluggy==0.7.1\n",
            "portpicker==1.3.1\n",
            "prefetch-generator==1.0.1\n",
            "preshed==3.0.2\n",
            "prettytable==0.7.2\n",
            "progressbar2==3.38.0\n",
            "prometheus-client==0.8.0\n",
            "promise==2.3\n",
            "prompt-toolkit==1.0.18\n",
            "protobuf==3.10.0\n",
            "psutil==5.4.8\n",
            "psycopg2==2.7.6.1\n",
            "ptyprocess==0.6.0\n",
            "py==1.9.0\n",
            "pyarrow==0.14.1\n",
            "pyasn1==0.4.8\n",
            "pyasn1-modules==0.2.8\n",
            "pycocotools==2.0.1\n",
            "pycparser==2.20\n",
            "pydata-google-auth==1.1.0\n",
            "pydot==1.3.0\n",
            "pydot-ng==2.0.0\n",
            "pydotplus==2.0.2\n",
            "PyDrive==1.3.1\n",
            "pyemd==0.5.1\n",
            "pyglet==1.5.0\n",
            "Pygments==2.1.3\n",
            "pygobject==3.26.1\n",
            "pymc3==3.7\n",
            "PyMeeus==0.3.7\n",
            "pymongo==3.10.1\n",
            "pymystem3==0.2.0\n",
            "PyOpenGL==3.1.5\n",
            "pyparsing==2.4.7\n",
            "pyrsistent==0.16.0\n",
            "pysndfile==1.3.8\n",
            "PySocks==1.7.1\n",
            "pystan==2.19.1.1\n",
            "pytest==3.6.4\n",
            "python-apt==1.6.5+ubuntu0.3\n",
            "python-chess==0.23.11\n",
            "python-dateutil==2.8.1\n",
            "python-louvain==0.14\n",
            "python-slugify==4.0.1\n",
            "python-utils==2.4.0\n",
            "pytz==2018.9\n",
            "PyWavelets==1.1.1\n",
            "PyYAML==3.13\n",
            "pyzmq==19.0.1\n",
            "qtconsole==4.7.5\n",
            "QtPy==1.9.0\n",
            "regex==2019.12.20\n",
            "requests==2.23.0\n",
            "requests-oauthlib==1.3.0\n",
            "resampy==0.2.2\n",
            "retrying==1.3.3\n",
            "rpy2==3.2.7\n",
            "rsa==4.6\n",
            "s3fs==0.4.2\n",
            "s3transfer==0.3.3\n",
            "scikit-image==0.16.2\n",
            "scikit-learn==0.20.0\n",
            "scipy==1.4.1\n",
            "screen-resolution-extra==0.0.0\n",
            "scs==2.1.2\n",
            "seaborn==0.10.1\n",
            "Send2Trash==1.5.0\n",
            "setuptools-git==1.2\n",
            "Shapely==1.7.0\n",
            "simplegeneric==0.8.1\n",
            "six==1.12.0\n",
            "sklearn==0.0\n",
            "sklearn-pandas==1.8.0\n",
            "smart-open==2.1.0\n",
            "snowballstemmer==2.0.0\n",
            "sortedcontainers==2.2.2\n",
            "spacy==2.2.4\n",
            "Sphinx==1.8.5\n",
            "sphinxcontrib-websupport==1.2.3\n",
            "SQLAlchemy==1.3.18\n",
            "sqlparse==0.3.1\n",
            "srsly==1.0.2\n",
            "statsmodels==0.10.2\n",
            "sympy==1.1.1\n",
            "tables==3.4.4\n",
            "tabulate==0.8.7\n",
            "tblib==1.6.0\n",
            "tensorboard==2.2.2\n",
            "tensorboard-plugin-wit==1.7.0\n",
            "tensorboardcolab==0.0.22\n",
            "tensorflow==2.2.0\n",
            "tensorflow-addons==0.8.3\n",
            "tensorflow-datasets==2.1.0\n",
            "tensorflow-estimator==2.2.0\n",
            "tensorflow-gcs-config==2.2.0\n",
            "tensorflow-hub==0.8.0\n",
            "tensorflow-metadata==0.22.2\n",
            "tensorflow-privacy==0.2.2\n",
            "tensorflow-probability==0.10.0\n",
            "termcolor==1.1.0\n",
            "terminado==0.8.3\n",
            "testpath==0.4.4\n",
            "text-unidecode==1.3\n",
            "textblob==0.15.3\n",
            "textgenrnn==1.4.1\n",
            "Theano==1.0.4\n",
            "thinc==7.4.0\n",
            "tifffile==2020.7.4\n",
            "toolz==0.10.0\n",
            "torch==1.5.1+cu101\n",
            "torchsummary==1.5.1\n",
            "torchtext==0.3.1\n",
            "torchvision==0.6.1+cu101\n",
            "tornado==4.5.3\n",
            "tqdm==4.41.1\n",
            "traitlets==4.3.3\n",
            "tweepy==3.6.0\n",
            "typeguard==2.7.1\n",
            "typing-extensions==3.7.4.2\n",
            "tzlocal==1.5.1\n",
            "umap-learn==0.4.6\n",
            "uritemplate==3.0.1\n",
            "urllib3==1.24.3\n",
            "vega-datasets==0.8.0\n",
            "wasabi==0.7.0\n",
            "wcwidth==0.2.5\n",
            "webencodings==0.5.1\n",
            "Werkzeug==1.0.1\n",
            "widgetsnbextension==3.5.1\n",
            "wordcloud==1.5.0\n",
            "wrapt==1.12.1\n",
            "xarray==0.15.1\n",
            "xgboost==0.90\n",
            "xkit==0.0.0\n",
            "xlrd==1.1.0\n",
            "xlwt==1.3.0\n",
            "yellowbrick==0.9.1\n",
            "zict==2.0.0\n",
            "zipp==3.1.0\n"
          ],
          "name": "stdout"
        },
        {
          "output_type": "execute_result",
          "data": {
            "application/vnd.google.colaboratory.intrinsic": {
              "type": "string"
            },
            "text/plain": [
              "'import sklearn; sklearn.show_versions()'"
            ]
          },
          "metadata": {
            "tags": []
          },
          "execution_count": 1
        }
      ]
    },
    {
      "cell_type": "code",
      "metadata": {
        "id": "2XwgjR5ZN43n",
        "colab_type": "code",
        "colab": {
          "base_uri": "https://localhost:8080/",
          "height": 34
        },
        "outputId": "3a7b3c5f-5d31-44b9-c47d-6d5459d8e440"
      },
      "source": [
        "import pandas\n",
        "import matplotlib.pyplot as plt\n",
        "from sklearn.preprocessing import MinMaxScaler\n",
        "import numpy as np\n",
        "from keras.models import Sequential\n",
        "from keras.layers import Dense,Dropout,BatchNormalization #這行milk02.ipynb\n",
        "from keras.layers import LSTM\n",
        "import math\n",
        "from sklearn.metrics import mean_squared_error  #02.ipynb\n",
        "\n",
        "import pandas as pd\n",
        "from pydrive.auth import GoogleAuth #雲端部分#載入資料用\n",
        "from pydrive.drive import GoogleDrive \n",
        "from google.colab import auth \n",
        "from oauth2client.client import GoogleCredentials\n",
        "\n",
        "#把要one hot的類別轉換成數字                           #從這以下milk02.ipynb\n",
        "from sklearn.preprocessing import LabelEncoder\n",
        "\n",
        "#把要的類別轉換成one hot\n",
        "import numpy as np\n",
        "from sklearn.preprocessing import OneHotEncoder\n",
        "from sklearn.model_selection import train_test_split\n",
        "from keras import backend as K\n",
        "from keras.optimizers import Adam\n",
        "\n",
        "from sklearn.model_selection import KFold"
      ],
      "execution_count": null,
      "outputs": [
        {
          "output_type": "stream",
          "text": [
            "Using TensorFlow backend.\n"
          ],
          "name": "stderr"
        }
      ]
    },
    {
      "cell_type": "code",
      "metadata": {
        "id": "dqCtCYmwN5Mq",
        "colab_type": "code",
        "colab": {}
      },
      "source": [
        "##載入new_train\n",
        "auth.authenticate_user()                  \n",
        "gauth = GoogleAuth()\n",
        "gauth.credentials = GoogleCredentials.get_application_default()\n",
        "drive = GoogleDrive(gauth)\n",
        "file_id = '11jLvYsp8RkDqZioXL5j2Qitx7C2lwM79'  #雲端硬碟檔案連結碼\n",
        "downloaded = drive.CreateFile({'id': file_id})\n",
        "downloaded.GetContentFile('our_new_train.csv')\n",
        "new_train = pd.read_csv('our_new_train.csv', sep=',')\n",
        "#new_train"
      ],
      "execution_count": null,
      "outputs": []
    },
    {
      "cell_type": "code",
      "metadata": {
        "id": "jyggkcMtN6WD",
        "colab_type": "code",
        "colab": {}
      },
      "source": [
        "##載入new_test\n",
        "auth.authenticate_user()                  \n",
        "gauth = GoogleAuth()\n",
        "gauth.credentials = GoogleCredentials.get_application_default()\n",
        "drive = GoogleDrive(gauth)\n",
        "file_id = '1pQC3R9smKnmsqQEU3BUoWVmEk7YRK5Io'  #雲端硬碟檔案連結碼\n",
        "downloaded = drive.CreateFile({'id': file_id})\n",
        "downloaded.GetContentFile('newtest17.csv')\n",
        "new_test = pd.read_csv('newtest17.csv', sep=',')\n",
        "#print(new_test.loc[[48]])\n",
        "#new_test"
      ],
      "execution_count": null,
      "outputs": []
    },
    {
      "cell_type": "code",
      "metadata": {
        "id": "c-KC97dcN9aQ",
        "colab_type": "code",
        "colab": {}
      },
      "source": [
        "import pandas as pd\n",
        "from pydrive.auth import GoogleAuth\n",
        "from pydrive.drive import GoogleDrive \n",
        "from google.colab import auth \n",
        "from oauth2client.client import GoogleCredentials\n",
        " \n",
        "auth.authenticate_user()\n",
        "gauth = GoogleAuth()\n",
        "gauth.credentials = GoogleCredentials.get_application_default()\n",
        "drive = GoogleDrive(gauth)\n",
        "file_id = '1TgijKpsq6haP2C6yHsA7_bVtf5Ra6Cps'  #雲端硬碟檔案連結碼\n",
        "downloaded = drive.CreateFile({'id': file_id})\n",
        "downloaded.GetContentFile('spec01.csv')\n",
        "spec = pd.read_csv('spec01.csv',sep=',')\n",
        "#print(spec)"
      ],
      "execution_count": null,
      "outputs": []
    },
    {
      "cell_type": "code",
      "metadata": {
        "id": "ThqfMyyjN-ZN",
        "colab_type": "code",
        "colab": {
          "base_uri": "https://localhost:8080/",
          "height": 272
        },
        "outputId": "05afebc4-40e4-41de-b08a-06a5bf2d806c"
      },
      "source": [
        "for i in range(len(spec['7'])):\n",
        "    if(str(spec['7'][i])==str(\"A\")):\n",
        "          spec['7'][i]=1\n",
        "for i in range(len(spec['7'])):\n",
        "    if(str(spec['7'][i])==str('B')):\n",
        "          spec['7'][i]=2\n",
        "for i in range(len(spec['7'])):\n",
        "    if(str(spec['7'][i])==str('C')):\n",
        "          spec['7'][i]=3\n",
        "#spec"
      ],
      "execution_count": null,
      "outputs": [
        {
          "output_type": "stream",
          "text": [
            "/usr/local/lib/python3.6/dist-packages/ipykernel_launcher.py:3: SettingWithCopyWarning: \n",
            "A value is trying to be set on a copy of a slice from a DataFrame\n",
            "\n",
            "See the caveats in the documentation: https://pandas.pydata.org/pandas-docs/stable/user_guide/indexing.html#returning-a-view-versus-a-copy\n",
            "  This is separate from the ipykernel package so we can avoid doing imports until\n",
            "/usr/local/lib/python3.6/dist-packages/ipykernel_launcher.py:6: SettingWithCopyWarning: \n",
            "A value is trying to be set on a copy of a slice from a DataFrame\n",
            "\n",
            "See the caveats in the documentation: https://pandas.pydata.org/pandas-docs/stable/user_guide/indexing.html#returning-a-view-versus-a-copy\n",
            "  \n",
            "/usr/local/lib/python3.6/dist-packages/ipykernel_launcher.py:9: SettingWithCopyWarning: \n",
            "A value is trying to be set on a copy of a slice from a DataFrame\n",
            "\n",
            "See the caveats in the documentation: https://pandas.pydata.org/pandas-docs/stable/user_guide/indexing.html#returning-a-view-versus-a-copy\n",
            "  if __name__ == '__main__':\n"
          ],
          "name": "stderr"
        }
      ]
    },
    {
      "cell_type": "code",
      "metadata": {
        "id": "5_NhTrl2N_pk",
        "colab_type": "code",
        "colab": {}
      },
      "source": [
        "#測試spec\n",
        "#spec.loc[[4290]]"
      ],
      "execution_count": null,
      "outputs": []
    },
    {
      "cell_type": "code",
      "metadata": {
        "id": "jW2AFW8tOBhR",
        "colab_type": "code",
        "colab": {}
      },
      "source": [
        "new_train=pd.DataFrame(data=new_train,columns=['ID','firm','CowID','MomID','DadID','BabyNum','FeedDay','Milk','Sampling date','Age','BreedNum','Temperature','T Max','RH','RHMin','Precp','THI','cycle','tcalving number','disease','Sampling D Year','Sampling D Month'])\n",
        "#new_train"
      ],
      "execution_count": null,
      "outputs": []
    },
    {
      "cell_type": "code",
      "metadata": {
        "id": "DSpOBcEvOD_R",
        "colab_type": "code",
        "colab": {}
      },
      "source": [
        "new_test=pd.DataFrame(data=new_test,columns=['ID','firm','CowID','MomID','DadID','BabyNum','FeedDay','Milk','Sampling date','Age','BreedNum','Temperature','T Max','RH','RHMin','Precp','THI','cycle','tcalving number','disease','Sampling D Year','Sampling D Month'])\n",
        "#new_test"
      ],
      "execution_count": null,
      "outputs": []
    },
    {
      "cell_type": "code",
      "metadata": {
        "id": "gT3FI164OFUV",
        "colab_type": "code",
        "colab": {
          "base_uri": "https://localhost:8080/",
          "height": 221
        },
        "outputId": "42fe1cbb-2754-425c-ad0e-34bb3f8a7da8"
      },
      "source": [
        "new_train['Milk']"
      ],
      "execution_count": null,
      "outputs": [
        {
          "output_type": "execute_result",
          "data": {
            "text/plain": [
              "0        20.0\n",
              "1        43.0\n",
              "2        24.0\n",
              "3        18.2\n",
              "4        10.0\n",
              "         ... \n",
              "30009    24.0\n",
              "30010    20.4\n",
              "30011    19.0\n",
              "30012     NaN\n",
              "30013    25.5\n",
              "Name: Milk, Length: 30014, dtype: float64"
            ]
          },
          "metadata": {
            "tags": []
          },
          "execution_count": 10
        }
      ]
    },
    {
      "cell_type": "code",
      "metadata": {
        "id": "xn9JLnEuOHe0",
        "colab_type": "code",
        "colab": {
          "base_uri": "https://localhost:8080/",
          "height": 102
        },
        "outputId": "af8f1a56-1532-44ea-8b2a-38be86c94533"
      },
      "source": [
        "import math\n",
        "bool = False\n",
        "for i in range(len(new_train['Milk'])):\n",
        "    bool = False\n",
        "    bool=math.isnan(new_train['Milk'][i])\n",
        "    if(bool):\n",
        "       new_train['Milk'][i]=0\n",
        "#print(new_train['Milk'].loc[[15]])\n",
        "#print(new_train['Milk'].loc[[16]])\n",
        "#new_train"
      ],
      "execution_count": null,
      "outputs": [
        {
          "output_type": "stream",
          "text": [
            "/usr/local/lib/python3.6/dist-packages/ipykernel_launcher.py:7: SettingWithCopyWarning: \n",
            "A value is trying to be set on a copy of a slice from a DataFrame\n",
            "\n",
            "See the caveats in the documentation: https://pandas.pydata.org/pandas-docs/stable/user_guide/indexing.html#returning-a-view-versus-a-copy\n",
            "  import sys\n"
          ],
          "name": "stderr"
        }
      ]
    },
    {
      "cell_type": "code",
      "metadata": {
        "id": "Ps8su1as-4vL",
        "colab_type": "code",
        "colab": {
          "base_uri": "https://localhost:8080/",
          "height": 102
        },
        "outputId": "33239792-3a2a-45bd-edb0-5af384e8b8d5"
      },
      "source": [
        "import math\n",
        "bool = False\n",
        "for i in range(len(new_test['Milk'])):\n",
        "    bool = False\n",
        "    bool=math.isnan(new_test['Milk'][i])\n",
        "    if(bool):\n",
        "       new_test['Milk'][i]=0\n",
        "#print(new_train['Milk'].loc[[15]])\n",
        "#print(new_test['Milk'].loc[[9]])\n",
        "#new_test"
      ],
      "execution_count": null,
      "outputs": [
        {
          "output_type": "stream",
          "text": [
            "/usr/local/lib/python3.6/dist-packages/ipykernel_launcher.py:7: SettingWithCopyWarning: \n",
            "A value is trying to be set on a copy of a slice from a DataFrame\n",
            "\n",
            "See the caveats in the documentation: https://pandas.pydata.org/pandas-docs/stable/user_guide/indexing.html#returning-a-view-versus-a-copy\n",
            "  import sys\n"
          ],
          "name": "stderr"
        }
      ]
    },
    {
      "cell_type": "code",
      "metadata": {
        "id": "oqcFWInXOIi8",
        "colab_type": "code",
        "colab": {}
      },
      "source": [
        "#train有不需要判斷的編號就去掉\n",
        "for i in range(len(new_test['CowID'])):\n",
        "    if len(new_train.index[new_train['CowID'] == new_test['CowID'][i]]) == 0:\n",
        "        new_train=new_train.drop([i])\n",
        "new_train.reset_index(inplace=True)\n",
        "#new_train"
      ],
      "execution_count": null,
      "outputs": []
    },
    {
      "cell_type": "code",
      "metadata": {
        "id": "Qu1pgHrQktaX",
        "colab_type": "code",
        "colab": {}
      },
      "source": [
        "#train牛乳產量是0，則丟棄不用\n",
        "for i in range(len(new_train['Milk'])): \n",
        "    if new_train['Milk'][i] == 0 :\n",
        "        new_train = new_train.drop([i])\n",
        "new_train.reset_index(inplace=True)\n",
        "#new_train"
      ],
      "execution_count": null,
      "outputs": []
    },
    {
      "cell_type": "code",
      "metadata": {
        "id": "U0K7p113_B8X",
        "colab_type": "code",
        "colab": {
          "base_uri": "https://localhost:8080/",
          "height": 490
        },
        "outputId": "7e698b41-ca88-4c58-b2f6-cb68daee3c51"
      },
      "source": [
        "#test牛乳產量是0，則丟棄不用(未來測試需要)\n",
        "for i in range(len(new_test['Milk'])): \n",
        "    if new_test['Milk'][i] == 0 :\n",
        "        new_test = new_test.drop([i])\n",
        "new_test.reset_index(inplace=True)\n",
        "print(new_test['Milk'].loc[[9]])\n",
        "new_test"
      ],
      "execution_count": null,
      "outputs": [
        {
          "output_type": "stream",
          "text": [
            "9    11.6\n",
            "Name: Milk, dtype: float64\n"
          ],
          "name": "stdout"
        },
        {
          "output_type": "execute_result",
          "data": {
            "text/html": [
              "<div>\n",
              "<style scoped>\n",
              "    .dataframe tbody tr th:only-of-type {\n",
              "        vertical-align: middle;\n",
              "    }\n",
              "\n",
              "    .dataframe tbody tr th {\n",
              "        vertical-align: top;\n",
              "    }\n",
              "\n",
              "    .dataframe thead th {\n",
              "        text-align: right;\n",
              "    }\n",
              "</style>\n",
              "<table border=\"1\" class=\"dataframe\">\n",
              "  <thead>\n",
              "    <tr style=\"text-align: right;\">\n",
              "      <th></th>\n",
              "      <th>index</th>\n",
              "      <th>ID</th>\n",
              "      <th>firm</th>\n",
              "      <th>CowID</th>\n",
              "      <th>MomID</th>\n",
              "      <th>DadID</th>\n",
              "      <th>BabyNum</th>\n",
              "      <th>FeedDay</th>\n",
              "      <th>Milk</th>\n",
              "      <th>Sampling date</th>\n",
              "      <th>Age</th>\n",
              "      <th>BreedNum</th>\n",
              "      <th>Temperature</th>\n",
              "      <th>T Max</th>\n",
              "      <th>RH</th>\n",
              "      <th>RHMin</th>\n",
              "      <th>Precp</th>\n",
              "      <th>THI</th>\n",
              "      <th>cycle</th>\n",
              "      <th>tcalving number</th>\n",
              "      <th>disease</th>\n",
              "      <th>Sampling D Year</th>\n",
              "      <th>Sampling D Month</th>\n",
              "    </tr>\n",
              "  </thead>\n",
              "  <tbody>\n",
              "    <tr>\n",
              "      <th>0</th>\n",
              "      <td>0</td>\n",
              "      <td>18072</td>\n",
              "      <td>2</td>\n",
              "      <td>122630</td>\n",
              "      <td>98111436.0</td>\n",
              "      <td>007HO08361</td>\n",
              "      <td>3</td>\n",
              "      <td>183</td>\n",
              "      <td>40.0</td>\n",
              "      <td>2017/1/19</td>\n",
              "      <td>70</td>\n",
              "      <td>2</td>\n",
              "      <td>20.8</td>\n",
              "      <td>25.5</td>\n",
              "      <td>85.0</td>\n",
              "      <td>69.0</td>\n",
              "      <td>0.0</td>\n",
              "      <td>20.236278</td>\n",
              "      <td>NaN</td>\n",
              "      <td>NaN</td>\n",
              "      <td>NaN</td>\n",
              "      <td>NaN</td>\n",
              "      <td>NaN</td>\n",
              "    </tr>\n",
              "    <tr>\n",
              "      <th>1</th>\n",
              "      <td>1</td>\n",
              "      <td>15357</td>\n",
              "      <td>2</td>\n",
              "      <td>2122398</td>\n",
              "      <td>98111423.0</td>\n",
              "      <td>7H7536</td>\n",
              "      <td>3</td>\n",
              "      <td>71</td>\n",
              "      <td>28.0</td>\n",
              "      <td>2017/7/18</td>\n",
              "      <td>50</td>\n",
              "      <td>0</td>\n",
              "      <td>NaN</td>\n",
              "      <td>35.2</td>\n",
              "      <td>82.0</td>\n",
              "      <td>69.0</td>\n",
              "      <td>0.0</td>\n",
              "      <td>NaN</td>\n",
              "      <td>NaN</td>\n",
              "      <td>NaN</td>\n",
              "      <td>NaN</td>\n",
              "      <td>NaN</td>\n",
              "      <td>NaN</td>\n",
              "    </tr>\n",
              "    <tr>\n",
              "      <th>2</th>\n",
              "      <td>2</td>\n",
              "      <td>37069</td>\n",
              "      <td>3</td>\n",
              "      <td>99183211</td>\n",
              "      <td>94172172.0</td>\n",
              "      <td>1H8328</td>\n",
              "      <td>1</td>\n",
              "      <td>365</td>\n",
              "      <td>12.0</td>\n",
              "      <td>2013/6/25</td>\n",
              "      <td>38</td>\n",
              "      <td>5</td>\n",
              "      <td>NaN</td>\n",
              "      <td>NaN</td>\n",
              "      <td>NaN</td>\n",
              "      <td>NaN</td>\n",
              "      <td>NaN</td>\n",
              "      <td>NaN</td>\n",
              "      <td>NaN</td>\n",
              "      <td>NaN</td>\n",
              "      <td>NaN</td>\n",
              "      <td>NaN</td>\n",
              "      <td>NaN</td>\n",
              "    </tr>\n",
              "    <tr>\n",
              "      <th>3</th>\n",
              "      <td>3</td>\n",
              "      <td>17574</td>\n",
              "      <td>2</td>\n",
              "      <td>122607</td>\n",
              "      <td>98115809.0</td>\n",
              "      <td>029HO11295</td>\n",
              "      <td>4</td>\n",
              "      <td>177</td>\n",
              "      <td>35.0</td>\n",
              "      <td>2017/3/20</td>\n",
              "      <td>73</td>\n",
              "      <td>1</td>\n",
              "      <td>24.3</td>\n",
              "      <td>29.1</td>\n",
              "      <td>81.0</td>\n",
              "      <td>65.0</td>\n",
              "      <td>0.0</td>\n",
              "      <td>23.221440</td>\n",
              "      <td>NaN</td>\n",
              "      <td>NaN</td>\n",
              "      <td>NaN</td>\n",
              "      <td>NaN</td>\n",
              "      <td>NaN</td>\n",
              "    </tr>\n",
              "    <tr>\n",
              "      <th>4</th>\n",
              "      <td>4</td>\n",
              "      <td>3256</td>\n",
              "      <td>1</td>\n",
              "      <td>1051850</td>\n",
              "      <td>96040547.0</td>\n",
              "      <td>7H9502</td>\n",
              "      <td>1</td>\n",
              "      <td>42</td>\n",
              "      <td>28.8</td>\n",
              "      <td>2015/2/5</td>\n",
              "      <td>28</td>\n",
              "      <td>0</td>\n",
              "      <td>10.4</td>\n",
              "      <td>11.1</td>\n",
              "      <td>71.0</td>\n",
              "      <td>55.0</td>\n",
              "      <td>3.5</td>\n",
              "      <td>10.980262</td>\n",
              "      <td>NaN</td>\n",
              "      <td>NaN</td>\n",
              "      <td>NaN</td>\n",
              "      <td>NaN</td>\n",
              "      <td>NaN</td>\n",
              "    </tr>\n",
              "    <tr>\n",
              "      <th>...</th>\n",
              "      <td>...</td>\n",
              "      <td>...</td>\n",
              "      <td>...</td>\n",
              "      <td>...</td>\n",
              "      <td>...</td>\n",
              "      <td>...</td>\n",
              "      <td>...</td>\n",
              "      <td>...</td>\n",
              "      <td>...</td>\n",
              "      <td>...</td>\n",
              "      <td>...</td>\n",
              "      <td>...</td>\n",
              "      <td>...</td>\n",
              "      <td>...</td>\n",
              "      <td>...</td>\n",
              "      <td>...</td>\n",
              "      <td>...</td>\n",
              "      <td>...</td>\n",
              "      <td>...</td>\n",
              "      <td>...</td>\n",
              "      <td>...</td>\n",
              "      <td>...</td>\n",
              "      <td>...</td>\n",
              "    </tr>\n",
              "    <tr>\n",
              "      <th>6678</th>\n",
              "      <td>7496</td>\n",
              "      <td>11987</td>\n",
              "      <td>2</td>\n",
              "      <td>1123347</td>\n",
              "      <td>99116307.0</td>\n",
              "      <td>7H8361</td>\n",
              "      <td>3</td>\n",
              "      <td>18</td>\n",
              "      <td>39.0</td>\n",
              "      <td>2015/8/20</td>\n",
              "      <td>42</td>\n",
              "      <td>0</td>\n",
              "      <td>31.0</td>\n",
              "      <td>34.9</td>\n",
              "      <td>82.0</td>\n",
              "      <td>61.0</td>\n",
              "      <td>0.0</td>\n",
              "      <td>29.323086</td>\n",
              "      <td>NaN</td>\n",
              "      <td>NaN</td>\n",
              "      <td>NaN</td>\n",
              "      <td>NaN</td>\n",
              "      <td>NaN</td>\n",
              "    </tr>\n",
              "    <tr>\n",
              "      <th>6679</th>\n",
              "      <td>7497</td>\n",
              "      <td>23863</td>\n",
              "      <td>2</td>\n",
              "      <td>99127667</td>\n",
              "      <td>NaN</td>\n",
              "      <td>200H1715</td>\n",
              "      <td>2</td>\n",
              "      <td>508</td>\n",
              "      <td>10.0</td>\n",
              "      <td>2014/7/21</td>\n",
              "      <td>52</td>\n",
              "      <td>4</td>\n",
              "      <td>31.5</td>\n",
              "      <td>34.8</td>\n",
              "      <td>72.0</td>\n",
              "      <td>54.0</td>\n",
              "      <td>0.0</td>\n",
              "      <td>28.814617</td>\n",
              "      <td>NaN</td>\n",
              "      <td>NaN</td>\n",
              "      <td>NaN</td>\n",
              "      <td>NaN</td>\n",
              "      <td>NaN</td>\n",
              "    </tr>\n",
              "    <tr>\n",
              "      <th>6680</th>\n",
              "      <td>7498</td>\n",
              "      <td>24192</td>\n",
              "      <td>2</td>\n",
              "      <td>97124147</td>\n",
              "      <td>NaN</td>\n",
              "      <td>7H6155</td>\n",
              "      <td>3</td>\n",
              "      <td>158</td>\n",
              "      <td>30.6</td>\n",
              "      <td>2013/5/27</td>\n",
              "      <td>62</td>\n",
              "      <td>1</td>\n",
              "      <td>29.3</td>\n",
              "      <td>34.4</td>\n",
              "      <td>75.0</td>\n",
              "      <td>51.0</td>\n",
              "      <td>0.0</td>\n",
              "      <td>27.200232</td>\n",
              "      <td>NaN</td>\n",
              "      <td>NaN</td>\n",
              "      <td>NaN</td>\n",
              "      <td>NaN</td>\n",
              "      <td>NaN</td>\n",
              "    </tr>\n",
              "    <tr>\n",
              "      <th>6681</th>\n",
              "      <td>7500</td>\n",
              "      <td>14623</td>\n",
              "      <td>2</td>\n",
              "      <td>2122364</td>\n",
              "      <td>95110600.0</td>\n",
              "      <td>29H10124</td>\n",
              "      <td>1</td>\n",
              "      <td>9</td>\n",
              "      <td>20.0</td>\n",
              "      <td>2014/12/25</td>\n",
              "      <td>22</td>\n",
              "      <td>0</td>\n",
              "      <td>16.9</td>\n",
              "      <td>19.5</td>\n",
              "      <td>80.0</td>\n",
              "      <td>60.0</td>\n",
              "      <td>5.5</td>\n",
              "      <td>16.578618</td>\n",
              "      <td>NaN</td>\n",
              "      <td>NaN</td>\n",
              "      <td>NaN</td>\n",
              "      <td>NaN</td>\n",
              "      <td>NaN</td>\n",
              "    </tr>\n",
              "    <tr>\n",
              "      <th>6682</th>\n",
              "      <td>7501</td>\n",
              "      <td>27986</td>\n",
              "      <td>2</td>\n",
              "      <td>4123090</td>\n",
              "      <td>2111107.0</td>\n",
              "      <td>501HO2611</td>\n",
              "      <td>1</td>\n",
              "      <td>204</td>\n",
              "      <td>16.0</td>\n",
              "      <td>2018/4/18</td>\n",
              "      <td>32</td>\n",
              "      <td>4</td>\n",
              "      <td>21.7</td>\n",
              "      <td>25.9</td>\n",
              "      <td>72.0</td>\n",
              "      <td>62.0</td>\n",
              "      <td>0.0</td>\n",
              "      <td>20.509629</td>\n",
              "      <td>NaN</td>\n",
              "      <td>NaN</td>\n",
              "      <td>NaN</td>\n",
              "      <td>NaN</td>\n",
              "      <td>NaN</td>\n",
              "    </tr>\n",
              "  </tbody>\n",
              "</table>\n",
              "<p>6683 rows × 23 columns</p>\n",
              "</div>"
            ],
            "text/plain": [
              "      index     ID  firm  ...  disease  Sampling D Year Sampling D Month\n",
              "0         0  18072     2  ...      NaN              NaN              NaN\n",
              "1         1  15357     2  ...      NaN              NaN              NaN\n",
              "2         2  37069     3  ...      NaN              NaN              NaN\n",
              "3         3  17574     2  ...      NaN              NaN              NaN\n",
              "4         4   3256     1  ...      NaN              NaN              NaN\n",
              "...     ...    ...   ...  ...      ...              ...              ...\n",
              "6678   7496  11987     2  ...      NaN              NaN              NaN\n",
              "6679   7497  23863     2  ...      NaN              NaN              NaN\n",
              "6680   7498  24192     2  ...      NaN              NaN              NaN\n",
              "6681   7500  14623     2  ...      NaN              NaN              NaN\n",
              "6682   7501  27986     2  ...      NaN              NaN              NaN\n",
              "\n",
              "[6683 rows x 23 columns]"
            ]
          },
          "metadata": {
            "tags": []
          },
          "execution_count": 15
        }
      ]
    },
    {
      "cell_type": "code",
      "metadata": {
        "id": "53GcIgqFOMh3",
        "colab_type": "code",
        "colab": {}
      },
      "source": [
        "#處理new_train的\n",
        "#父親精液編號 \n",
        "new_train['DadID']=new_train['DadID'].fillna(\"NoData\").astype(\"str\")\n",
        "\n",
        "#將MomID中沒有編號的打為NoData \n",
        "new_train['MomID']=new_train['MomID'].fillna(\"NoData\").astype(\"str\")\n",
        "\n",
        "avg_Temperature_tr=new_train['Temperature'].mean() #將平均溫度Nan部分以算術平均數之平均溫度取代\n",
        "new_train['Temperature']= new_train['Temperature'].fillna(avg_Temperature_tr)\n",
        "\n",
        "\n",
        "avg_T_Max_tr=new_train['T Max'].mean()          #將最高溫度Nan部分以算術平均數之最高溫度取代\n",
        "new_train['T Max']= new_train['T Max'].fillna(avg_T_Max_tr)\n",
        "\n",
        "\n",
        "avg_RH_tr=new_train['RH'].mean()                  #將相對濕度Nan部分以算術平均數之相對濕度取代\n",
        "new_train['RH']= new_train['RH'].fillna(avg_RH_tr)\n",
        "\n",
        "\n",
        "avg_RH_Min_tr=new_train['RHMin'].mean()         #將最小相對濕度Nan部分以算術平均數之最小相對濕度取代\n",
        "new_train['RHMin']= new_train['RHMin'].fillna(avg_RH_Min_tr)\n",
        "\n",
        "\n",
        "avg_Precp_tr=new_train['Precp'].mean()          #將降水量Nan部分以算術平均數之降水量取代\n",
        "new_train['Precp']= new_train['Precp'].fillna(avg_Precp_tr)\n",
        "\n",
        "avg_THI_tr=new_train['THI'].mean()          #將THI Nan部分以算術平均數之THI取代\n",
        "new_train['THI']= new_train['THI'].fillna(avg_THI_tr)\n",
        "\n",
        "new_train.dropna(subset=['FeedDay','DadID','MomID'], inplace=True)\n",
        "#new_train"
      ],
      "execution_count": null,
      "outputs": []
    },
    {
      "cell_type": "code",
      "metadata": {
        "id": "HRuXAuAOOOKX",
        "colab_type": "code",
        "colab": {}
      },
      "source": [
        "#處理new_test的\n",
        "#父親精液編號\n",
        "new_test['DadID']=new_test['DadID'].fillna(\"NoData\").astype(\"str\")\n",
        "\n",
        "#將MomID中沒有編號的打為NoData \n",
        "new_test['MomID']=new_test['MomID'].fillna(\"NoData\").astype(\"str\")\n",
        "\n",
        "avg_Temperature=new_test['Temperature'].mean() #將平均溫度Nan部分以算術平均數之平均溫度取代\n",
        "new_test['Temperature']= new_test['Temperature'].fillna(avg_Temperature)\n",
        "\n",
        "\n",
        "avg_T_Max=new_test['T Max'].mean()          #將最高溫度Nan部分以算術平均數之最高溫度取代\n",
        "new_test['T Max']= new_test['T Max'].fillna(avg_T_Max)\n",
        "\n",
        "\n",
        "avg_RH=new_test['RH'].mean()                  #將相對濕度Nan部分以算術平均數之相對濕度取代\n",
        "new_test['RH']= new_test['RH'].fillna(avg_RH)\n",
        "\n",
        "\n",
        "avg_RH_Min=new_test['RHMin'].mean()         #將最小相對濕度Nan部分以算術平均數之最小相對濕度取代\n",
        "new_test['RHMin']= new_test['RHMin'].fillna(avg_RH_Min)\n",
        "\n",
        "\n",
        "avg_Precp=new_test['Precp'].mean()          #將降水量Nan部分以算術平均數之降水量取代\n",
        "new_test['Precp']= new_test['Precp'].fillna(avg_Precp)\n",
        "\n",
        "avg_THI=new_test['THI'].mean()          #將THI Nan部分以算術平均數之THI取代\n",
        "new_test['THI']= new_test['THI'].fillna(avg_THI)\n",
        "#\n",
        "#new_test\n"
      ],
      "execution_count": null,
      "outputs": []
    },
    {
      "cell_type": "code",
      "metadata": {
        "id": "7WTevp9ROPdS",
        "colab_type": "code",
        "colab": {
          "base_uri": "https://localhost:8080/",
          "height": 187
        },
        "outputId": "f9d1d067-a84e-44e2-acb0-b2d303fe2357"
      },
      "source": [
        "from datetime import datetime\n",
        "for i in range(len(new_train['Sampling date'])):\n",
        "          sdate=datetime.strptime(new_train['Sampling date'][i], \"%Y/%m/%d\")\n",
        "          new_train['Sampling D Year'][i]= sdate.year\n",
        "          new_train['Sampling D Month'][i]= sdate.month\n",
        "#new_train"
      ],
      "execution_count": null,
      "outputs": [
        {
          "output_type": "stream",
          "text": [
            "/usr/local/lib/python3.6/dist-packages/ipykernel_launcher.py:4: SettingWithCopyWarning: \n",
            "A value is trying to be set on a copy of a slice from a DataFrame\n",
            "\n",
            "See the caveats in the documentation: https://pandas.pydata.org/pandas-docs/stable/user_guide/indexing.html#returning-a-view-versus-a-copy\n",
            "  after removing the cwd from sys.path.\n",
            "/usr/local/lib/python3.6/dist-packages/ipykernel_launcher.py:5: SettingWithCopyWarning: \n",
            "A value is trying to be set on a copy of a slice from a DataFrame\n",
            "\n",
            "See the caveats in the documentation: https://pandas.pydata.org/pandas-docs/stable/user_guide/indexing.html#returning-a-view-versus-a-copy\n",
            "  \"\"\"\n"
          ],
          "name": "stderr"
        }
      ]
    },
    {
      "cell_type": "code",
      "metadata": {
        "id": "P7wu_JFEOQz4",
        "colab_type": "code",
        "colab": {
          "base_uri": "https://localhost:8080/",
          "height": 187
        },
        "outputId": "497ad87a-3d87-48c5-86c7-b41fcb801b28"
      },
      "source": [
        "for i in range(len(new_test['Sampling date'])):\n",
        "          sdate=datetime.strptime(new_test['Sampling date'][i], \"%Y/%m/%d\")\n",
        "          new_test['Sampling D Year'][i]= sdate.year\n",
        "          new_test['Sampling D Month'][i]= sdate.month\n",
        "#new_test"
      ],
      "execution_count": null,
      "outputs": [
        {
          "output_type": "stream",
          "text": [
            "/usr/local/lib/python3.6/dist-packages/ipykernel_launcher.py:3: SettingWithCopyWarning: \n",
            "A value is trying to be set on a copy of a slice from a DataFrame\n",
            "\n",
            "See the caveats in the documentation: https://pandas.pydata.org/pandas-docs/stable/user_guide/indexing.html#returning-a-view-versus-a-copy\n",
            "  This is separate from the ipykernel package so we can avoid doing imports until\n",
            "/usr/local/lib/python3.6/dist-packages/ipykernel_launcher.py:4: SettingWithCopyWarning: \n",
            "A value is trying to be set on a copy of a slice from a DataFrame\n",
            "\n",
            "See the caveats in the documentation: https://pandas.pydata.org/pandas-docs/stable/user_guide/indexing.html#returning-a-view-versus-a-copy\n",
            "  after removing the cwd from sys.path.\n"
          ],
          "name": "stderr"
        }
      ]
    },
    {
      "cell_type": "code",
      "metadata": {
        "id": "i0UXtTi9OSHI",
        "colab_type": "code",
        "colab": {
          "base_uri": "https://localhost:8080/",
          "height": 102
        },
        "outputId": "766dc265-c9d5-43ae-87b6-8f8db4fa420e"
      },
      "source": [
        "#new_train把當月有病的標記起來(為1)\n",
        "for i in range(len(spec)):\n",
        "    dd=datetime.strptime(spec['4'][i], \"%Y/%m/%d %H:%M\")\n",
        "    if len(new_train.index[new_train['CowID'] == spec['1'][i]])>0:\n",
        "        for j in new_train.index[new_train['CowID'] == spec['1'][i]]:\n",
        "            if new_train['Sampling D Year'][j] == dd.year and new_train['Sampling D Month'][j] == dd.month and new_train['firm'][j]==spec['7'][i]:\n",
        "                new_train['disease'][j] = 1\n",
        "                #print(j,new_train['CowID'][j],new_train['Sampling D Year'][j],new_train['Sampling D Month'][j])\n",
        "\n",
        "#new_train"
      ],
      "execution_count": null,
      "outputs": [
        {
          "output_type": "stream",
          "text": [
            "/usr/local/lib/python3.6/dist-packages/ipykernel_launcher.py:7: SettingWithCopyWarning: \n",
            "A value is trying to be set on a copy of a slice from a DataFrame\n",
            "\n",
            "See the caveats in the documentation: https://pandas.pydata.org/pandas-docs/stable/user_guide/indexing.html#returning-a-view-versus-a-copy\n",
            "  import sys\n"
          ],
          "name": "stderr"
        }
      ]
    },
    {
      "cell_type": "code",
      "metadata": {
        "id": "4BN-ljceOTSy",
        "colab_type": "code",
        "colab": {
          "base_uri": "https://localhost:8080/",
          "height": 102
        },
        "outputId": "3d9a3d07-4573-4938-f8cb-e0b994b8a51f"
      },
      "source": [
        "#new_test把當月有病的標記起來(為1)\n",
        "for i in range(len(spec)):\n",
        "    dd=datetime.strptime(spec['4'][i], \"%Y/%m/%d %H:%M\")\n",
        "    if len(new_test.index[new_test['CowID'] == spec['1'][i]])>0:\n",
        "        for j in new_test.index[new_test['CowID'] == spec['1'][i]]:\n",
        "            if new_test['Sampling D Year'][j] == dd.year and new_test['Sampling D Month'][j] == dd.month and new_test['firm'][j]==spec['7'][i]:\n",
        "                new_test['disease'][j] = 1\n",
        "                #print(j,new_test['CowID'][j],new_test['Sampling D Year'][j],new_test['Sampling D Month'][j])\n",
        "\n",
        "#new_test"
      ],
      "execution_count": null,
      "outputs": [
        {
          "output_type": "stream",
          "text": [
            "/usr/local/lib/python3.6/dist-packages/ipykernel_launcher.py:7: SettingWithCopyWarning: \n",
            "A value is trying to be set on a copy of a slice from a DataFrame\n",
            "\n",
            "See the caveats in the documentation: https://pandas.pydata.org/pandas-docs/stable/user_guide/indexing.html#returning-a-view-versus-a-copy\n",
            "  import sys\n"
          ],
          "name": "stderr"
        }
      ]
    },
    {
      "cell_type": "code",
      "metadata": {
        "id": "e2ZFaMLuOUlG",
        "colab_type": "code",
        "colab": {}
      },
      "source": [
        "new_train=new_train.fillna(0)\n",
        "new_test=new_test.fillna(0)\n",
        "new_train.reset_index(inplace=True,drop=True)"
      ],
      "execution_count": null,
      "outputs": []
    },
    {
      "cell_type": "code",
      "metadata": {
        "id": "_R_oe_o6OVAl",
        "colab_type": "code",
        "colab": {}
      },
      "source": [
        "#new_train"
      ],
      "execution_count": null,
      "outputs": []
    },
    {
      "cell_type": "code",
      "metadata": {
        "id": "y0Kz5jCdOWEs",
        "colab_type": "code",
        "colab": {
          "base_uri": "https://localhost:8080/",
          "height": 935
        },
        "outputId": "17d8f84c-768d-4c38-e00b-71d836e04136"
      },
      "source": [
        "#改new_train\n",
        "i=0\n",
        "for i in range(len(new_train['Sampling D Month'])):\n",
        "          if int(new_train['Sampling D Month'][i]) >=3 and int(new_train['Sampling D Month'][i])<=5:\n",
        "              new_train['Sampling D Month'][i] = \"Spring\"\n",
        "          elif int(new_train['Sampling D Month'][i]) >=6 and int(new_train['Sampling D Month'][i])<=8:\n",
        "              new_train['Sampling D Month'][i] = \"Summer\"\n",
        "          elif int(new_train['Sampling D Month'][i]) >=9 and int(new_train['Sampling D Month'][i])<=11:\n",
        "              new_train['Sampling D Month'][i] = \"Autumn\"\n",
        "          else:\n",
        "              new_train['Sampling D Month'][i] = \"Winter\"   \n",
        "#改new_train的feedday以及babynum\n",
        "for i in range(len(new_train['ID'])):\n",
        "    if int(new_train['FeedDay'][i]) <=100:\n",
        "        new_train['cycle'][i] = 0\n",
        "    elif int(new_train['FeedDay'][i]) >=101 and int(new_train['FeedDay'][i]) <=200 :\n",
        "        new_train['cycle'][i] = 1\n",
        "    elif int(new_train['FeedDay'][i]) >=201 and int(new_train['FeedDay'][i]) <=305:\n",
        "        new_train['cycle'][i] = 2\n",
        "    else:\n",
        "        new_train['cycle'][i] = 3\n",
        "\n",
        "    if int(new_train['BabyNum'][i]) <=2:\n",
        "        new_train['tcalving number'][i] = 0\n",
        "    elif int(new_train['BabyNum'][i])>=7:\n",
        "        new_train['tcalving number'][i] = 2\n",
        "    else:\n",
        "        new_train['tcalving number'][i] = 1\n",
        "\n",
        "#new_train"
      ],
      "execution_count": null,
      "outputs": [
        {
          "output_type": "stream",
          "text": [
            "/usr/local/lib/python3.6/dist-packages/ipykernel_launcher.py:7: SettingWithCopyWarning: \n",
            "A value is trying to be set on a copy of a slice from a DataFrame\n",
            "\n",
            "See the caveats in the documentation: https://pandas.pydata.org/pandas-docs/stable/user_guide/indexing.html#returning-a-view-versus-a-copy\n",
            "  import sys\n",
            "/usr/local/lib/python3.6/dist-packages/pandas/core/indexing.py:671: SettingWithCopyWarning: \n",
            "A value is trying to be set on a copy of a slice from a DataFrame\n",
            "\n",
            "See the caveats in the documentation: https://pandas.pydata.org/pandas-docs/stable/user_guide/indexing.html#returning-a-view-versus-a-copy\n",
            "  self._setitem_with_indexer(indexer, value)\n",
            "/usr/local/lib/python3.6/dist-packages/ipykernel_launcher.py:5: SettingWithCopyWarning: \n",
            "A value is trying to be set on a copy of a slice from a DataFrame\n",
            "\n",
            "See the caveats in the documentation: https://pandas.pydata.org/pandas-docs/stable/user_guide/indexing.html#returning-a-view-versus-a-copy\n",
            "  \"\"\"\n",
            "/usr/local/lib/python3.6/dist-packages/ipykernel_launcher.py:9: SettingWithCopyWarning: \n",
            "A value is trying to be set on a copy of a slice from a DataFrame\n",
            "\n",
            "See the caveats in the documentation: https://pandas.pydata.org/pandas-docs/stable/user_guide/indexing.html#returning-a-view-versus-a-copy\n",
            "  if __name__ == '__main__':\n",
            "/usr/local/lib/python3.6/dist-packages/ipykernel_launcher.py:11: SettingWithCopyWarning: \n",
            "A value is trying to be set on a copy of a slice from a DataFrame\n",
            "\n",
            "See the caveats in the documentation: https://pandas.pydata.org/pandas-docs/stable/user_guide/indexing.html#returning-a-view-versus-a-copy\n",
            "  # This is added back by InteractiveShellApp.init_path()\n",
            "/usr/local/lib/python3.6/dist-packages/ipykernel_launcher.py:15: SettingWithCopyWarning: \n",
            "A value is trying to be set on a copy of a slice from a DataFrame\n",
            "\n",
            "See the caveats in the documentation: https://pandas.pydata.org/pandas-docs/stable/user_guide/indexing.html#returning-a-view-versus-a-copy\n",
            "  from ipykernel import kernelapp as app\n",
            "/usr/local/lib/python3.6/dist-packages/ipykernel_launcher.py:24: SettingWithCopyWarning: \n",
            "A value is trying to be set on a copy of a slice from a DataFrame\n",
            "\n",
            "See the caveats in the documentation: https://pandas.pydata.org/pandas-docs/stable/user_guide/indexing.html#returning-a-view-versus-a-copy\n",
            "/usr/local/lib/python3.6/dist-packages/ipykernel_launcher.py:19: SettingWithCopyWarning: \n",
            "A value is trying to be set on a copy of a slice from a DataFrame\n",
            "\n",
            "See the caveats in the documentation: https://pandas.pydata.org/pandas-docs/stable/user_guide/indexing.html#returning-a-view-versus-a-copy\n",
            "/usr/local/lib/python3.6/dist-packages/ipykernel_launcher.py:17: SettingWithCopyWarning: \n",
            "A value is trying to be set on a copy of a slice from a DataFrame\n",
            "\n",
            "See the caveats in the documentation: https://pandas.pydata.org/pandas-docs/stable/user_guide/indexing.html#returning-a-view-versus-a-copy\n",
            "/usr/local/lib/python3.6/dist-packages/ipykernel_launcher.py:28: SettingWithCopyWarning: \n",
            "A value is trying to be set on a copy of a slice from a DataFrame\n",
            "\n",
            "See the caveats in the documentation: https://pandas.pydata.org/pandas-docs/stable/user_guide/indexing.html#returning-a-view-versus-a-copy\n",
            "/usr/local/lib/python3.6/dist-packages/ipykernel_launcher.py:21: SettingWithCopyWarning: \n",
            "A value is trying to be set on a copy of a slice from a DataFrame\n",
            "\n",
            "See the caveats in the documentation: https://pandas.pydata.org/pandas-docs/stable/user_guide/indexing.html#returning-a-view-versus-a-copy\n",
            "/usr/local/lib/python3.6/dist-packages/ipykernel_launcher.py:26: SettingWithCopyWarning: \n",
            "A value is trying to be set on a copy of a slice from a DataFrame\n",
            "\n",
            "See the caveats in the documentation: https://pandas.pydata.org/pandas-docs/stable/user_guide/indexing.html#returning-a-view-versus-a-copy\n"
          ],
          "name": "stderr"
        }
      ]
    },
    {
      "cell_type": "code",
      "metadata": {
        "id": "_XtSP6BZOXm5",
        "colab_type": "code",
        "colab": {
          "base_uri": "https://localhost:8080/",
          "height": 935
        },
        "outputId": "b5306d09-cfe6-4147-c0ae-afe3ab5459b0"
      },
      "source": [
        "#改new_test\n",
        "i=0\n",
        "for i in range(len(new_test['Sampling D Month'])):\n",
        "          if int(new_test['Sampling D Month'][i]) >=3 and int(new_test['Sampling D Month'][i])<=5:\n",
        "              new_test['Sampling D Month'][i] = \"Spring\"\n",
        "          elif int(new_test['Sampling D Month'][i]) >=6 and int(new_test['Sampling D Month'][i])<=8:\n",
        "              new_test['Sampling D Month'][i] = \"Summer\"\n",
        "          elif int(new_test['Sampling D Month'][i]) >=9 and int(new_test['Sampling D Month'][i])<=11:\n",
        "              new_test['Sampling D Month'][i] = \"Autumn\"\n",
        "          else:\n",
        "              new_test['Sampling D Month'][i] = \"Winter\"\n",
        "#改new_test的feedday以及babynum\n",
        "for i in range(len(new_test['ID'])):\n",
        "    if int(new_test['FeedDay'][i]) <=100:\n",
        "        new_test['cycle'][i] = 0\n",
        "    elif int(new_train['FeedDay'][i]) >=101 and int(new_test['FeedDay'][i]) <=200 :\n",
        "        new_test['cycle'][i] = 1\n",
        "    elif int(new_test['FeedDay'][i]) >=201 and int(new_test['FeedDay'][i]) <=305:\n",
        "        new_test['cycle'][i] = 2\n",
        "    else:\n",
        "        new_test['cycle'][i] = 2\n",
        "    if int(new_test['BabyNum'][i]) <=2:\n",
        "        new_test['tcalving number'][i] = 0\n",
        "    elif int(new_test['BabyNum'][i])>=7:\n",
        "        new_test['tcalving number'][i] = 2\n",
        "    else:\n",
        "        new_test['tcalving number'][i] = 1    \n",
        "#new_test"
      ],
      "execution_count": null,
      "outputs": [
        {
          "output_type": "stream",
          "text": [
            "/usr/local/lib/python3.6/dist-packages/ipykernel_launcher.py:11: SettingWithCopyWarning: \n",
            "A value is trying to be set on a copy of a slice from a DataFrame\n",
            "\n",
            "See the caveats in the documentation: https://pandas.pydata.org/pandas-docs/stable/user_guide/indexing.html#returning-a-view-versus-a-copy\n",
            "  # This is added back by InteractiveShellApp.init_path()\n",
            "/usr/local/lib/python3.6/dist-packages/pandas/core/indexing.py:671: SettingWithCopyWarning: \n",
            "A value is trying to be set on a copy of a slice from a DataFrame\n",
            "\n",
            "See the caveats in the documentation: https://pandas.pydata.org/pandas-docs/stable/user_guide/indexing.html#returning-a-view-versus-a-copy\n",
            "  self._setitem_with_indexer(indexer, value)\n",
            "/usr/local/lib/python3.6/dist-packages/ipykernel_launcher.py:7: SettingWithCopyWarning: \n",
            "A value is trying to be set on a copy of a slice from a DataFrame\n",
            "\n",
            "See the caveats in the documentation: https://pandas.pydata.org/pandas-docs/stable/user_guide/indexing.html#returning-a-view-versus-a-copy\n",
            "  import sys\n",
            "/usr/local/lib/python3.6/dist-packages/ipykernel_launcher.py:5: SettingWithCopyWarning: \n",
            "A value is trying to be set on a copy of a slice from a DataFrame\n",
            "\n",
            "See the caveats in the documentation: https://pandas.pydata.org/pandas-docs/stable/user_guide/indexing.html#returning-a-view-versus-a-copy\n",
            "  \"\"\"\n",
            "/usr/local/lib/python3.6/dist-packages/ipykernel_launcher.py:9: SettingWithCopyWarning: \n",
            "A value is trying to be set on a copy of a slice from a DataFrame\n",
            "\n",
            "See the caveats in the documentation: https://pandas.pydata.org/pandas-docs/stable/user_guide/indexing.html#returning-a-view-versus-a-copy\n",
            "  if __name__ == '__main__':\n",
            "/usr/local/lib/python3.6/dist-packages/ipykernel_launcher.py:21: SettingWithCopyWarning: \n",
            "A value is trying to be set on a copy of a slice from a DataFrame\n",
            "\n",
            "See the caveats in the documentation: https://pandas.pydata.org/pandas-docs/stable/user_guide/indexing.html#returning-a-view-versus-a-copy\n",
            "/usr/local/lib/python3.6/dist-packages/ipykernel_launcher.py:27: SettingWithCopyWarning: \n",
            "A value is trying to be set on a copy of a slice from a DataFrame\n",
            "\n",
            "See the caveats in the documentation: https://pandas.pydata.org/pandas-docs/stable/user_guide/indexing.html#returning-a-view-versus-a-copy\n",
            "/usr/local/lib/python3.6/dist-packages/ipykernel_launcher.py:15: SettingWithCopyWarning: \n",
            "A value is trying to be set on a copy of a slice from a DataFrame\n",
            "\n",
            "See the caveats in the documentation: https://pandas.pydata.org/pandas-docs/stable/user_guide/indexing.html#returning-a-view-versus-a-copy\n",
            "  from ipykernel import kernelapp as app\n",
            "/usr/local/lib/python3.6/dist-packages/ipykernel_launcher.py:23: SettingWithCopyWarning: \n",
            "A value is trying to be set on a copy of a slice from a DataFrame\n",
            "\n",
            "See the caveats in the documentation: https://pandas.pydata.org/pandas-docs/stable/user_guide/indexing.html#returning-a-view-versus-a-copy\n",
            "/usr/local/lib/python3.6/dist-packages/ipykernel_launcher.py:17: SettingWithCopyWarning: \n",
            "A value is trying to be set on a copy of a slice from a DataFrame\n",
            "\n",
            "See the caveats in the documentation: https://pandas.pydata.org/pandas-docs/stable/user_guide/indexing.html#returning-a-view-versus-a-copy\n",
            "/usr/local/lib/python3.6/dist-packages/ipykernel_launcher.py:19: SettingWithCopyWarning: \n",
            "A value is trying to be set on a copy of a slice from a DataFrame\n",
            "\n",
            "See the caveats in the documentation: https://pandas.pydata.org/pandas-docs/stable/user_guide/indexing.html#returning-a-view-versus-a-copy\n",
            "/usr/local/lib/python3.6/dist-packages/ipykernel_launcher.py:25: SettingWithCopyWarning: \n",
            "A value is trying to be set on a copy of a slice from a DataFrame\n",
            "\n",
            "See the caveats in the documentation: https://pandas.pydata.org/pandas-docs/stable/user_guide/indexing.html#returning-a-view-versus-a-copy\n"
          ],
          "name": "stderr"
        }
      ]
    },
    {
      "cell_type": "code",
      "metadata": {
        "id": "qeHtnt4bOZVQ",
        "colab_type": "code",
        "colab": {}
      },
      "source": [
        "new_train=new_train.fillna(0)\n",
        "new_test=new_test.fillna(0)"
      ],
      "execution_count": null,
      "outputs": []
    },
    {
      "cell_type": "code",
      "metadata": {
        "id": "9AqMIEL3ObQm",
        "colab_type": "code",
        "colab": {}
      },
      "source": [
        "##測試為毛y_test會有0的部分 ，勿管\n",
        "new_train_backup01 = new_train\n",
        "new_train_backup01\n",
        "y__tt=pd.DataFrame(data=new_train_backup01,columns=['ID','Milk'])\n",
        "#y__tt\n",
        "#print(y__tt.loc[[3427]])"
      ],
      "execution_count": null,
      "outputs": []
    },
    {
      "cell_type": "code",
      "metadata": {
        "id": "plSzSFvf_ONi",
        "colab_type": "code",
        "colab": {
          "base_uri": "https://localhost:8080/",
          "height": 221
        },
        "outputId": "2cd32961-1ae4-4ee3-b712-7f19c35c103a"
      },
      "source": [
        "y_fortest=new_test['Milk']\n",
        "y_fortest"
      ],
      "execution_count": null,
      "outputs": [
        {
          "output_type": "execute_result",
          "data": {
            "text/plain": [
              "0       40.0\n",
              "1       28.0\n",
              "2       12.0\n",
              "3       35.0\n",
              "4       28.8\n",
              "        ... \n",
              "6678    39.0\n",
              "6679    10.0\n",
              "6680    30.6\n",
              "6681    20.0\n",
              "6682    16.0\n",
              "Name: Milk, Length: 6683, dtype: float64"
            ]
          },
          "metadata": {
            "tags": []
          },
          "execution_count": 28
        }
      ]
    },
    {
      "cell_type": "code",
      "metadata": {
        "id": "LTpeS-6SOcbn",
        "colab_type": "code",
        "colab": {
          "base_uri": "https://localhost:8080/",
          "height": 221
        },
        "outputId": "de60d984-6313-4b0b-dd5e-b874ff32350a"
      },
      "source": [
        "y=new_train['Milk']\n",
        "y"
      ],
      "execution_count": null,
      "outputs": [
        {
          "output_type": "execute_result",
          "data": {
            "text/plain": [
              "0        20.0\n",
              "1        43.0\n",
              "2        24.0\n",
              "3        18.2\n",
              "4        10.0\n",
              "         ... \n",
              "26475    33.0\n",
              "26476    24.0\n",
              "26477    20.4\n",
              "26478    19.0\n",
              "26479    25.5\n",
              "Name: Milk, Length: 26480, dtype: float64"
            ]
          },
          "metadata": {
            "tags": []
          },
          "execution_count": 29
        }
      ]
    },
    {
      "cell_type": "code",
      "metadata": {
        "id": "WPuuyTrmOfty",
        "colab_type": "code",
        "colab": {}
      },
      "source": [
        "new_train_backup = new_train\n",
        "new_test_backup = new_test"
      ],
      "execution_count": null,
      "outputs": []
    },
    {
      "cell_type": "code",
      "metadata": {
        "id": "ooFKIIeGOg8o",
        "colab_type": "code",
        "colab": {}
      },
      "source": [
        "#挑選靠賽要訓練的資料\n",
        "new_train=pd.DataFrame(data=new_train_backup,columns=['firm','CowID','FeedDay','Age','BreedNum','T Max','THI','tcalving number','disease','Sampling D Month'])\n",
        "#new_train"
      ],
      "execution_count": null,
      "outputs": []
    },
    {
      "cell_type": "code",
      "metadata": {
        "id": "mLzp7n4uOha1",
        "colab_type": "code",
        "colab": {}
      },
      "source": [
        "new_test=pd.DataFrame(data=new_test_backup,columns=['firm','CowID','FeedDay','Age','BreedNum','T Max','THI','tcalving number','disease','Sampling D Month'])\n",
        "#new_test"
      ],
      "execution_count": null,
      "outputs": []
    },
    {
      "cell_type": "code",
      "metadata": {
        "id": "hNTI_rKoOigv",
        "colab_type": "code",
        "colab": {}
      },
      "source": [
        "#把要one hot的類別轉換成數字\n",
        "from sklearn.preprocessing import LabelEncoder\n",
        "labelencoder = LabelEncoder()\n",
        "all_data=pd.concat([new_train,new_test])\n",
        "#all_data['3'] = labelencoder.fit_transform(all_data['3'])\n",
        "all_data['CowID'] = labelencoder.fit_transform(all_data['CowID'])\n",
        "#all_data['MomID'] = labelencoder.fit_transform(all_data['MomID'])\n",
        "#all_data['DadID'] = labelencoder.fit_transform(all_data['DadID'])\n",
        "all_data['Sampling D Month'] = labelencoder.fit_transform(all_data['Sampling D Month'])\n",
        "new_train = all_data[0:len(new_train)]\n",
        "new_test = all_data[len(new_train)::]\n",
        "all_data=pd.concat([new_train,new_test])\n",
        "X=new_train"
      ],
      "execution_count": null,
      "outputs": []
    },
    {
      "cell_type": "code",
      "metadata": {
        "id": "DPvPGadmOj6C",
        "colab_type": "code",
        "colab": {
          "base_uri": "https://localhost:8080/",
          "height": 419
        },
        "outputId": "597a088b-3143-43ba-e6a6-26349ca7fa43"
      },
      "source": [
        "all_data"
      ],
      "execution_count": null,
      "outputs": [
        {
          "output_type": "execute_result",
          "data": {
            "text/html": [
              "<div>\n",
              "<style scoped>\n",
              "    .dataframe tbody tr th:only-of-type {\n",
              "        vertical-align: middle;\n",
              "    }\n",
              "\n",
              "    .dataframe tbody tr th {\n",
              "        vertical-align: top;\n",
              "    }\n",
              "\n",
              "    .dataframe thead th {\n",
              "        text-align: right;\n",
              "    }\n",
              "</style>\n",
              "<table border=\"1\" class=\"dataframe\">\n",
              "  <thead>\n",
              "    <tr style=\"text-align: right;\">\n",
              "      <th></th>\n",
              "      <th>firm</th>\n",
              "      <th>CowID</th>\n",
              "      <th>FeedDay</th>\n",
              "      <th>Age</th>\n",
              "      <th>BreedNum</th>\n",
              "      <th>T Max</th>\n",
              "      <th>THI</th>\n",
              "      <th>tcalving number</th>\n",
              "      <th>disease</th>\n",
              "      <th>Sampling D Month</th>\n",
              "    </tr>\n",
              "  </thead>\n",
              "  <tbody>\n",
              "    <tr>\n",
              "      <th>0</th>\n",
              "      <td>2</td>\n",
              "      <td>728</td>\n",
              "      <td>55</td>\n",
              "      <td>30</td>\n",
              "      <td>2</td>\n",
              "      <td>27.826169</td>\n",
              "      <td>22.850519</td>\n",
              "      <td>0.0</td>\n",
              "      <td>1.0</td>\n",
              "      <td>2</td>\n",
              "    </tr>\n",
              "    <tr>\n",
              "      <th>1</th>\n",
              "      <td>2</td>\n",
              "      <td>736</td>\n",
              "      <td>62</td>\n",
              "      <td>38</td>\n",
              "      <td>1</td>\n",
              "      <td>34.900000</td>\n",
              "      <td>27.093337</td>\n",
              "      <td>0.0</td>\n",
              "      <td>0.0</td>\n",
              "      <td>1</td>\n",
              "    </tr>\n",
              "    <tr>\n",
              "      <th>2</th>\n",
              "      <td>2</td>\n",
              "      <td>781</td>\n",
              "      <td>11</td>\n",
              "      <td>27</td>\n",
              "      <td>0</td>\n",
              "      <td>23.800000</td>\n",
              "      <td>21.498437</td>\n",
              "      <td>0.0</td>\n",
              "      <td>0.0</td>\n",
              "      <td>0</td>\n",
              "    </tr>\n",
              "    <tr>\n",
              "      <th>3</th>\n",
              "      <td>1</td>\n",
              "      <td>388</td>\n",
              "      <td>290</td>\n",
              "      <td>57</td>\n",
              "      <td>7</td>\n",
              "      <td>15.700000</td>\n",
              "      <td>12.100133</td>\n",
              "      <td>0.0</td>\n",
              "      <td>0.0</td>\n",
              "      <td>1</td>\n",
              "    </tr>\n",
              "    <tr>\n",
              "      <th>4</th>\n",
              "      <td>2</td>\n",
              "      <td>189</td>\n",
              "      <td>156</td>\n",
              "      <td>55</td>\n",
              "      <td>1</td>\n",
              "      <td>20.200000</td>\n",
              "      <td>17.597478</td>\n",
              "      <td>0.0</td>\n",
              "      <td>0.0</td>\n",
              "      <td>3</td>\n",
              "    </tr>\n",
              "    <tr>\n",
              "      <th>...</th>\n",
              "      <td>...</td>\n",
              "      <td>...</td>\n",
              "      <td>...</td>\n",
              "      <td>...</td>\n",
              "      <td>...</td>\n",
              "      <td>...</td>\n",
              "      <td>...</td>\n",
              "      <td>...</td>\n",
              "      <td>...</td>\n",
              "      <td>...</td>\n",
              "    </tr>\n",
              "    <tr>\n",
              "      <th>6678</th>\n",
              "      <td>2</td>\n",
              "      <td>280</td>\n",
              "      <td>18</td>\n",
              "      <td>42</td>\n",
              "      <td>0</td>\n",
              "      <td>34.900000</td>\n",
              "      <td>29.323086</td>\n",
              "      <td>1.0</td>\n",
              "      <td>0.0</td>\n",
              "      <td>2</td>\n",
              "    </tr>\n",
              "    <tr>\n",
              "      <th>6679</th>\n",
              "      <td>2</td>\n",
              "      <td>1790</td>\n",
              "      <td>508</td>\n",
              "      <td>52</td>\n",
              "      <td>4</td>\n",
              "      <td>34.800000</td>\n",
              "      <td>28.814617</td>\n",
              "      <td>0.0</td>\n",
              "      <td>0.0</td>\n",
              "      <td>2</td>\n",
              "    </tr>\n",
              "    <tr>\n",
              "      <th>6680</th>\n",
              "      <td>2</td>\n",
              "      <td>1555</td>\n",
              "      <td>158</td>\n",
              "      <td>62</td>\n",
              "      <td>1</td>\n",
              "      <td>34.400000</td>\n",
              "      <td>27.200232</td>\n",
              "      <td>1.0</td>\n",
              "      <td>0.0</td>\n",
              "      <td>1</td>\n",
              "    </tr>\n",
              "    <tr>\n",
              "      <th>6681</th>\n",
              "      <td>2</td>\n",
              "      <td>466</td>\n",
              "      <td>9</td>\n",
              "      <td>22</td>\n",
              "      <td>0</td>\n",
              "      <td>19.500000</td>\n",
              "      <td>16.578618</td>\n",
              "      <td>0.0</td>\n",
              "      <td>1.0</td>\n",
              "      <td>3</td>\n",
              "    </tr>\n",
              "    <tr>\n",
              "      <th>6682</th>\n",
              "      <td>2</td>\n",
              "      <td>980</td>\n",
              "      <td>204</td>\n",
              "      <td>32</td>\n",
              "      <td>4</td>\n",
              "      <td>25.900000</td>\n",
              "      <td>20.509629</td>\n",
              "      <td>0.0</td>\n",
              "      <td>0.0</td>\n",
              "      <td>1</td>\n",
              "    </tr>\n",
              "  </tbody>\n",
              "</table>\n",
              "<p>33163 rows × 10 columns</p>\n",
              "</div>"
            ],
            "text/plain": [
              "      firm  CowID  FeedDay  ...  tcalving number  disease  Sampling D Month\n",
              "0        2    728       55  ...              0.0      1.0                 2\n",
              "1        2    736       62  ...              0.0      0.0                 1\n",
              "2        2    781       11  ...              0.0      0.0                 0\n",
              "3        1    388      290  ...              0.0      0.0                 1\n",
              "4        2    189      156  ...              0.0      0.0                 3\n",
              "...    ...    ...      ...  ...              ...      ...               ...\n",
              "6678     2    280       18  ...              1.0      0.0                 2\n",
              "6679     2   1790      508  ...              0.0      0.0                 2\n",
              "6680     2   1555      158  ...              1.0      0.0                 1\n",
              "6681     2    466        9  ...              0.0      1.0                 3\n",
              "6682     2    980      204  ...              0.0      0.0                 1\n",
              "\n",
              "[33163 rows x 10 columns]"
            ]
          },
          "metadata": {
            "tags": []
          },
          "execution_count": 34
        }
      ]
    },
    {
      "cell_type": "code",
      "metadata": {
        "id": "_ZaaNOl2OpGQ",
        "colab_type": "code",
        "colab": {}
      },
      "source": [
        "X=X.values\n",
        "X = X.astype('float32')\n",
        "scaler = MinMaxScaler(feature_range=(0, 1))\n",
        "X = scaler.fit_transform(X)\n",
        "y=y.values"
      ],
      "execution_count": null,
      "outputs": []
    },
    {
      "cell_type": "code",
      "metadata": {
        "id": "GWd6pyJkSIA9",
        "colab_type": "code",
        "colab": {
          "base_uri": "https://localhost:8080/",
          "height": 238
        },
        "outputId": "812a72ea-6bb8-4c2e-9eeb-018ca828389d"
      },
      "source": [
        "X"
      ],
      "execution_count": null,
      "outputs": [
        {
          "output_type": "execute_result",
          "data": {
            "text/plain": [
              "array([[0.5       , 0.40066043, 0.03020134, ..., 0.        , 1.        ,\n",
              "        0.6666667 ],\n",
              "       [0.5       , 0.4050633 , 0.03411633, ..., 0.        , 0.        ,\n",
              "        0.33333334],\n",
              "       [0.5       , 0.4298294 , 0.00559284, ..., 0.        , 0.        ,\n",
              "        0.        ],\n",
              "       ...,\n",
              "       [0.5       , 0.0820033 , 0.02013423, ..., 0.        , 0.        ,\n",
              "        1.        ],\n",
              "       [0.        , 0.14034122, 0.04026845, ..., 0.        , 0.        ,\n",
              "        0.6666667 ],\n",
              "       [0.        , 0.8090259 , 0.17897092, ..., 0.5       , 0.        ,\n",
              "        0.6666667 ]], dtype=float32)"
            ]
          },
          "metadata": {
            "tags": []
          },
          "execution_count": 36
        }
      ]
    },
    {
      "cell_type": "code",
      "metadata": {
        "id": "cj4Cpx3_-HPK",
        "colab_type": "code",
        "colab": {}
      },
      "source": [
        "x_train,x_test,y_train,y_test=train_test_split(X,y,test_size=0.1,random_state=42)\n",
        "#random_state為02.ipynb"
      ],
      "execution_count": null,
      "outputs": []
    },
    {
      "cell_type": "code",
      "metadata": {
        "id": "SsP2Se_z-IzP",
        "colab_type": "code",
        "colab": {
          "base_uri": "https://localhost:8080/",
          "height": 85
        },
        "outputId": "ff78e825-aba3-4099-b15c-573b0e3adce3"
      },
      "source": [
        "print(\"Please show me the shape of x_train:\",x_train.shape)\n",
        "print(\"Please show me the shape of x_test:\",x_test.shape)\n",
        "print(\"Please show me the shape of y_train:\",y_train.shape)\n",
        "print(\"Please show me the shape of y_test:\",y_test.shape)"
      ],
      "execution_count": null,
      "outputs": [
        {
          "output_type": "stream",
          "text": [
            "Please show me the shape of x_train: (23832, 10)\n",
            "Please show me the shape of x_test: (2648, 10)\n",
            "Please show me the shape of y_train: (23832,)\n",
            "Please show me the shape of y_test: (2648,)\n"
          ],
          "name": "stdout"
        }
      ]
    },
    {
      "cell_type": "code",
      "metadata": {
        "id": "Hnkk7bxDO89G",
        "colab_type": "code",
        "colab": {}
      },
      "source": [
        "from keras import backend as K\n",
        "def rmse(y_pred, y_true):\n",
        "    return K.sqrt(K.mean(K.square(y_pred - y_true)))"
      ],
      "execution_count": null,
      "outputs": []
    },
    {
      "cell_type": "code",
      "metadata": {
        "id": "Kv7RvMvJ-Q9T",
        "colab_type": "code",
        "colab": {
          "base_uri": "https://localhost:8080/",
          "height": 51
        },
        "outputId": "5e97f7c9-b5a6-4c41-a7ef-1b127fea2b49"
      },
      "source": [
        "from sklearn.model_selection import KFold\n",
        "from keras import regularizers\n",
        "from matplotlib import pyplot\n",
        "from keras import optimizers\n",
        "import keras\n",
        "from keras.callbacks import ReduceLROnPlateau\n",
        "count=1\n",
        "trainacc=0\n",
        "testacc=0\n",
        "keras.initializers.RandomNormal(mean=0.0, stddev=0.05, seed=None)\n",
        "print(\"y_test:\") #看每次y_test一不一樣\n",
        "print(y_test)"
      ],
      "execution_count": null,
      "outputs": [
        {
          "output_type": "stream",
          "text": [
            "y_test:\n",
            "[20.9 19.  18.  ... 16.  39.  26. ]\n"
          ],
          "name": "stdout"
        }
      ]
    },
    {
      "cell_type": "code",
      "metadata": {
        "id": "vfrQHPnWAl8s",
        "colab_type": "code",
        "colab": {
          "base_uri": "https://localhost:8080/",
          "height": 51
        },
        "outputId": "1d74a4a4-a6f0-48dc-af52-da7c3580c8dc"
      },
      "source": [
        "print(\"y_train:\") #看每次y_train一不一樣\n",
        "print(y_train)"
      ],
      "execution_count": null,
      "outputs": [
        {
          "output_type": "stream",
          "text": [
            "y_train:\n",
            "[29.  35.  21.  ... 20.  23.5 19. ]\n"
          ],
          "name": "stdout"
        }
      ]
    },
    {
      "cell_type": "code",
      "metadata": {
        "id": "uMzNkYwQ-SIa",
        "colab_type": "code",
        "colab": {}
      },
      "source": [
        "x_train = np.reshape(x_train,(x_train.shape[0],1,x_train.shape[1]))#做成三維\n",
        "x_test = np.reshape(x_test,(x_test.shape[0],1,x_test.shape[1]))"
      ],
      "execution_count": null,
      "outputs": []
    },
    {
      "cell_type": "code",
      "metadata": {
        "id": "Tj00-1KuKE1j",
        "colab_type": "code",
        "colab": {
          "base_uri": "https://localhost:8080/",
          "height": 1000
        },
        "outputId": "d094a799-9d0c-4d95-c4cd-c3bb00ef590e"
      },
      "source": [
        "from keras.layers import GRU\n",
        "model = Sequential()#LSTM\n",
        "model.add(GRU(50, input_shape=(1,10),return_sequences=True))\n",
        "model.add(Dropout(0.02))\n",
        "model.add(GRU(50,return_sequences=True))\n",
        "model.add(Dropout(0.02))\n",
        "model.add(GRU(50,return_sequences=True))\n",
        "model.add(Dropout(0.02))\n",
        "model.add(GRU(50))\n",
        "model.add(Dropout(0.02))\n",
        "model.add(Dense(1))\n",
        "model.compile(loss=rmse, optimizer='adam',metrics=[rmse])\n",
        "#reduce_lr = ReduceLROnPlateau(monitor='val_loss', factor=0.2, patience=5, min_lr=0.001)\n",
        "history=model.fit(x_train, y_train, epochs=100,validation_data=(x_test, y_test), batch_size=32, verbose=1)#epochs要改回1000\n",
        "\n",
        "Predicts = model.predict(x_train)#TrainRMSE\n",
        "testScore = math.sqrt(mean_squared_error(y_train, Predicts))\n",
        "print('Train Score: %.2f RMSE' % (testScore))\n",
        "    \n",
        "\n",
        "Predict = model.predict(x_test)#TestRMSE\n",
        "testScore = math.sqrt(mean_squared_error(y_test, Predict))\n",
        "print('Test Score: %.2f RMSE' % (testScore))\n",
        "print(Predict)\n"
      ],
      "execution_count": null,
      "outputs": [
        {
          "output_type": "stream",
          "text": [
            "Train on 23832 samples, validate on 2648 samples\n",
            "Epoch 1/100\n",
            "23832/23832 [==============================] - 23s 976us/step - loss: 10.2495 - rmse: 10.2496 - val_loss: 8.4945 - val_rmse: 8.4951\n",
            "Epoch 2/100\n",
            "23832/23832 [==============================] - 21s 881us/step - loss: 8.6694 - rmse: 8.6692 - val_loss: 8.4944 - val_rmse: 8.4950\n",
            "Epoch 3/100\n",
            "23832/23832 [==============================] - 21s 875us/step - loss: 8.6537 - rmse: 8.6532 - val_loss: 8.4951 - val_rmse: 8.4956\n",
            "Epoch 4/100\n",
            "23832/23832 [==============================] - 22s 907us/step - loss: 8.6609 - rmse: 8.6614 - val_loss: 8.4989 - val_rmse: 8.5000\n",
            "Epoch 5/100\n",
            "23832/23832 [==============================] - 21s 877us/step - loss: 8.6589 - rmse: 8.6585 - val_loss: 8.4940 - val_rmse: 8.4945\n",
            "Epoch 6/100\n",
            "23832/23832 [==============================] - 22s 924us/step - loss: 8.6628 - rmse: 8.6622 - val_loss: 8.4939 - val_rmse: 8.4948\n",
            "Epoch 7/100\n",
            "23832/23832 [==============================] - 21s 869us/step - loss: 8.3515 - rmse: 8.3515 - val_loss: 7.4093 - val_rmse: 7.4137\n",
            "Epoch 8/100\n",
            "23832/23832 [==============================] - 21s 881us/step - loss: 7.0095 - rmse: 7.0093 - val_loss: 6.5782 - val_rmse: 6.5822\n",
            "Epoch 9/100\n",
            "23832/23832 [==============================] - 21s 870us/step - loss: 6.7025 - rmse: 6.7024 - val_loss: 6.4723 - val_rmse: 6.4771\n",
            "Epoch 10/100\n",
            "23832/23832 [==============================] - 21s 902us/step - loss: 6.6455 - rmse: 6.6452 - val_loss: 6.4809 - val_rmse: 6.4863\n",
            "Epoch 11/100\n",
            "23832/23832 [==============================] - 21s 869us/step - loss: 6.5884 - rmse: 6.5882 - val_loss: 6.4270 - val_rmse: 6.4316\n",
            "Epoch 12/100\n",
            "23832/23832 [==============================] - 21s 882us/step - loss: 6.4786 - rmse: 6.4793 - val_loss: 6.2263 - val_rmse: 6.2306\n",
            "Epoch 13/100\n",
            "23832/23832 [==============================] - 21s 893us/step - loss: 6.3624 - rmse: 6.3626 - val_loss: 6.1514 - val_rmse: 6.1562\n",
            "Epoch 14/100\n",
            "23832/23832 [==============================] - 21s 895us/step - loss: 6.3109 - rmse: 6.3106 - val_loss: 6.1080 - val_rmse: 6.1123\n",
            "Epoch 15/100\n",
            "23832/23832 [==============================] - 22s 927us/step - loss: 6.2972 - rmse: 6.2974 - val_loss: 6.1239 - val_rmse: 6.1291\n",
            "Epoch 16/100\n",
            "23832/23832 [==============================] - 21s 900us/step - loss: 6.2677 - rmse: 6.2680 - val_loss: 6.0897 - val_rmse: 6.0939\n",
            "Epoch 17/100\n",
            "23832/23832 [==============================] - 22s 906us/step - loss: 6.2730 - rmse: 6.2739 - val_loss: 6.1080 - val_rmse: 6.1128\n",
            "Epoch 18/100\n",
            "23832/23832 [==============================] - 21s 863us/step - loss: 6.2712 - rmse: 6.2715 - val_loss: 6.1741 - val_rmse: 6.1786\n",
            "Epoch 19/100\n",
            "23832/23832 [==============================] - 21s 891us/step - loss: 6.2478 - rmse: 6.2480 - val_loss: 6.0868 - val_rmse: 6.0912\n",
            "Epoch 20/100\n",
            "23832/23832 [==============================] - 21s 873us/step - loss: 6.2341 - rmse: 6.2335 - val_loss: 6.0900 - val_rmse: 6.0942\n",
            "Epoch 21/100\n",
            "23832/23832 [==============================] - 21s 893us/step - loss: 6.2212 - rmse: 6.2215 - val_loss: 6.1856 - val_rmse: 6.1912\n",
            "Epoch 22/100\n",
            "23832/23832 [==============================] - 21s 861us/step - loss: 6.2244 - rmse: 6.2240 - val_loss: 6.0486 - val_rmse: 6.0532\n",
            "Epoch 23/100\n",
            "23832/23832 [==============================] - 21s 870us/step - loss: 6.2082 - rmse: 6.2085 - val_loss: 6.0734 - val_rmse: 6.0782\n",
            "Epoch 24/100\n",
            "23832/23832 [==============================] - 22s 926us/step - loss: 6.2165 - rmse: 6.2163 - val_loss: 6.0570 - val_rmse: 6.0619\n",
            "Epoch 25/100\n",
            "23832/23832 [==============================] - 22s 917us/step - loss: 6.2238 - rmse: 6.2234 - val_loss: 6.0891 - val_rmse: 6.0942\n",
            "Epoch 26/100\n",
            "23832/23832 [==============================] - 21s 878us/step - loss: 6.2021 - rmse: 6.2025 - val_loss: 6.1087 - val_rmse: 6.1125\n",
            "Epoch 27/100\n",
            "23832/23832 [==============================] - 21s 888us/step - loss: 6.2069 - rmse: 6.2072 - val_loss: 6.0609 - val_rmse: 6.0659\n",
            "Epoch 28/100\n",
            "23832/23832 [==============================] - 21s 900us/step - loss: 6.2066 - rmse: 6.2065 - val_loss: 6.0291 - val_rmse: 6.0338\n",
            "Epoch 29/100\n",
            "23832/23832 [==============================] - 21s 869us/step - loss: 6.1963 - rmse: 6.1967 - val_loss: 6.0570 - val_rmse: 6.0622\n",
            "Epoch 30/100\n",
            "23832/23832 [==============================] - 20s 859us/step - loss: 6.1917 - rmse: 6.1918 - val_loss: 6.0615 - val_rmse: 6.0664\n",
            "Epoch 31/100\n",
            "23832/23832 [==============================] - 20s 857us/step - loss: 6.1732 - rmse: 6.1737 - val_loss: 6.1264 - val_rmse: 6.1325\n",
            "Epoch 32/100\n",
            "23832/23832 [==============================] - 20s 856us/step - loss: 6.1762 - rmse: 6.1761 - val_loss: 6.0670 - val_rmse: 6.0719\n",
            "Epoch 33/100\n",
            "23832/23832 [==============================] - 22s 904us/step - loss: 6.1808 - rmse: 6.1802 - val_loss: 6.0701 - val_rmse: 6.0753\n",
            "Epoch 34/100\n",
            "23832/23832 [==============================] - 21s 863us/step - loss: 6.1747 - rmse: 6.1745 - val_loss: 6.0217 - val_rmse: 6.0271\n",
            "Epoch 35/100\n",
            "23832/23832 [==============================] - 21s 872us/step - loss: 6.1546 - rmse: 6.1547 - val_loss: 6.0746 - val_rmse: 6.0799\n",
            "Epoch 36/100\n",
            "23832/23832 [==============================] - 22s 920us/step - loss: 6.1700 - rmse: 6.1697 - val_loss: 6.0166 - val_rmse: 6.0209\n",
            "Epoch 37/100\n",
            "23832/23832 [==============================] - 21s 860us/step - loss: 6.1678 - rmse: 6.1677 - val_loss: 6.1170 - val_rmse: 6.1225\n",
            "Epoch 38/100\n",
            "23832/23832 [==============================] - 21s 883us/step - loss: 6.1529 - rmse: 6.1532 - val_loss: 6.0146 - val_rmse: 6.0200\n",
            "Epoch 39/100\n",
            "23832/23832 [==============================] - 21s 871us/step - loss: 6.1415 - rmse: 6.1410 - val_loss: 6.0432 - val_rmse: 6.0472\n",
            "Epoch 40/100\n",
            "23832/23832 [==============================] - 20s 859us/step - loss: 6.1571 - rmse: 6.1572 - val_loss: 6.0260 - val_rmse: 6.0311\n",
            "Epoch 41/100\n",
            "23832/23832 [==============================] - 20s 848us/step - loss: 6.1436 - rmse: 6.1435 - val_loss: 6.1106 - val_rmse: 6.1165\n",
            "Epoch 42/100\n",
            "23832/23832 [==============================] - 21s 880us/step - loss: 6.1361 - rmse: 6.1363 - val_loss: 6.0349 - val_rmse: 6.0386\n",
            "Epoch 43/100\n",
            "23832/23832 [==============================] - 21s 864us/step - loss: 6.1373 - rmse: 6.1372 - val_loss: 6.0360 - val_rmse: 6.0413\n",
            "Epoch 44/100\n",
            "23832/23832 [==============================] - 20s 840us/step - loss: 6.1328 - rmse: 6.1324 - val_loss: 6.0120 - val_rmse: 6.0170\n",
            "Epoch 45/100\n",
            "23832/23832 [==============================] - 21s 877us/step - loss: 6.1468 - rmse: 6.1465 - val_loss: 6.0332 - val_rmse: 6.0380\n",
            "Epoch 46/100\n",
            "23832/23832 [==============================] - 21s 875us/step - loss: 6.1310 - rmse: 6.1314 - val_loss: 6.0282 - val_rmse: 6.0330\n",
            "Epoch 47/100\n",
            "23832/23832 [==============================] - 21s 878us/step - loss: 6.1305 - rmse: 6.1303 - val_loss: 6.0269 - val_rmse: 6.0320\n",
            "Epoch 48/100\n",
            "23832/23832 [==============================] - 20s 857us/step - loss: 6.1173 - rmse: 6.1176 - val_loss: 6.0797 - val_rmse: 6.0845\n",
            "Epoch 49/100\n",
            "23832/23832 [==============================] - 21s 887us/step - loss: 6.1263 - rmse: 6.1255 - val_loss: 6.0328 - val_rmse: 6.0368\n",
            "Epoch 50/100\n",
            "23832/23832 [==============================] - 21s 884us/step - loss: 6.1175 - rmse: 6.1181 - val_loss: 6.0185 - val_rmse: 6.0229\n",
            "Epoch 51/100\n",
            "23832/23832 [==============================] - 21s 898us/step - loss: 6.1185 - rmse: 6.1190 - val_loss: 6.0007 - val_rmse: 6.0054\n",
            "Epoch 52/100\n",
            "23832/23832 [==============================] - 20s 855us/step - loss: 6.1046 - rmse: 6.1048 - val_loss: 5.9894 - val_rmse: 5.9949\n",
            "Epoch 53/100\n",
            "23832/23832 [==============================] - 21s 864us/step - loss: 6.1089 - rmse: 6.1093 - val_loss: 6.0344 - val_rmse: 6.0393\n",
            "Epoch 54/100\n",
            "23832/23832 [==============================] - 21s 869us/step - loss: 6.1061 - rmse: 6.1063 - val_loss: 5.9766 - val_rmse: 5.9809\n",
            "Epoch 55/100\n",
            "23832/23832 [==============================] - 22s 913us/step - loss: 6.0890 - rmse: 6.0904 - val_loss: 5.9917 - val_rmse: 5.9967\n",
            "Epoch 56/100\n",
            "23832/23832 [==============================] - 20s 844us/step - loss: 6.0920 - rmse: 6.0918 - val_loss: 6.0898 - val_rmse: 6.0943\n",
            "Epoch 57/100\n",
            "23832/23832 [==============================] - 21s 898us/step - loss: 6.0849 - rmse: 6.0846 - val_loss: 5.9955 - val_rmse: 5.9999\n",
            "Epoch 58/100\n",
            "23832/23832 [==============================] - 21s 882us/step - loss: 6.0970 - rmse: 6.0974 - val_loss: 5.9770 - val_rmse: 5.9813\n",
            "Epoch 59/100\n",
            "23832/23832 [==============================] - 20s 854us/step - loss: 6.1025 - rmse: 6.1028 - val_loss: 6.0477 - val_rmse: 6.0513\n",
            "Epoch 60/100\n",
            "23832/23832 [==============================] - 21s 874us/step - loss: 6.0724 - rmse: 6.0722 - val_loss: 6.0511 - val_rmse: 6.0562\n",
            "Epoch 61/100\n",
            "23832/23832 [==============================] - 21s 887us/step - loss: 6.0689 - rmse: 6.0686 - val_loss: 5.9970 - val_rmse: 6.0025\n",
            "Epoch 62/100\n",
            "23832/23832 [==============================] - 21s 899us/step - loss: 6.0657 - rmse: 6.0653 - val_loss: 5.9843 - val_rmse: 5.9890\n",
            "Epoch 63/100\n",
            "23832/23832 [==============================] - 21s 882us/step - loss: 6.0716 - rmse: 6.0716 - val_loss: 5.9741 - val_rmse: 5.9783\n",
            "Epoch 64/100\n",
            "23832/23832 [==============================] - 21s 871us/step - loss: 6.0627 - rmse: 6.0626 - val_loss: 5.9856 - val_rmse: 5.9905\n",
            "Epoch 65/100\n",
            "23832/23832 [==============================] - 21s 896us/step - loss: 6.0537 - rmse: 6.0541 - val_loss: 6.0033 - val_rmse: 6.0086\n",
            "Epoch 66/100\n",
            "23832/23832 [==============================] - 21s 892us/step - loss: 6.0478 - rmse: 6.0477 - val_loss: 5.9451 - val_rmse: 5.9494\n",
            "Epoch 67/100\n",
            "23832/23832 [==============================] - 20s 847us/step - loss: 6.0595 - rmse: 6.0594 - val_loss: 5.9897 - val_rmse: 5.9944\n",
            "Epoch 68/100\n",
            "23832/23832 [==============================] - 21s 884us/step - loss: 6.0511 - rmse: 6.0521 - val_loss: 6.0014 - val_rmse: 6.0059\n",
            "Epoch 69/100\n",
            "23832/23832 [==============================] - 21s 877us/step - loss: 6.0457 - rmse: 6.0455 - val_loss: 5.9495 - val_rmse: 5.9538\n",
            "Epoch 70/100\n",
            "23832/23832 [==============================] - 21s 863us/step - loss: 6.0533 - rmse: 6.0530 - val_loss: 5.9865 - val_rmse: 5.9911\n",
            "Epoch 71/100\n",
            "23832/23832 [==============================] - 20s 839us/step - loss: 6.0479 - rmse: 6.0485 - val_loss: 5.9679 - val_rmse: 5.9715\n",
            "Epoch 72/100\n",
            "23832/23832 [==============================] - 21s 879us/step - loss: 6.0476 - rmse: 6.0476 - val_loss: 6.1282 - val_rmse: 6.1330\n",
            "Epoch 73/100\n",
            "23832/23832 [==============================] - 20s 832us/step - loss: 6.0477 - rmse: 6.0478 - val_loss: 6.0111 - val_rmse: 6.0154\n",
            "Epoch 74/100\n",
            "23832/23832 [==============================] - 21s 868us/step - loss: 6.0355 - rmse: 6.0357 - val_loss: 5.9823 - val_rmse: 5.9865\n",
            "Epoch 75/100\n",
            "23832/23832 [==============================] - 21s 893us/step - loss: 6.0467 - rmse: 6.0465 - val_loss: 5.9895 - val_rmse: 5.9942\n",
            "Epoch 76/100\n",
            "23832/23832 [==============================] - 22s 905us/step - loss: 6.0416 - rmse: 6.0414 - val_loss: 6.0454 - val_rmse: 6.0502\n",
            "Epoch 77/100\n",
            "23832/23832 [==============================] - 22s 906us/step - loss: 6.0283 - rmse: 6.0282 - val_loss: 6.0265 - val_rmse: 6.0304\n",
            "Epoch 78/100\n",
            "23832/23832 [==============================] - 20s 840us/step - loss: 6.0378 - rmse: 6.0378 - val_loss: 5.9548 - val_rmse: 5.9583\n",
            "Epoch 79/100\n",
            "23832/23832 [==============================] - 22s 912us/step - loss: 6.0288 - rmse: 6.0290 - val_loss: 5.9581 - val_rmse: 5.9623\n",
            "Epoch 80/100\n",
            "23832/23832 [==============================] - 22s 914us/step - loss: 6.0231 - rmse: 6.0233 - val_loss: 5.9948 - val_rmse: 5.9992\n",
            "Epoch 81/100\n",
            "23832/23832 [==============================] - 22s 906us/step - loss: 6.0283 - rmse: 6.0278 - val_loss: 5.9819 - val_rmse: 5.9864\n",
            "Epoch 82/100\n",
            "23832/23832 [==============================] - 20s 843us/step - loss: 6.0208 - rmse: 6.0207 - val_loss: 5.9685 - val_rmse: 5.9733\n",
            "Epoch 83/100\n",
            "23832/23832 [==============================] - 21s 883us/step - loss: 6.0165 - rmse: 6.0169 - val_loss: 5.9964 - val_rmse: 6.0016\n",
            "Epoch 84/100\n",
            "23832/23832 [==============================] - 20s 848us/step - loss: 6.0171 - rmse: 6.0179 - val_loss: 5.9470 - val_rmse: 5.9508\n",
            "Epoch 85/100\n",
            "23832/23832 [==============================] - 20s 854us/step - loss: 6.0085 - rmse: 6.0083 - val_loss: 5.9656 - val_rmse: 5.9706\n",
            "Epoch 86/100\n",
            "23832/23832 [==============================] - 21s 880us/step - loss: 5.9985 - rmse: 5.9988 - val_loss: 5.9693 - val_rmse: 5.9734\n",
            "Epoch 87/100\n",
            "23832/23832 [==============================] - 21s 893us/step - loss: 5.9996 - rmse: 6.0003 - val_loss: 5.9426 - val_rmse: 5.9466\n",
            "Epoch 88/100\n",
            "23832/23832 [==============================] - 21s 875us/step - loss: 6.0153 - rmse: 6.0149 - val_loss: 5.9370 - val_rmse: 5.9418\n",
            "Epoch 89/100\n",
            "23832/23832 [==============================] - 23s 956us/step - loss: 5.9969 - rmse: 5.9967 - val_loss: 6.0958 - val_rmse: 6.1002\n",
            "Epoch 90/100\n",
            "23832/23832 [==============================] - 21s 871us/step - loss: 5.9955 - rmse: 5.9953 - val_loss: 5.9908 - val_rmse: 5.9971\n",
            "Epoch 91/100\n",
            "23832/23832 [==============================] - 21s 898us/step - loss: 5.9920 - rmse: 5.9923 - val_loss: 5.9556 - val_rmse: 5.9595\n",
            "Epoch 92/100\n",
            "23832/23832 [==============================] - 21s 867us/step - loss: 5.9885 - rmse: 5.9886 - val_loss: 5.9732 - val_rmse: 5.9783\n",
            "Epoch 93/100\n",
            "23832/23832 [==============================] - 22s 902us/step - loss: 6.0104 - rmse: 6.0100 - val_loss: 5.9812 - val_rmse: 5.9855\n",
            "Epoch 94/100\n",
            "23832/23832 [==============================] - 21s 861us/step - loss: 6.0090 - rmse: 6.0094 - val_loss: 5.9494 - val_rmse: 5.9533\n",
            "Epoch 95/100\n",
            "23832/23832 [==============================] - 23s 968us/step - loss: 5.9962 - rmse: 5.9958 - val_loss: 5.9690 - val_rmse: 5.9737\n",
            "Epoch 96/100\n",
            "23832/23832 [==============================] - 20s 846us/step - loss: 5.9824 - rmse: 5.9827 - val_loss: 5.9343 - val_rmse: 5.9380\n",
            "Epoch 97/100\n",
            "23832/23832 [==============================] - 20s 849us/step - loss: 5.9893 - rmse: 5.9897 - val_loss: 5.9586 - val_rmse: 5.9632\n",
            "Epoch 98/100\n",
            "23832/23832 [==============================] - 21s 889us/step - loss: 5.9927 - rmse: 5.9927 - val_loss: 5.9538 - val_rmse: 5.9590\n",
            "Epoch 99/100\n",
            "23832/23832 [==============================] - 21s 883us/step - loss: 5.9769 - rmse: 5.9766 - val_loss: 5.9497 - val_rmse: 5.9546\n",
            "Epoch 100/100\n",
            "23832/23832 [==============================] - 22s 902us/step - loss: 5.9770 - rmse: 5.9774 - val_loss: 5.9552 - val_rmse: 5.9597\n",
            "Train Score: 6.00 RMSE\n",
            "Test Score: 6.03 RMSE\n",
            "[[24.875544]\n",
            " [18.488338]\n",
            " [19.613262]\n",
            " ...\n",
            " [14.909662]\n",
            " [30.991062]\n",
            " [31.311832]]\n"
          ],
          "name": "stdout"
        }
      ]
    },
    {
      "cell_type": "code",
      "metadata": {
        "id": "aY_tEkU--cBt",
        "colab_type": "code",
        "colab": {
          "base_uri": "https://localhost:8080/",
          "height": 295
        },
        "outputId": "b86d300e-bd07-4abe-a56c-6dd7a910f4d8"
      },
      "source": [
        "plt.plot(history.history['loss'])\n",
        "plt.plot(history.history['val_loss'])\n",
        "pyplot.title('model train vs validation loss')\n",
        "pyplot.ylabel('loss')\n",
        "pyplot.xlabel('epoch')\n",
        "pyplot.legend(['train', 'validation'], loc='upper right')\n",
        "pyplot.show()"
      ],
      "execution_count": null,
      "outputs": [
        {
          "output_type": "display_data",
          "data": {
            "image/png": "[encoded data removed]",
            "text/plain": [
              "<Figure size 432x288 with 1 Axes>"
            ]
          },
          "metadata": {
            "tags": [],
            "needs_background": "light"
          }
        }
      ]
    },
    {
      "cell_type": "code",
      "metadata": {
        "id": "qEfpNwpMxOVT",
        "colab_type": "code",
        "colab": {
          "base_uri": "https://localhost:8080/",
          "height": 255
        },
        "outputId": "c22a10c7-127e-41f9-9bc9-54219fc2419f"
      },
      "source": [
        "model.summary()"
      ],
      "execution_count": null,
      "outputs": [
        {
          "output_type": "stream",
          "text": [
            "Model: \"sequential_3\"\n",
            "_________________________________________________________________\n",
            "Layer (type)                 Output Shape              Param #   \n",
            "=================================================================\n",
            "gru_2 (GRU)                  (None, 50)                9150      \n",
            "_________________________________________________________________\n",
            "dropout_2 (Dropout)          (None, 50)                0         \n",
            "_________________________________________________________________\n",
            "dense_2 (Dense)              (None, 1)                 51        \n",
            "=================================================================\n",
            "Total params: 9,201\n",
            "Trainable params: 9,201\n",
            "Non-trainable params: 0\n",
            "_________________________________________________________________\n"
          ],
          "name": "stdout"
        }
      ]
    },
    {
      "cell_type": "code",
      "metadata": {
        "id": "VC0MD2pFPXuF",
        "colab_type": "code",
        "colab": {}
      },
      "source": [
        "X_test=new_test\n",
        "X_test=X_test.values\n",
        "X_test=X_test.astype('float32')\n",
        "X_test=scaler.fit_transform(X_test)"
      ],
      "execution_count": null,
      "outputs": []
    },
    {
      "cell_type": "code",
      "metadata": {
        "id": "fSyiOY3H-iGd",
        "colab_type": "code",
        "colab": {}
      },
      "source": [
        "X_test= np.reshape(X_test,(X_test.shape[0],1,X_test.shape[1]))"
      ],
      "execution_count": null,
      "outputs": []
    },
    {
      "cell_type": "code",
      "metadata": {
        "id": "Znchq0qU3sPB",
        "colab_type": "code",
        "colab": {
          "base_uri": "https://localhost:8080/",
          "height": 34
        },
        "outputId": "d54527c6-c05f-4a97-eb7c-13a9904a63ef"
      },
      "source": [
        "X_test.shape"
      ],
      "execution_count": null,
      "outputs": [
        {
          "output_type": "execute_result",
          "data": {
            "text/plain": [
              "(6683, 1, 10)"
            ]
          },
          "metadata": {
            "tags": []
          },
          "execution_count": 52
        }
      ]
    },
    {
      "cell_type": "code",
      "metadata": {
        "id": "woFRArSF8MGp",
        "colab_type": "code",
        "colab": {
          "base_uri": "https://localhost:8080/",
          "height": 136
        },
        "outputId": "87c40ff3-3d37-44d9-e1fa-a9a97c7fd04e"
      },
      "source": [
        "Prediction = model.predict(X_test)\n",
        "Prediction"
      ],
      "execution_count": null,
      "outputs": [
        {
          "output_type": "execute_result",
          "data": {
            "text/plain": [
              "array([[23.067173],\n",
              "       [31.600182],\n",
              "       [10.718214],\n",
              "       ...,\n",
              "       [25.783352],\n",
              "       [19.710976],\n",
              "       [22.17252 ]], dtype=float32)"
            ]
          },
          "metadata": {
            "tags": []
          },
          "execution_count": 53
        }
      ]
    },
    {
      "cell_type": "code",
      "metadata": {
        "id": "CCqY6z8KxRaR",
        "colab_type": "code",
        "colab": {
          "base_uri": "https://localhost:8080/",
          "height": 34
        },
        "outputId": "41dfb073-6f7f-4ccf-cb21-c3448fe8ade3"
      },
      "source": [
        "testScore = math.sqrt(mean_squared_error(y_fortest, Prediction))\n",
        "print('Test Score: %.2f RMSE' % (testScore))"
      ],
      "execution_count": null,
      "outputs": [
        {
          "output_type": "stream",
          "text": [
            "Test Score: 7.07 RMSE\n"
          ],
          "name": "stdout"
        }
      ]
    },
    {
      "cell_type": "code",
      "metadata": {
        "id": "tyhR0UCNf5by",
        "colab_type": "code",
        "colab": {}
      },
      "source": [
        "y_fortest"
      ],
      "execution_count": null,
      "outputs": []
    },
    {
      "cell_type": "code",
      "metadata": {
        "id": "3v6PZEQSPlNE",
        "colab_type": "code",
        "colab": {}
      },
      "source": [
        "import pandas as pd\n",
        "#字典中的key值即為csv中列名\n",
        "dataframe = pd.DataFrame({'y_true':list(y_fortest),'prediction':list(Prediction)})\n",
        "#dataframe = pd.DataFrame({'prediction':data})\n",
        "#將DataFrame儲存為csv,index表示是否顯示行名，default=True\n",
        "dataframe.to_csv(\"testPrediction.csv\",index=False,sep=',')"
      ],
      "execution_count": null,
      "outputs": []
    }
  ]
}