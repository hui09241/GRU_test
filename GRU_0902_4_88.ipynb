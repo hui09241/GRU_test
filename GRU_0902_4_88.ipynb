{
  "nbformat": 4,
  "nbformat_minor": 0,
  "metadata": {
    "colab": {
      "name": "GRU_0902_4.88.ipynb",
      "provenance": [],
      "collapsed_sections": [],
      "include_colab_link": true
    },
    "kernelspec": {
      "name": "python3",
      "display_name": "Python 3"
    }
  },
  "cells": [
    {
      "cell_type": "markdown",
      "metadata": {
        "id": "view-in-github",
        "colab_type": "text"
      },
      "source": [
        "<a href=\"https://colab.research.google.com/github/hui09241/GRU_test/blob/master/GRU_0902_4_88.ipynb\" target=\"_parent\"><img src=\"https://colab.research.google.com/assets/colab-badge.svg\" alt=\"Open In Colab\"/></a>"
      ]
    },
    {
      "cell_type": "code",
      "metadata": {
        "id": "XSDmYPM-NtrA",
        "colab_type": "code",
        "colab": {
          "base_uri": "https://localhost:8080/",
          "height": 1000
        },
        "outputId": "122a7752-eff0-4930-9cf0-d3cdf1b131e2"
      },
      "source": [
        "!pip install pydrive\n",
        "!pip install scikit-learn==0.20.0\n",
        "!pip show scikit-learn # to see which version and where scikit-learn is installed\n",
        "!pip freeze # to see all packages installed in the active virtualenv\n",
        "\"import sklearn; sklearn.show_versions()\""
      ],
      "execution_count": 2,
      "outputs": [
        {
          "output_type": "stream",
          "text": [
            "Requirement already satisfied: pydrive in /usr/local/lib/python3.6/dist-packages (1.3.1)\n",
            "Requirement already satisfied: google-api-python-client>=1.2 in /usr/local/lib/python3.6/dist-packages (from pydrive) (1.7.12)\n",
            "Requirement already satisfied: PyYAML>=3.0 in /usr/local/lib/python3.6/dist-packages (from pydrive) (3.13)\n",
            "Requirement already satisfied: oauth2client>=4.0.0 in /usr/local/lib/python3.6/dist-packages (from pydrive) (4.1.3)\n",
            "Requirement already satisfied: httplib2<1dev,>=0.17.0 in /usr/local/lib/python3.6/dist-packages (from google-api-python-client>=1.2->pydrive) (0.17.4)\n",
            "Requirement already satisfied: uritemplate<4dev,>=3.0.0 in /usr/local/lib/python3.6/dist-packages (from google-api-python-client>=1.2->pydrive) (3.0.1)\n",
            "Requirement already satisfied: google-auth-httplib2>=0.0.3 in /usr/local/lib/python3.6/dist-packages (from google-api-python-client>=1.2->pydrive) (0.0.4)\n",
            "Requirement already satisfied: google-auth>=1.4.1 in /usr/local/lib/python3.6/dist-packages (from google-api-python-client>=1.2->pydrive) (1.17.2)\n",
            "Requirement already satisfied: six<2dev,>=1.6.1 in /usr/local/lib/python3.6/dist-packages (from google-api-python-client>=1.2->pydrive) (1.15.0)\n",
            "Requirement already satisfied: rsa>=3.1.4 in /usr/local/lib/python3.6/dist-packages (from oauth2client>=4.0.0->pydrive) (4.6)\n",
            "Requirement already satisfied: pyasn1-modules>=0.0.5 in /usr/local/lib/python3.6/dist-packages (from oauth2client>=4.0.0->pydrive) (0.2.8)\n",
            "Requirement already satisfied: pyasn1>=0.1.7 in /usr/local/lib/python3.6/dist-packages (from oauth2client>=4.0.0->pydrive) (0.4.8)\n",
            "Requirement already satisfied: setuptools>=40.3.0 in /usr/local/lib/python3.6/dist-packages (from google-auth>=1.4.1->google-api-python-client>=1.2->pydrive) (50.3.0)\n",
            "Requirement already satisfied: cachetools<5.0,>=2.0.0 in /usr/local/lib/python3.6/dist-packages (from google-auth>=1.4.1->google-api-python-client>=1.2->pydrive) (4.1.1)\n",
            "Requirement already satisfied: scikit-learn==0.20.0 in /usr/local/lib/python3.6/dist-packages (0.20.0)\n",
            "Requirement already satisfied: numpy>=1.8.2 in /usr/local/lib/python3.6/dist-packages (from scikit-learn==0.20.0) (1.18.5)\n",
            "Requirement already satisfied: scipy>=0.13.3 in /usr/local/lib/python3.6/dist-packages (from scikit-learn==0.20.0) (1.4.1)\n",
            "Name: scikit-learn\n",
            "Version: 0.20.0\n",
            "Summary: A set of python modules for machine learning and data mining\n",
            "Home-page: http://scikit-learn.org\n",
            "Author: None\n",
            "Author-email: None\n",
            "License: new BSD\n",
            "Location: /usr/local/lib/python3.6/dist-packages\n",
            "Requires: scipy, numpy\n",
            "Required-by: yellowbrick, umap-learn, textgenrnn, sklearn, sklearn-pandas, mlxtend, lucid, lightgbm, librosa, imbalanced-learn, fancyimpute\n",
            "absl-py==0.10.0\n",
            "alabaster==0.7.12\n",
            "albumentations==0.1.12\n",
            "altair==4.1.0\n",
            "argon2-cffi==20.1.0\n",
            "asgiref==3.2.10\n",
            "astor==0.8.1\n",
            "astropy==4.0.1.post1\n",
            "astunparse==1.6.3\n",
            "async-generator==1.10\n",
            "atari-py==0.2.6\n",
            "atomicwrites==1.4.0\n",
            "attrs==20.2.0\n",
            "audioread==2.1.8\n",
            "autograd==1.3\n",
            "Babel==2.8.0\n",
            "backcall==0.2.0\n",
            "beautifulsoup4==4.6.3\n",
            "bleach==3.2.0\n",
            "blis==0.4.1\n",
            "bokeh==2.1.1\n",
            "boto==2.49.0\n",
            "boto3==1.14.63\n",
            "botocore==1.17.63\n",
            "Bottleneck==1.3.2\n",
            "branca==0.4.1\n",
            "bs4==0.0.1\n",
            "CacheControl==0.12.6\n",
            "cachetools==4.1.1\n",
            "catalogue==1.0.0\n",
            "certifi==2020.6.20\n",
            "cffi==1.14.2\n",
            "chainer==7.4.0\n",
            "chardet==3.0.4\n",
            "click==7.1.2\n",
            "cloudpickle==1.3.0\n",
            "cmake==3.12.0\n",
            "cmdstanpy==0.9.5\n",
            "colorlover==0.3.0\n",
            "community==1.0.0b1\n",
            "contextlib2==0.5.5\n",
            "convertdate==2.2.2\n",
            "coverage==3.7.1\n",
            "coveralls==0.5\n",
            "crcmod==1.7\n",
            "cufflinks==0.17.3\n",
            "cvxopt==1.2.5\n",
            "cvxpy==1.0.31\n",
            "cycler==0.10.0\n",
            "cymem==2.0.3\n",
            "Cython==0.29.21\n",
            "daft==0.0.4\n",
            "dask==2.12.0\n",
            "dataclasses==0.7\n",
            "datascience==0.10.6\n",
            "debugpy==1.0.0rc2\n",
            "decorator==4.4.2\n",
            "defusedxml==0.6.0\n",
            "descartes==1.1.0\n",
            "dill==0.3.2\n",
            "distributed==1.25.3\n",
            "Django==3.1.1\n",
            "dlib==19.18.0\n",
            "dm-tree==0.1.5\n",
            "docopt==0.6.2\n",
            "docutils==0.15.2\n",
            "dopamine-rl==1.0.5\n",
            "earthengine-api==0.1.235\n",
            "easydict==1.9\n",
            "ecos==2.0.7.post1\n",
            "editdistance==0.5.3\n",
            "en-core-web-sm==2.2.5\n",
            "entrypoints==0.3\n",
            "ephem==3.7.7.1\n",
            "et-xmlfile==1.0.1\n",
            "fa2==0.3.5\n",
            "fancyimpute==0.4.3\n",
            "fastai==1.0.61\n",
            "fastdtw==0.3.4\n",
            "fastprogress==1.0.0\n",
            "fastrlock==0.5\n",
            "fbprophet==0.7.1\n",
            "feather-format==0.4.1\n",
            "filelock==3.0.12\n",
            "firebase-admin==4.4.0\n",
            "fix-yahoo-finance==0.0.22\n",
            "Flask==1.1.2\n",
            "folium==0.8.3\n",
            "future==0.16.0\n",
            "gast==0.3.3\n",
            "GDAL==2.2.2\n",
            "gdown==3.6.4\n",
            "gensim==3.6.0\n",
            "geographiclib==1.50\n",
            "geopy==1.17.0\n",
            "gin-config==0.3.0\n",
            "glob2==0.7\n",
            "google==2.0.3\n",
            "google-api-core==1.16.0\n",
            "google-api-python-client==1.7.12\n",
            "google-auth==1.17.2\n",
            "google-auth-httplib2==0.0.4\n",
            "google-auth-oauthlib==0.4.1\n",
            "google-cloud-bigquery==1.21.0\n",
            "google-cloud-core==1.0.3\n",
            "google-cloud-datastore==1.8.0\n",
            "google-cloud-firestore==1.7.0\n",
            "google-cloud-language==1.2.0\n",
            "google-cloud-storage==1.18.1\n",
            "google-cloud-translate==1.5.0\n",
            "google-colab==1.0.0\n",
            "google-pasta==0.2.0\n",
            "google-resumable-media==0.4.1\n",
            "googleapis-common-protos==1.52.0\n",
            "googledrivedownloader==0.4\n",
            "graphviz==0.10.1\n",
            "grpcio==1.32.0\n",
            "gspread==3.0.1\n",
            "gspread-dataframe==3.0.8\n",
            "gym==0.17.2\n",
            "h5py==2.10.0\n",
            "HeapDict==1.0.1\n",
            "holidays==0.10.3\n",
            "holoviews==1.13.4\n",
            "html5lib==1.0.1\n",
            "httpimport==0.5.18\n",
            "httplib2==0.17.4\n",
            "httplib2shim==0.0.3\n",
            "humanize==0.5.1\n",
            "hyperopt==0.1.2\n",
            "ideep4py==2.0.0.post3\n",
            "idna==2.10\n",
            "image==1.5.32\n",
            "imageio==2.4.1\n",
            "imagesize==1.2.0\n",
            "imbalanced-learn==0.4.3\n",
            "imblearn==0.0\n",
            "imgaug==0.2.9\n",
            "importlib-metadata==1.7.0\n",
            "imutils==0.5.3\n",
            "inflect==2.1.0\n",
            "iniconfig==1.0.1\n",
            "intel-openmp==2020.0.133\n",
            "intervaltree==2.1.0\n",
            "ipykernel==4.10.1\n",
            "ipython==5.5.0\n",
            "ipython-genutils==0.2.0\n",
            "ipython-sql==0.3.9\n",
            "ipywidgets==7.5.1\n",
            "itsdangerous==1.1.0\n",
            "jax==0.1.75\n",
            "jaxlib==0.1.52\n",
            "jdcal==1.4.1\n",
            "jedi==0.17.2\n",
            "jieba==0.42.1\n",
            "Jinja2==2.11.2\n",
            "jmespath==0.10.0\n",
            "joblib==0.16.0\n",
            "jpeg4py==0.1.4\n",
            "jsonschema==2.6.0\n",
            "jupyter==1.0.0\n",
            "jupyter-client==5.3.5\n",
            "jupyter-console==5.2.0\n",
            "jupyter-core==4.6.3\n",
            "jupyterlab-pygments==0.1.1\n",
            "kaggle==1.5.8\n",
            "kapre==0.1.3.1\n",
            "Keras==2.4.3\n",
            "Keras-Preprocessing==1.1.2\n",
            "keras-vis==0.4.1\n",
            "kiwisolver==1.2.0\n",
            "knnimpute==0.1.0\n",
            "korean-lunar-calendar==0.2.1\n",
            "librosa==0.6.3\n",
            "lightgbm==2.2.3\n",
            "llvmlite==0.31.0\n",
            "lmdb==0.99\n",
            "lucid==0.3.8\n",
            "LunarCalendar==0.0.9\n",
            "lxml==4.2.6\n",
            "Markdown==3.2.2\n",
            "MarkupSafe==1.1.1\n",
            "matplotlib==3.2.2\n",
            "matplotlib-venn==0.11.5\n",
            "missingno==0.4.2\n",
            "mistune==0.8.4\n",
            "mizani==0.6.0\n",
            "mkl==2019.0\n",
            "mlxtend==0.14.0\n",
            "more-itertools==8.5.0\n",
            "moviepy==0.2.3.5\n",
            "mpmath==1.1.0\n",
            "msgpack==1.0.0\n",
            "multiprocess==0.70.10\n",
            "multitasking==0.0.9\n",
            "murmurhash==1.0.2\n",
            "music21==5.5.0\n",
            "natsort==5.5.0\n",
            "nbclient==0.5.0\n",
            "nbconvert==5.6.1\n",
            "nbformat==5.0.7\n",
            "nest-asyncio==1.4.0\n",
            "networkx==2.5\n",
            "nibabel==3.0.2\n",
            "nltk==3.2.5\n",
            "notebook==5.3.1\n",
            "np-utils==0.5.12.1\n",
            "numba==0.48.0\n",
            "numexpr==2.7.1\n",
            "numpy==1.18.5\n",
            "nvidia-ml-py3==7.352.0\n",
            "oauth2client==4.1.3\n",
            "oauthlib==3.1.0\n",
            "okgrade==0.4.3\n",
            "opencv-contrib-python==4.1.2.30\n",
            "opencv-python==4.1.2.30\n",
            "openpyxl==2.5.9\n",
            "opt-einsum==3.3.0\n",
            "osqp==0.6.1\n",
            "packaging==20.4\n",
            "palettable==3.3.0\n",
            "pandas==1.0.5\n",
            "pandas-datareader==0.8.1\n",
            "pandas-gbq==0.11.0\n",
            "pandas-profiling==1.4.1\n",
            "pandocfilters==1.4.2\n",
            "panel==0.9.7\n",
            "param==1.9.3\n",
            "parso==0.7.1\n",
            "pathlib==1.0.1\n",
            "patsy==0.5.1\n",
            "pexpect==4.8.0\n",
            "pickleshare==0.7.5\n",
            "Pillow==7.0.0\n",
            "pip-tools==4.5.1\n",
            "plac==1.1.3\n",
            "plotly==4.4.1\n",
            "plotnine==0.6.0\n",
            "pluggy==0.7.1\n",
            "portpicker==1.3.1\n",
            "prefetch-generator==1.0.1\n",
            "preshed==3.0.2\n",
            "prettytable==0.7.2\n",
            "progressbar2==3.38.0\n",
            "prometheus-client==0.8.0\n",
            "promise==2.3\n",
            "prompt-toolkit==1.0.18\n",
            "protobuf==3.12.4\n",
            "psutil==5.4.8\n",
            "psycopg2==2.7.6.1\n",
            "ptyprocess==0.6.0\n",
            "py==1.9.0\n",
            "pyarrow==0.14.1\n",
            "pyasn1==0.4.8\n",
            "pyasn1-modules==0.2.8\n",
            "pycocotools==2.0.2\n",
            "pycparser==2.20\n",
            "pyct==0.4.8\n",
            "pydata-google-auth==1.1.0\n",
            "pydot==1.3.0\n",
            "pydot-ng==2.0.0\n",
            "pydotplus==2.0.2\n",
            "PyDrive==1.3.1\n",
            "pyemd==0.5.1\n",
            "pyglet==1.5.0\n",
            "Pygments==2.6.1\n",
            "pygobject==3.26.1\n",
            "pymc3==3.7\n",
            "PyMeeus==0.3.7\n",
            "pymongo==3.11.0\n",
            "pymystem3==0.2.0\n",
            "PyOpenGL==3.1.5\n",
            "pyparsing==2.4.7\n",
            "pyrsistent==0.17.3\n",
            "pysndfile==1.3.8\n",
            "PySocks==1.7.1\n",
            "pystan==2.19.1.1\n",
            "pytest==3.6.4\n",
            "python-apt==1.6.5+ubuntu0.3\n",
            "python-chess==0.23.11\n",
            "python-dateutil==2.8.1\n",
            "python-louvain==0.14\n",
            "python-slugify==4.0.1\n",
            "python-utils==2.4.0\n",
            "pytz==2018.9\n",
            "pyviz-comms==0.7.6\n",
            "PyWavelets==1.1.1\n",
            "PyYAML==3.13\n",
            "pyzmq==19.0.2\n",
            "qtconsole==4.7.7\n",
            "QtPy==1.9.0\n",
            "regex==2019.12.20\n",
            "requests==2.23.0\n",
            "requests-oauthlib==1.3.0\n",
            "resampy==0.2.2\n",
            "retrying==1.3.3\n",
            "rpy2==3.2.7\n",
            "rsa==4.6\n",
            "s3transfer==0.3.3\n",
            "scikit-image==0.16.2\n",
            "scikit-learn==0.20.0\n",
            "scipy==1.4.1\n",
            "screen-resolution-extra==0.0.0\n",
            "scs==2.1.2\n",
            "seaborn==0.10.1\n",
            "Send2Trash==1.5.0\n",
            "setuptools-git==1.2\n",
            "Shapely==1.7.1\n",
            "simplegeneric==0.8.1\n",
            "six==1.15.0\n",
            "sklearn==0.0\n",
            "sklearn-pandas==1.8.0\n",
            "slugify==0.0.1\n",
            "smart-open==2.1.1\n",
            "snowballstemmer==2.0.0\n",
            "sortedcontainers==2.2.2\n",
            "spacy==2.2.4\n",
            "Sphinx==1.8.5\n",
            "sphinxcontrib-serializinghtml==1.1.4\n",
            "sphinxcontrib-websupport==1.2.4\n",
            "SQLAlchemy==1.3.19\n",
            "sqlparse==0.3.1\n",
            "srsly==1.0.2\n",
            "statsmodels==0.10.2\n",
            "sympy==1.1.1\n",
            "tables==3.4.4\n",
            "tabulate==0.8.7\n",
            "tblib==1.7.0\n",
            "tensorboard==2.3.0\n",
            "tensorboard-plugin-wit==1.7.0\n",
            "tensorboardcolab==0.0.22\n",
            "tensorflow==2.3.0\n",
            "tensorflow-addons==0.8.3\n",
            "tensorflow-datasets==2.1.0\n",
            "tensorflow-estimator==2.3.0\n",
            "tensorflow-gcs-config==2.3.0\n",
            "tensorflow-hub==0.9.0\n",
            "tensorflow-metadata==0.24.0\n",
            "tensorflow-privacy==0.2.2\n",
            "tensorflow-probability==0.11.0\n",
            "termcolor==1.1.0\n",
            "terminado==0.8.3\n",
            "testpath==0.4.4\n",
            "text-unidecode==1.3\n",
            "textblob==0.15.3\n",
            "textgenrnn==1.4.1\n",
            "Theano==1.0.5\n",
            "thinc==7.4.0\n",
            "tifffile==2020.9.3\n",
            "toml==0.10.1\n",
            "toolz==0.10.0\n",
            "torch==1.6.0+cu101\n",
            "torchsummary==1.5.1\n",
            "torchtext==0.3.1\n",
            "torchvision==0.7.0+cu101\n",
            "tornado==5.1.1\n",
            "tqdm==4.41.1\n",
            "traitlets==4.3.3\n",
            "tweepy==3.6.0\n",
            "typeguard==2.7.1\n",
            "typing-extensions==3.7.4.3\n",
            "tzlocal==1.5.1\n",
            "umap-learn==0.4.6\n",
            "uritemplate==3.0.1\n",
            "urllib3==1.24.3\n",
            "vega-datasets==0.8.0\n",
            "wasabi==0.8.0\n",
            "wcwidth==0.2.5\n",
            "webencodings==0.5.1\n",
            "Werkzeug==1.0.1\n",
            "widgetsnbextension==3.5.1\n",
            "wordcloud==1.5.0\n",
            "wrapt==1.12.1\n",
            "xarray==0.15.1\n",
            "xgboost==0.90\n",
            "xkit==0.0.0\n",
            "xlrd==1.1.0\n",
            "xlwt==1.3.0\n",
            "yellowbrick==0.9.1\n",
            "zict==2.0.0\n",
            "zipp==3.1.0\n"
          ],
          "name": "stdout"
        },
        {
          "output_type": "execute_result",
          "data": {
            "application/vnd.google.colaboratory.intrinsic+json": {
              "type": "string"
            },
            "text/plain": [
              "'import sklearn; sklearn.show_versions()'"
            ]
          },
          "metadata": {
            "tags": []
          },
          "execution_count": 2
        }
      ]
    },
    {
      "cell_type": "code",
      "metadata": {
        "id": "2XwgjR5ZN43n",
        "colab_type": "code",
        "colab": {}
      },
      "source": [
        "import pandas\n",
        "import matplotlib.pyplot as plt\n",
        "from sklearn.preprocessing import MinMaxScaler\n",
        "import numpy as np\n",
        "from keras.models import Sequential\n",
        "from keras.layers import Dense,Dropout,BatchNormalization #這行milk02.ipynb\n",
        "from keras.layers import LSTM\n",
        "import math\n",
        "from sklearn.metrics import mean_squared_error  #02.ipynb\n",
        "\n",
        "import pandas as pd\n",
        "from pydrive.auth import GoogleAuth #雲端部分#載入資料用\n",
        "from pydrive.drive import GoogleDrive \n",
        "from google.colab import auth \n",
        "from oauth2client.client import GoogleCredentials\n",
        "\n",
        "#把要one hot的類別轉換成數字                           #從這以下milk02.ipynb\n",
        "from sklearn.preprocessing import LabelEncoder\n",
        "\n",
        "#把要的類別轉換成one hot\n",
        "import numpy as np\n",
        "from sklearn.preprocessing import OneHotEncoder\n",
        "from sklearn.model_selection import train_test_split\n",
        "from keras import backend as K\n",
        "from keras.optimizers import Adam\n",
        "\n",
        "from sklearn.model_selection import KFold"
      ],
      "execution_count": 3,
      "outputs": []
    },
    {
      "cell_type": "code",
      "metadata": {
        "id": "dqCtCYmwN5Mq",
        "colab_type": "code",
        "colab": {}
      },
      "source": [
        "##載入new_train\n",
        "auth.authenticate_user()                  \n",
        "gauth = GoogleAuth()\n",
        "gauth.credentials = GoogleCredentials.get_application_default()\n",
        "drive = GoogleDrive(gauth)\n",
        "file_id = '11jLvYsp8RkDqZioXL5j2Qitx7C2lwM79'  #雲端硬碟檔案連結碼\n",
        "downloaded = drive.CreateFile({'id': file_id})\n",
        "downloaded.GetContentFile('our_new_train.csv')\n",
        "new_train = pd.read_csv('our_new_train.csv', sep=',')\n",
        "#new_train"
      ],
      "execution_count": 4,
      "outputs": []
    },
    {
      "cell_type": "code",
      "metadata": {
        "id": "jyggkcMtN6WD",
        "colab_type": "code",
        "colab": {}
      },
      "source": [
        "##載入new_test\n",
        "auth.authenticate_user()                  \n",
        "gauth = GoogleAuth()\n",
        "gauth.credentials = GoogleCredentials.get_application_default()\n",
        "drive = GoogleDrive(gauth)\n",
        "file_id = '1pQC3R9smKnmsqQEU3BUoWVmEk7YRK5Io'  #雲端硬碟檔案連結碼\n",
        "downloaded = drive.CreateFile({'id': file_id})\n",
        "downloaded.GetContentFile('newtest17.csv')\n",
        "new_test = pd.read_csv('newtest17.csv', sep=',')\n",
        "#print(new_test.loc[[48]])\n",
        "#new_test"
      ],
      "execution_count": 5,
      "outputs": []
    },
    {
      "cell_type": "code",
      "metadata": {
        "id": "c-KC97dcN9aQ",
        "colab_type": "code",
        "colab": {}
      },
      "source": [
        "import pandas as pd\n",
        "from pydrive.auth import GoogleAuth\n",
        "from pydrive.drive import GoogleDrive \n",
        "from google.colab import auth \n",
        "from oauth2client.client import GoogleCredentials\n",
        " \n",
        "auth.authenticate_user()\n",
        "gauth = GoogleAuth()\n",
        "gauth.credentials = GoogleCredentials.get_application_default()\n",
        "drive = GoogleDrive(gauth)\n",
        "file_id = '1TgijKpsq6haP2C6yHsA7_bVtf5Ra6Cps'  #雲端硬碟檔案連結碼\n",
        "downloaded = drive.CreateFile({'id': file_id})\n",
        "downloaded.GetContentFile('spec01.csv')\n",
        "spec = pd.read_csv('spec01.csv',sep=',')\n",
        "#print(spec)"
      ],
      "execution_count": 6,
      "outputs": []
    },
    {
      "cell_type": "code",
      "metadata": {
        "id": "ThqfMyyjN-ZN",
        "colab_type": "code",
        "colab": {
          "base_uri": "https://localhost:8080/",
          "height": 272
        },
        "outputId": "06a21630-7375-4061-ccf0-9b87f1292e26"
      },
      "source": [
        "for i in range(len(spec['7'])):\n",
        "    if(str(spec['7'][i])==str(\"A\")):\n",
        "          spec['7'][i]=1\n",
        "for i in range(len(spec['7'])):\n",
        "    if(str(spec['7'][i])==str('B')):\n",
        "          spec['7'][i]=2\n",
        "for i in range(len(spec['7'])):\n",
        "    if(str(spec['7'][i])==str('C')):\n",
        "          spec['7'][i]=3\n",
        "#spec"
      ],
      "execution_count": 7,
      "outputs": [
        {
          "output_type": "stream",
          "text": [
            "/usr/local/lib/python3.6/dist-packages/ipykernel_launcher.py:3: SettingWithCopyWarning: \n",
            "A value is trying to be set on a copy of a slice from a DataFrame\n",
            "\n",
            "See the caveats in the documentation: https://pandas.pydata.org/pandas-docs/stable/user_guide/indexing.html#returning-a-view-versus-a-copy\n",
            "  This is separate from the ipykernel package so we can avoid doing imports until\n",
            "/usr/local/lib/python3.6/dist-packages/ipykernel_launcher.py:6: SettingWithCopyWarning: \n",
            "A value is trying to be set on a copy of a slice from a DataFrame\n",
            "\n",
            "See the caveats in the documentation: https://pandas.pydata.org/pandas-docs/stable/user_guide/indexing.html#returning-a-view-versus-a-copy\n",
            "  \n",
            "/usr/local/lib/python3.6/dist-packages/ipykernel_launcher.py:9: SettingWithCopyWarning: \n",
            "A value is trying to be set on a copy of a slice from a DataFrame\n",
            "\n",
            "See the caveats in the documentation: https://pandas.pydata.org/pandas-docs/stable/user_guide/indexing.html#returning-a-view-versus-a-copy\n",
            "  if __name__ == '__main__':\n"
          ],
          "name": "stderr"
        }
      ]
    },
    {
      "cell_type": "code",
      "metadata": {
        "id": "5_NhTrl2N_pk",
        "colab_type": "code",
        "colab": {}
      },
      "source": [
        "#測試spec\n",
        "#spec.loc[[4290]]"
      ],
      "execution_count": 8,
      "outputs": []
    },
    {
      "cell_type": "code",
      "metadata": {
        "id": "jW2AFW8tOBhR",
        "colab_type": "code",
        "colab": {}
      },
      "source": [
        "new_train=pd.DataFrame(data=new_train,columns=['ID','firm','CowID','MomID','DadID','BabyNum','FeedDay','Milk','Sampling date','Age','BreedNum','Temperature','T Max','RH','RHMin','Precp','THI','cycle','tcalving number','disease','Sampling D Year','Sampling D Month'])\n",
        "#new_train"
      ],
      "execution_count": 9,
      "outputs": []
    },
    {
      "cell_type": "code",
      "metadata": {
        "id": "DSpOBcEvOD_R",
        "colab_type": "code",
        "colab": {}
      },
      "source": [
        "new_test=pd.DataFrame(data=new_test,columns=['ID','firm','CowID','MomID','DadID','BabyNum','FeedDay','Milk','Sampling date','Age','BreedNum','Temperature','T Max','RH','RHMin','Precp','THI','cycle','tcalving number','disease','Sampling D Year','Sampling D Month'])\n",
        "#new_test"
      ],
      "execution_count": 10,
      "outputs": []
    },
    {
      "cell_type": "code",
      "metadata": {
        "id": "gT3FI164OFUV",
        "colab_type": "code",
        "colab": {
          "base_uri": "https://localhost:8080/",
          "height": 221
        },
        "outputId": "c8b289e5-b40c-42e7-d017-90ae9e034786"
      },
      "source": [
        "new_train['Milk']"
      ],
      "execution_count": 11,
      "outputs": [
        {
          "output_type": "execute_result",
          "data": {
            "text/plain": [
              "0        20.0\n",
              "1        43.0\n",
              "2        24.0\n",
              "3        18.2\n",
              "4        10.0\n",
              "         ... \n",
              "30009    24.0\n",
              "30010    20.4\n",
              "30011    19.0\n",
              "30012     NaN\n",
              "30013    25.5\n",
              "Name: Milk, Length: 30014, dtype: float64"
            ]
          },
          "metadata": {
            "tags": []
          },
          "execution_count": 11
        }
      ]
    },
    {
      "cell_type": "code",
      "metadata": {
        "id": "xn9JLnEuOHe0",
        "colab_type": "code",
        "colab": {
          "base_uri": "https://localhost:8080/",
          "height": 102
        },
        "outputId": "c92454b3-2e76-44f1-d7f1-da3670f36cc0"
      },
      "source": [
        "import math\n",
        "bool = False\n",
        "for i in range(len(new_train['Milk'])):\n",
        "    bool = False\n",
        "    bool=math.isnan(new_train['Milk'][i])\n",
        "    if(bool):\n",
        "       new_train['Milk'][i]=0\n",
        "#print(new_train['Milk'].loc[[15]])\n",
        "#print(new_train['Milk'].loc[[16]])\n",
        "#new_train"
      ],
      "execution_count": 12,
      "outputs": [
        {
          "output_type": "stream",
          "text": [
            "/usr/local/lib/python3.6/dist-packages/ipykernel_launcher.py:7: SettingWithCopyWarning: \n",
            "A value is trying to be set on a copy of a slice from a DataFrame\n",
            "\n",
            "See the caveats in the documentation: https://pandas.pydata.org/pandas-docs/stable/user_guide/indexing.html#returning-a-view-versus-a-copy\n",
            "  import sys\n"
          ],
          "name": "stderr"
        }
      ]
    },
    {
      "cell_type": "code",
      "metadata": {
        "id": "Ps8su1as-4vL",
        "colab_type": "code",
        "colab": {
          "base_uri": "https://localhost:8080/",
          "height": 102
        },
        "outputId": "34046e33-4deb-49a3-85e3-adc5537bcea8"
      },
      "source": [
        "import math\n",
        "bool = False\n",
        "for i in range(len(new_test['Milk'])):\n",
        "    bool = False\n",
        "    bool=math.isnan(new_test['Milk'][i])\n",
        "    if(bool):\n",
        "       new_test['Milk'][i]=0\n",
        "#print(new_train['Milk'].loc[[15]])\n",
        "#print(new_test['Milk'].loc[[9]])\n",
        "#new_test"
      ],
      "execution_count": 13,
      "outputs": [
        {
          "output_type": "stream",
          "text": [
            "/usr/local/lib/python3.6/dist-packages/ipykernel_launcher.py:7: SettingWithCopyWarning: \n",
            "A value is trying to be set on a copy of a slice from a DataFrame\n",
            "\n",
            "See the caveats in the documentation: https://pandas.pydata.org/pandas-docs/stable/user_guide/indexing.html#returning-a-view-versus-a-copy\n",
            "  import sys\n"
          ],
          "name": "stderr"
        }
      ]
    },
    {
      "cell_type": "code",
      "metadata": {
        "id": "oqcFWInXOIi8",
        "colab_type": "code",
        "colab": {}
      },
      "source": [
        "#train有不需要判斷的編號就去掉\n",
        "for i in range(len(new_test['CowID'])):\n",
        "    if len(new_train.index[new_train['CowID'] == new_test['CowID'][i]]) == 0:\n",
        "        new_train=new_train.drop([i])\n",
        "new_train.reset_index(inplace=True)\n",
        "#new_train"
      ],
      "execution_count": 14,
      "outputs": []
    },
    {
      "cell_type": "code",
      "metadata": {
        "id": "Qu1pgHrQktaX",
        "colab_type": "code",
        "colab": {}
      },
      "source": [
        "#train牛乳產量是0，則丟棄不用\n",
        "for i in range(len(new_train['Milk'])): \n",
        "    if new_train['Milk'][i] == 0 :\n",
        "        new_train = new_train.drop([i])\n",
        "new_train.reset_index(inplace=True)\n",
        "#new_train"
      ],
      "execution_count": 15,
      "outputs": []
    },
    {
      "cell_type": "code",
      "metadata": {
        "id": "U0K7p113_B8X",
        "colab_type": "code",
        "colab": {
          "base_uri": "https://localhost:8080/",
          "height": 453
        },
        "outputId": "46aaf6d1-a22e-486d-bfd5-b60b029e60de"
      },
      "source": [
        "#test牛乳產量是0，則丟棄不用(未來測試需要)\n",
        "for i in range(len(new_test['Milk'])): \n",
        "    if new_test['Milk'][i] == 0 :\n",
        "        new_test = new_test.drop([i])\n",
        "new_test.reset_index(inplace=True)\n",
        "print(new_test['Milk'].loc[[9]])\n",
        "new_test"
      ],
      "execution_count": 16,
      "outputs": [
        {
          "output_type": "stream",
          "text": [
            "9    11.6\n",
            "Name: Milk, dtype: float64\n"
          ],
          "name": "stdout"
        },
        {
          "output_type": "execute_result",
          "data": {
            "text/html": [
              "<div>\n",
              "<style scoped>\n",
              "    .dataframe tbody tr th:only-of-type {\n",
              "        vertical-align: middle;\n",
              "    }\n",
              "\n",
              "    .dataframe tbody tr th {\n",
              "        vertical-align: top;\n",
              "    }\n",
              "\n",
              "    .dataframe thead th {\n",
              "        text-align: right;\n",
              "    }\n",
              "</style>\n",
              "<table border=\"1\" class=\"dataframe\">\n",
              "  <thead>\n",
              "    <tr style=\"text-align: right;\">\n",
              "      <th></th>\n",
              "      <th>index</th>\n",
              "      <th>ID</th>\n",
              "      <th>firm</th>\n",
              "      <th>CowID</th>\n",
              "      <th>MomID</th>\n",
              "      <th>DadID</th>\n",
              "      <th>BabyNum</th>\n",
              "      <th>FeedDay</th>\n",
              "      <th>Milk</th>\n",
              "      <th>Sampling date</th>\n",
              "      <th>Age</th>\n",
              "      <th>BreedNum</th>\n",
              "      <th>Temperature</th>\n",
              "      <th>T Max</th>\n",
              "      <th>RH</th>\n",
              "      <th>RHMin</th>\n",
              "      <th>Precp</th>\n",
              "      <th>THI</th>\n",
              "      <th>cycle</th>\n",
              "      <th>tcalving number</th>\n",
              "      <th>disease</th>\n",
              "      <th>Sampling D Year</th>\n",
              "      <th>Sampling D Month</th>\n",
              "    </tr>\n",
              "  </thead>\n",
              "  <tbody>\n",
              "    <tr>\n",
              "      <th>0</th>\n",
              "      <td>0</td>\n",
              "      <td>18072</td>\n",
              "      <td>2</td>\n",
              "      <td>122630</td>\n",
              "      <td>98111436.0</td>\n",
              "      <td>007HO08361</td>\n",
              "      <td>3</td>\n",
              "      <td>183</td>\n",
              "      <td>40.0</td>\n",
              "      <td>2017/1/19</td>\n",
              "      <td>70</td>\n",
              "      <td>2</td>\n",
              "      <td>20.8</td>\n",
              "      <td>25.5</td>\n",
              "      <td>85.0</td>\n",
              "      <td>69.0</td>\n",
              "      <td>0.0</td>\n",
              "      <td>20.236278</td>\n",
              "      <td>NaN</td>\n",
              "      <td>NaN</td>\n",
              "      <td>NaN</td>\n",
              "      <td>NaN</td>\n",
              "      <td>NaN</td>\n",
              "    </tr>\n",
              "    <tr>\n",
              "      <th>1</th>\n",
              "      <td>1</td>\n",
              "      <td>15357</td>\n",
              "      <td>2</td>\n",
              "      <td>2122398</td>\n",
              "      <td>98111423.0</td>\n",
              "      <td>7H7536</td>\n",
              "      <td>3</td>\n",
              "      <td>71</td>\n",
              "      <td>28.0</td>\n",
              "      <td>2017/7/18</td>\n",
              "      <td>50</td>\n",
              "      <td>0</td>\n",
              "      <td>NaN</td>\n",
              "      <td>35.2</td>\n",
              "      <td>82.0</td>\n",
              "      <td>69.0</td>\n",
              "      <td>0.0</td>\n",
              "      <td>NaN</td>\n",
              "      <td>NaN</td>\n",
              "      <td>NaN</td>\n",
              "      <td>NaN</td>\n",
              "      <td>NaN</td>\n",
              "      <td>NaN</td>\n",
              "    </tr>\n",
              "    <tr>\n",
              "      <th>2</th>\n",
              "      <td>2</td>\n",
              "      <td>37069</td>\n",
              "      <td>3</td>\n",
              "      <td>99183211</td>\n",
              "      <td>94172172.0</td>\n",
              "      <td>1H8328</td>\n",
              "      <td>1</td>\n",
              "      <td>365</td>\n",
              "      <td>12.0</td>\n",
              "      <td>2013/6/25</td>\n",
              "      <td>38</td>\n",
              "      <td>5</td>\n",
              "      <td>NaN</td>\n",
              "      <td>NaN</td>\n",
              "      <td>NaN</td>\n",
              "      <td>NaN</td>\n",
              "      <td>NaN</td>\n",
              "      <td>NaN</td>\n",
              "      <td>NaN</td>\n",
              "      <td>NaN</td>\n",
              "      <td>NaN</td>\n",
              "      <td>NaN</td>\n",
              "      <td>NaN</td>\n",
              "    </tr>\n",
              "    <tr>\n",
              "      <th>3</th>\n",
              "      <td>3</td>\n",
              "      <td>17574</td>\n",
              "      <td>2</td>\n",
              "      <td>122607</td>\n",
              "      <td>98115809.0</td>\n",
              "      <td>029HO11295</td>\n",
              "      <td>4</td>\n",
              "      <td>177</td>\n",
              "      <td>35.0</td>\n",
              "      <td>2017/3/20</td>\n",
              "      <td>73</td>\n",
              "      <td>1</td>\n",
              "      <td>24.3</td>\n",
              "      <td>29.1</td>\n",
              "      <td>81.0</td>\n",
              "      <td>65.0</td>\n",
              "      <td>0.0</td>\n",
              "      <td>23.221440</td>\n",
              "      <td>NaN</td>\n",
              "      <td>NaN</td>\n",
              "      <td>NaN</td>\n",
              "      <td>NaN</td>\n",
              "      <td>NaN</td>\n",
              "    </tr>\n",
              "    <tr>\n",
              "      <th>4</th>\n",
              "      <td>4</td>\n",
              "      <td>3256</td>\n",
              "      <td>1</td>\n",
              "      <td>1051850</td>\n",
              "      <td>96040547.0</td>\n",
              "      <td>7H9502</td>\n",
              "      <td>1</td>\n",
              "      <td>42</td>\n",
              "      <td>28.8</td>\n",
              "      <td>2015/2/5</td>\n",
              "      <td>28</td>\n",
              "      <td>0</td>\n",
              "      <td>10.4</td>\n",
              "      <td>11.1</td>\n",
              "      <td>71.0</td>\n",
              "      <td>55.0</td>\n",
              "      <td>3.5</td>\n",
              "      <td>10.980262</td>\n",
              "      <td>NaN</td>\n",
              "      <td>NaN</td>\n",
              "      <td>NaN</td>\n",
              "      <td>NaN</td>\n",
              "      <td>NaN</td>\n",
              "    </tr>\n",
              "    <tr>\n",
              "      <th>...</th>\n",
              "      <td>...</td>\n",
              "      <td>...</td>\n",
              "      <td>...</td>\n",
              "      <td>...</td>\n",
              "      <td>...</td>\n",
              "      <td>...</td>\n",
              "      <td>...</td>\n",
              "      <td>...</td>\n",
              "      <td>...</td>\n",
              "      <td>...</td>\n",
              "      <td>...</td>\n",
              "      <td>...</td>\n",
              "      <td>...</td>\n",
              "      <td>...</td>\n",
              "      <td>...</td>\n",
              "      <td>...</td>\n",
              "      <td>...</td>\n",
              "      <td>...</td>\n",
              "      <td>...</td>\n",
              "      <td>...</td>\n",
              "      <td>...</td>\n",
              "      <td>...</td>\n",
              "      <td>...</td>\n",
              "    </tr>\n",
              "    <tr>\n",
              "      <th>6678</th>\n",
              "      <td>7496</td>\n",
              "      <td>11987</td>\n",
              "      <td>2</td>\n",
              "      <td>1123347</td>\n",
              "      <td>99116307.0</td>\n",
              "      <td>7H8361</td>\n",
              "      <td>3</td>\n",
              "      <td>18</td>\n",
              "      <td>39.0</td>\n",
              "      <td>2015/8/20</td>\n",
              "      <td>42</td>\n",
              "      <td>0</td>\n",
              "      <td>31.0</td>\n",
              "      <td>34.9</td>\n",
              "      <td>82.0</td>\n",
              "      <td>61.0</td>\n",
              "      <td>0.0</td>\n",
              "      <td>29.323086</td>\n",
              "      <td>NaN</td>\n",
              "      <td>NaN</td>\n",
              "      <td>NaN</td>\n",
              "      <td>NaN</td>\n",
              "      <td>NaN</td>\n",
              "    </tr>\n",
              "    <tr>\n",
              "      <th>6679</th>\n",
              "      <td>7497</td>\n",
              "      <td>23863</td>\n",
              "      <td>2</td>\n",
              "      <td>99127667</td>\n",
              "      <td>NaN</td>\n",
              "      <td>200H1715</td>\n",
              "      <td>2</td>\n",
              "      <td>508</td>\n",
              "      <td>10.0</td>\n",
              "      <td>2014/7/21</td>\n",
              "      <td>52</td>\n",
              "      <td>4</td>\n",
              "      <td>31.5</td>\n",
              "      <td>34.8</td>\n",
              "      <td>72.0</td>\n",
              "      <td>54.0</td>\n",
              "      <td>0.0</td>\n",
              "      <td>28.814617</td>\n",
              "      <td>NaN</td>\n",
              "      <td>NaN</td>\n",
              "      <td>NaN</td>\n",
              "      <td>NaN</td>\n",
              "      <td>NaN</td>\n",
              "    </tr>\n",
              "    <tr>\n",
              "      <th>6680</th>\n",
              "      <td>7498</td>\n",
              "      <td>24192</td>\n",
              "      <td>2</td>\n",
              "      <td>97124147</td>\n",
              "      <td>NaN</td>\n",
              "      <td>7H6155</td>\n",
              "      <td>3</td>\n",
              "      <td>158</td>\n",
              "      <td>30.6</td>\n",
              "      <td>2013/5/27</td>\n",
              "      <td>62</td>\n",
              "      <td>1</td>\n",
              "      <td>29.3</td>\n",
              "      <td>34.4</td>\n",
              "      <td>75.0</td>\n",
              "      <td>51.0</td>\n",
              "      <td>0.0</td>\n",
              "      <td>27.200232</td>\n",
              "      <td>NaN</td>\n",
              "      <td>NaN</td>\n",
              "      <td>NaN</td>\n",
              "      <td>NaN</td>\n",
              "      <td>NaN</td>\n",
              "    </tr>\n",
              "    <tr>\n",
              "      <th>6681</th>\n",
              "      <td>7500</td>\n",
              "      <td>14623</td>\n",
              "      <td>2</td>\n",
              "      <td>2122364</td>\n",
              "      <td>95110600.0</td>\n",
              "      <td>29H10124</td>\n",
              "      <td>1</td>\n",
              "      <td>9</td>\n",
              "      <td>20.0</td>\n",
              "      <td>2014/12/25</td>\n",
              "      <td>22</td>\n",
              "      <td>0</td>\n",
              "      <td>16.9</td>\n",
              "      <td>19.5</td>\n",
              "      <td>80.0</td>\n",
              "      <td>60.0</td>\n",
              "      <td>5.5</td>\n",
              "      <td>16.578618</td>\n",
              "      <td>NaN</td>\n",
              "      <td>NaN</td>\n",
              "      <td>NaN</td>\n",
              "      <td>NaN</td>\n",
              "      <td>NaN</td>\n",
              "    </tr>\n",
              "    <tr>\n",
              "      <th>6682</th>\n",
              "      <td>7501</td>\n",
              "      <td>27986</td>\n",
              "      <td>2</td>\n",
              "      <td>4123090</td>\n",
              "      <td>2111107.0</td>\n",
              "      <td>501HO2611</td>\n",
              "      <td>1</td>\n",
              "      <td>204</td>\n",
              "      <td>16.0</td>\n",
              "      <td>2018/4/18</td>\n",
              "      <td>32</td>\n",
              "      <td>4</td>\n",
              "      <td>21.7</td>\n",
              "      <td>25.9</td>\n",
              "      <td>72.0</td>\n",
              "      <td>62.0</td>\n",
              "      <td>0.0</td>\n",
              "      <td>20.509629</td>\n",
              "      <td>NaN</td>\n",
              "      <td>NaN</td>\n",
              "      <td>NaN</td>\n",
              "      <td>NaN</td>\n",
              "      <td>NaN</td>\n",
              "    </tr>\n",
              "  </tbody>\n",
              "</table>\n",
              "<p>6683 rows × 23 columns</p>\n",
              "</div>"
            ],
            "text/plain": [
              "      index     ID  firm  ...  disease  Sampling D Year Sampling D Month\n",
              "0         0  18072     2  ...      NaN              NaN              NaN\n",
              "1         1  15357     2  ...      NaN              NaN              NaN\n",
              "2         2  37069     3  ...      NaN              NaN              NaN\n",
              "3         3  17574     2  ...      NaN              NaN              NaN\n",
              "4         4   3256     1  ...      NaN              NaN              NaN\n",
              "...     ...    ...   ...  ...      ...              ...              ...\n",
              "6678   7496  11987     2  ...      NaN              NaN              NaN\n",
              "6679   7497  23863     2  ...      NaN              NaN              NaN\n",
              "6680   7498  24192     2  ...      NaN              NaN              NaN\n",
              "6681   7500  14623     2  ...      NaN              NaN              NaN\n",
              "6682   7501  27986     2  ...      NaN              NaN              NaN\n",
              "\n",
              "[6683 rows x 23 columns]"
            ]
          },
          "metadata": {
            "tags": []
          },
          "execution_count": 16
        }
      ]
    },
    {
      "cell_type": "code",
      "metadata": {
        "id": "53GcIgqFOMh3",
        "colab_type": "code",
        "colab": {}
      },
      "source": [
        "#處理new_train的\n",
        "#父親精液編號 \n",
        "new_train['DadID']=new_train['DadID'].fillna(\"NoData\").astype(\"str\")\n",
        "\n",
        "#將MomID中沒有編號的打為NoData \n",
        "new_train['MomID']=new_train['MomID'].fillna(\"NoData\").astype(\"str\")\n",
        "\n",
        "avg_Temperature_tr=new_train['Temperature'].mean() #將平均溫度Nan部分以算術平均數之平均溫度取代\n",
        "new_train['Temperature']= new_train['Temperature'].fillna(avg_Temperature_tr)\n",
        "\n",
        "\n",
        "avg_T_Max_tr=new_train['T Max'].mean()          #將最高溫度Nan部分以算術平均數之最高溫度取代\n",
        "new_train['T Max']= new_train['T Max'].fillna(avg_T_Max_tr)\n",
        "\n",
        "\n",
        "avg_RH_tr=new_train['RH'].mean()                  #將相對濕度Nan部分以算術平均數之相對濕度取代\n",
        "new_train['RH']= new_train['RH'].fillna(avg_RH_tr)\n",
        "\n",
        "\n",
        "avg_RH_Min_tr=new_train['RHMin'].mean()         #將最小相對濕度Nan部分以算術平均數之最小相對濕度取代\n",
        "new_train['RHMin']= new_train['RHMin'].fillna(avg_RH_Min_tr)\n",
        "\n",
        "\n",
        "avg_Precp_tr=new_train['Precp'].mean()          #將降水量Nan部分以算術平均數之降水量取代\n",
        "new_train['Precp']= new_train['Precp'].fillna(avg_Precp_tr)\n",
        "\n",
        "avg_THI_tr=new_train['THI'].mean()          #將THI Nan部分以算術平均數之THI取代\n",
        "new_train['THI']= new_train['THI'].fillna(avg_THI_tr)\n",
        "\n",
        "new_train.dropna(subset=['FeedDay','DadID','MomID'], inplace=True)\n",
        "#new_train"
      ],
      "execution_count": 17,
      "outputs": []
    },
    {
      "cell_type": "code",
      "metadata": {
        "id": "HRuXAuAOOOKX",
        "colab_type": "code",
        "colab": {}
      },
      "source": [
        "#處理new_test的\n",
        "#父親精液編號\n",
        "new_test['DadID']=new_test['DadID'].fillna(\"NoData\").astype(\"str\")\n",
        "\n",
        "#將MomID中沒有編號的打為NoData \n",
        "new_test['MomID']=new_test['MomID'].fillna(\"NoData\").astype(\"str\")\n",
        "\n",
        "avg_Temperature=new_test['Temperature'].mean() #將平均溫度Nan部分以算術平均數之平均溫度取代\n",
        "new_test['Temperature']= new_test['Temperature'].fillna(avg_Temperature)\n",
        "\n",
        "\n",
        "avg_T_Max=new_test['T Max'].mean()          #將最高溫度Nan部分以算術平均數之最高溫度取代\n",
        "new_test['T Max']= new_test['T Max'].fillna(avg_T_Max)\n",
        "\n",
        "\n",
        "avg_RH=new_test['RH'].mean()                  #將相對濕度Nan部分以算術平均數之相對濕度取代\n",
        "new_test['RH']= new_test['RH'].fillna(avg_RH)\n",
        "\n",
        "\n",
        "avg_RH_Min=new_test['RHMin'].mean()         #將最小相對濕度Nan部分以算術平均數之最小相對濕度取代\n",
        "new_test['RHMin']= new_test['RHMin'].fillna(avg_RH_Min)\n",
        "\n",
        "\n",
        "avg_Precp=new_test['Precp'].mean()          #將降水量Nan部分以算術平均數之降水量取代\n",
        "new_test['Precp']= new_test['Precp'].fillna(avg_Precp)\n",
        "\n",
        "avg_THI=new_test['THI'].mean()          #將THI Nan部分以算術平均數之THI取代\n",
        "new_test['THI']= new_test['THI'].fillna(avg_THI)\n",
        "#\n",
        "#new_test\n"
      ],
      "execution_count": 18,
      "outputs": []
    },
    {
      "cell_type": "code",
      "metadata": {
        "id": "7WTevp9ROPdS",
        "colab_type": "code",
        "colab": {
          "base_uri": "https://localhost:8080/",
          "height": 187
        },
        "outputId": "3c6287db-c7dd-4ce0-f5fb-29f2685a7a64"
      },
      "source": [
        "from datetime import datetime\n",
        "for i in range(len(new_train['Sampling date'])):\n",
        "          sdate=datetime.strptime(new_train['Sampling date'][i], \"%Y/%m/%d\")\n",
        "          new_train['Sampling D Year'][i]= sdate.year\n",
        "          new_train['Sampling D Month'][i]= sdate.month\n",
        "#new_train"
      ],
      "execution_count": 19,
      "outputs": [
        {
          "output_type": "stream",
          "text": [
            "/usr/local/lib/python3.6/dist-packages/ipykernel_launcher.py:4: SettingWithCopyWarning: \n",
            "A value is trying to be set on a copy of a slice from a DataFrame\n",
            "\n",
            "See the caveats in the documentation: https://pandas.pydata.org/pandas-docs/stable/user_guide/indexing.html#returning-a-view-versus-a-copy\n",
            "  after removing the cwd from sys.path.\n",
            "/usr/local/lib/python3.6/dist-packages/ipykernel_launcher.py:5: SettingWithCopyWarning: \n",
            "A value is trying to be set on a copy of a slice from a DataFrame\n",
            "\n",
            "See the caveats in the documentation: https://pandas.pydata.org/pandas-docs/stable/user_guide/indexing.html#returning-a-view-versus-a-copy\n",
            "  \"\"\"\n"
          ],
          "name": "stderr"
        }
      ]
    },
    {
      "cell_type": "code",
      "metadata": {
        "id": "P7wu_JFEOQz4",
        "colab_type": "code",
        "colab": {
          "base_uri": "https://localhost:8080/",
          "height": 187
        },
        "outputId": "2752da10-9faa-49f7-85ab-96d9de7689d9"
      },
      "source": [
        "for i in range(len(new_test['Sampling date'])):\n",
        "          sdate=datetime.strptime(new_test['Sampling date'][i], \"%Y/%m/%d\")\n",
        "          new_test['Sampling D Year'][i]= sdate.year\n",
        "          new_test['Sampling D Month'][i]= sdate.month\n",
        "#new_test"
      ],
      "execution_count": 20,
      "outputs": [
        {
          "output_type": "stream",
          "text": [
            "/usr/local/lib/python3.6/dist-packages/ipykernel_launcher.py:3: SettingWithCopyWarning: \n",
            "A value is trying to be set on a copy of a slice from a DataFrame\n",
            "\n",
            "See the caveats in the documentation: https://pandas.pydata.org/pandas-docs/stable/user_guide/indexing.html#returning-a-view-versus-a-copy\n",
            "  This is separate from the ipykernel package so we can avoid doing imports until\n",
            "/usr/local/lib/python3.6/dist-packages/ipykernel_launcher.py:4: SettingWithCopyWarning: \n",
            "A value is trying to be set on a copy of a slice from a DataFrame\n",
            "\n",
            "See the caveats in the documentation: https://pandas.pydata.org/pandas-docs/stable/user_guide/indexing.html#returning-a-view-versus-a-copy\n",
            "  after removing the cwd from sys.path.\n"
          ],
          "name": "stderr"
        }
      ]
    },
    {
      "cell_type": "code",
      "metadata": {
        "id": "i0UXtTi9OSHI",
        "colab_type": "code",
        "colab": {
          "base_uri": "https://localhost:8080/",
          "height": 102
        },
        "outputId": "d1a51231-1f4c-4d22-98f5-80df2ac1033b"
      },
      "source": [
        "#new_train把當月有病的標記起來(為1)\n",
        "for i in range(len(spec)):\n",
        "    dd=datetime.strptime(spec['4'][i], \"%Y/%m/%d %H:%M\")\n",
        "    if len(new_train.index[new_train['CowID'] == spec['1'][i]])>0:\n",
        "        for j in new_train.index[new_train['CowID'] == spec['1'][i]]:\n",
        "            if new_train['Sampling D Year'][j] == dd.year and new_train['Sampling D Month'][j] == dd.month and new_train['firm'][j]==spec['7'][i]:\n",
        "                new_train['disease'][j] = 1\n",
        "                #print(j,new_train['CowID'][j],new_train['Sampling D Year'][j],new_train['Sampling D Month'][j])\n",
        "\n",
        "#new_train"
      ],
      "execution_count": 21,
      "outputs": [
        {
          "output_type": "stream",
          "text": [
            "/usr/local/lib/python3.6/dist-packages/ipykernel_launcher.py:7: SettingWithCopyWarning: \n",
            "A value is trying to be set on a copy of a slice from a DataFrame\n",
            "\n",
            "See the caveats in the documentation: https://pandas.pydata.org/pandas-docs/stable/user_guide/indexing.html#returning-a-view-versus-a-copy\n",
            "  import sys\n"
          ],
          "name": "stderr"
        }
      ]
    },
    {
      "cell_type": "code",
      "metadata": {
        "id": "4BN-ljceOTSy",
        "colab_type": "code",
        "colab": {
          "base_uri": "https://localhost:8080/",
          "height": 102
        },
        "outputId": "7dda3936-7012-4302-dedd-934548fe776b"
      },
      "source": [
        "#new_test把當月有病的標記起來(為1)\n",
        "for i in range(len(spec)):\n",
        "    dd=datetime.strptime(spec['4'][i], \"%Y/%m/%d %H:%M\")\n",
        "    if len(new_test.index[new_test['CowID'] == spec['1'][i]])>0:\n",
        "        for j in new_test.index[new_test['CowID'] == spec['1'][i]]:\n",
        "            if new_test['Sampling D Year'][j] == dd.year and new_test['Sampling D Month'][j] == dd.month and new_test['firm'][j]==spec['7'][i]:\n",
        "                new_test['disease'][j] = 1\n",
        "                #print(j,new_test['CowID'][j],new_test['Sampling D Year'][j],new_test['Sampling D Month'][j])\n",
        "\n",
        "#new_test"
      ],
      "execution_count": 22,
      "outputs": [
        {
          "output_type": "stream",
          "text": [
            "/usr/local/lib/python3.6/dist-packages/ipykernel_launcher.py:7: SettingWithCopyWarning: \n",
            "A value is trying to be set on a copy of a slice from a DataFrame\n",
            "\n",
            "See the caveats in the documentation: https://pandas.pydata.org/pandas-docs/stable/user_guide/indexing.html#returning-a-view-versus-a-copy\n",
            "  import sys\n"
          ],
          "name": "stderr"
        }
      ]
    },
    {
      "cell_type": "code",
      "metadata": {
        "id": "e2ZFaMLuOUlG",
        "colab_type": "code",
        "colab": {}
      },
      "source": [
        "new_train=new_train.fillna(0)\n",
        "new_test=new_test.fillna(0)\n",
        "new_train.reset_index(inplace=True,drop=True)"
      ],
      "execution_count": 23,
      "outputs": []
    },
    {
      "cell_type": "code",
      "metadata": {
        "id": "_R_oe_o6OVAl",
        "colab_type": "code",
        "colab": {}
      },
      "source": [
        "#new_train"
      ],
      "execution_count": 24,
      "outputs": []
    },
    {
      "cell_type": "code",
      "metadata": {
        "id": "y0Kz5jCdOWEs",
        "colab_type": "code",
        "colab": {
          "base_uri": "https://localhost:8080/",
          "height": 510
        },
        "outputId": "546c0020-3e27-4572-e89b-f089da8bed05"
      },
      "source": [
        "#改new_train\n",
        "i=0\n",
        "#for i in range(len(new_train['Sampling D Month'])):\n",
        "#          if int(new_train['Sampling D Month'][i]) >=3 and int(new_train['Sampling D Month'][i])<=5:\n",
        "#              new_train['Sampling D Month'][i] = \"Spring\"\n",
        "#          elif int(new_train['Sampling D Month'][i]) >=6 and int(new_train['Sampling D Month'][i])<=8:\n",
        "#              new_train['Sampling D Month'][i] = \"Summer\"\n",
        "#          elif int(new_train['Sampling D Month'][i]) >=9 and int(new_train['Sampling D Month'][i])<=11:\n",
        "#              new_train['Sampling D Month'][i] = \"Autumn\"\n",
        "#          else:\n",
        "#              new_train['Sampling D Month'][i] = \"Winter\"   \n",
        "#改new_train的feedday以及babynum\n",
        "for i in range(len(new_train['ID'])):\n",
        "    if int(new_train['FeedDay'][i]) <=100:\n",
        "        new_train['cycle'][i] = 0\n",
        "    elif int(new_train['FeedDay'][i]) >=101 and int(new_train['FeedDay'][i]) <=200 :\n",
        "        new_train['cycle'][i] = 1\n",
        "    elif int(new_train['FeedDay'][i]) >=201 and int(new_train['FeedDay'][i]) <=305:\n",
        "        new_train['cycle'][i] = 2\n",
        "    else:\n",
        "        new_train['cycle'][i] = 3\n",
        "\n",
        "    if int(new_train['BabyNum'][i]) <=2:\n",
        "        new_train['tcalving number'][i] = 0\n",
        "    elif int(new_train['BabyNum'][i])>=7:\n",
        "        new_train['tcalving number'][i] = 2\n",
        "    else:\n",
        "        new_train['tcalving number'][i] = 1\n",
        "\n",
        "#new_train"
      ],
      "execution_count": 25,
      "outputs": [
        {
          "output_type": "stream",
          "text": [
            "/usr/local/lib/python3.6/dist-packages/ipykernel_launcher.py:15: SettingWithCopyWarning: \n",
            "A value is trying to be set on a copy of a slice from a DataFrame\n",
            "\n",
            "See the caveats in the documentation: https://pandas.pydata.org/pandas-docs/stable/user_guide/indexing.html#returning-a-view-versus-a-copy\n",
            "  from ipykernel import kernelapp as app\n",
            "/usr/local/lib/python3.6/dist-packages/ipykernel_launcher.py:24: SettingWithCopyWarning: \n",
            "A value is trying to be set on a copy of a slice from a DataFrame\n",
            "\n",
            "See the caveats in the documentation: https://pandas.pydata.org/pandas-docs/stable/user_guide/indexing.html#returning-a-view-versus-a-copy\n",
            "/usr/local/lib/python3.6/dist-packages/ipykernel_launcher.py:19: SettingWithCopyWarning: \n",
            "A value is trying to be set on a copy of a slice from a DataFrame\n",
            "\n",
            "See the caveats in the documentation: https://pandas.pydata.org/pandas-docs/stable/user_guide/indexing.html#returning-a-view-versus-a-copy\n",
            "/usr/local/lib/python3.6/dist-packages/ipykernel_launcher.py:17: SettingWithCopyWarning: \n",
            "A value is trying to be set on a copy of a slice from a DataFrame\n",
            "\n",
            "See the caveats in the documentation: https://pandas.pydata.org/pandas-docs/stable/user_guide/indexing.html#returning-a-view-versus-a-copy\n",
            "/usr/local/lib/python3.6/dist-packages/ipykernel_launcher.py:28: SettingWithCopyWarning: \n",
            "A value is trying to be set on a copy of a slice from a DataFrame\n",
            "\n",
            "See the caveats in the documentation: https://pandas.pydata.org/pandas-docs/stable/user_guide/indexing.html#returning-a-view-versus-a-copy\n",
            "/usr/local/lib/python3.6/dist-packages/ipykernel_launcher.py:21: SettingWithCopyWarning: \n",
            "A value is trying to be set on a copy of a slice from a DataFrame\n",
            "\n",
            "See the caveats in the documentation: https://pandas.pydata.org/pandas-docs/stable/user_guide/indexing.html#returning-a-view-versus-a-copy\n",
            "/usr/local/lib/python3.6/dist-packages/ipykernel_launcher.py:26: SettingWithCopyWarning: \n",
            "A value is trying to be set on a copy of a slice from a DataFrame\n",
            "\n",
            "See the caveats in the documentation: https://pandas.pydata.org/pandas-docs/stable/user_guide/indexing.html#returning-a-view-versus-a-copy\n"
          ],
          "name": "stderr"
        }
      ]
    },
    {
      "cell_type": "code",
      "metadata": {
        "id": "_XtSP6BZOXm5",
        "colab_type": "code",
        "colab": {
          "base_uri": "https://localhost:8080/",
          "height": 929
        },
        "outputId": "be83e1c4-a0ca-43e6-ca6b-a9a5b00c3c87"
      },
      "source": [
        "#改new_test\n",
        "i=0\n",
        "#for i in range(len(new_test['Sampling D Month'])):\n",
        "#          if int(new_test['Sampling D Month'][i]) >=3 and int(new_test['Sampling D Month'][i])<=5:\n",
        "#              new_test['Sampling D Month'][i] = \"Spring\"\n",
        "#          elif int(new_test['Sampling D Month'][i]) >=6 and int(new_test['Sampling D Month'][i])<=8:\n",
        "#              new_test['Sampling D Month'][i] = \"Summer\"\n",
        "#          elif int(new_test['Sampling D Month'][i]) >=9 and int(new_test['Sampling D Month'][i])<=11:\n",
        "#              new_test['Sampling D Month'][i] = \"Autumn\"\n",
        "#          else:\n",
        "#              new_test['Sampling D Month'][i] = \"Winter\"\n",
        "#改new_test的feedday以及babynum\n",
        "for i in range(len(new_test['ID'])):\n",
        "    if int(new_test['FeedDay'][i]) <=100:\n",
        "        new_test['cycle'][i] = 0\n",
        "    elif int(new_train['FeedDay'][i]) >=101 and int(new_test['FeedDay'][i]) <=200 :\n",
        "        new_test['cycle'][i] = 1\n",
        "    elif int(new_test['FeedDay'][i]) >=201 and int(new_test['FeedDay'][i]) <=305:\n",
        "        new_test['cycle'][i] = 2\n",
        "    else:\n",
        "        new_test['cycle'][i] = 2\n",
        "    if int(new_test['BabyNum'][i]) <=2:\n",
        "        new_test['tcalving number'][i] = 0\n",
        "    elif int(new_test['BabyNum'][i])>=7:\n",
        "        new_test['tcalving number'][i] = 2\n",
        "    else:\n",
        "        new_test['tcalving number'][i] = 1    \n",
        "new_test"
      ],
      "execution_count": 26,
      "outputs": [
        {
          "output_type": "stream",
          "text": [
            "/usr/local/lib/python3.6/dist-packages/ipykernel_launcher.py:21: SettingWithCopyWarning: \n",
            "A value is trying to be set on a copy of a slice from a DataFrame\n",
            "\n",
            "See the caveats in the documentation: https://pandas.pydata.org/pandas-docs/stable/user_guide/indexing.html#returning-a-view-versus-a-copy\n",
            "/usr/local/lib/python3.6/dist-packages/ipykernel_launcher.py:27: SettingWithCopyWarning: \n",
            "A value is trying to be set on a copy of a slice from a DataFrame\n",
            "\n",
            "See the caveats in the documentation: https://pandas.pydata.org/pandas-docs/stable/user_guide/indexing.html#returning-a-view-versus-a-copy\n",
            "/usr/local/lib/python3.6/dist-packages/ipykernel_launcher.py:15: SettingWithCopyWarning: \n",
            "A value is trying to be set on a copy of a slice from a DataFrame\n",
            "\n",
            "See the caveats in the documentation: https://pandas.pydata.org/pandas-docs/stable/user_guide/indexing.html#returning-a-view-versus-a-copy\n",
            "  from ipykernel import kernelapp as app\n",
            "/usr/local/lib/python3.6/dist-packages/ipykernel_launcher.py:23: SettingWithCopyWarning: \n",
            "A value is trying to be set on a copy of a slice from a DataFrame\n",
            "\n",
            "See the caveats in the documentation: https://pandas.pydata.org/pandas-docs/stable/user_guide/indexing.html#returning-a-view-versus-a-copy\n",
            "/usr/local/lib/python3.6/dist-packages/ipykernel_launcher.py:17: SettingWithCopyWarning: \n",
            "A value is trying to be set on a copy of a slice from a DataFrame\n",
            "\n",
            "See the caveats in the documentation: https://pandas.pydata.org/pandas-docs/stable/user_guide/indexing.html#returning-a-view-versus-a-copy\n",
            "/usr/local/lib/python3.6/dist-packages/ipykernel_launcher.py:19: SettingWithCopyWarning: \n",
            "A value is trying to be set on a copy of a slice from a DataFrame\n",
            "\n",
            "See the caveats in the documentation: https://pandas.pydata.org/pandas-docs/stable/user_guide/indexing.html#returning-a-view-versus-a-copy\n",
            "/usr/local/lib/python3.6/dist-packages/ipykernel_launcher.py:25: SettingWithCopyWarning: \n",
            "A value is trying to be set on a copy of a slice from a DataFrame\n",
            "\n",
            "See the caveats in the documentation: https://pandas.pydata.org/pandas-docs/stable/user_guide/indexing.html#returning-a-view-versus-a-copy\n"
          ],
          "name": "stderr"
        },
        {
          "output_type": "execute_result",
          "data": {
            "text/html": [
              "<div>\n",
              "<style scoped>\n",
              "    .dataframe tbody tr th:only-of-type {\n",
              "        vertical-align: middle;\n",
              "    }\n",
              "\n",
              "    .dataframe tbody tr th {\n",
              "        vertical-align: top;\n",
              "    }\n",
              "\n",
              "    .dataframe thead th {\n",
              "        text-align: right;\n",
              "    }\n",
              "</style>\n",
              "<table border=\"1\" class=\"dataframe\">\n",
              "  <thead>\n",
              "    <tr style=\"text-align: right;\">\n",
              "      <th></th>\n",
              "      <th>index</th>\n",
              "      <th>ID</th>\n",
              "      <th>firm</th>\n",
              "      <th>CowID</th>\n",
              "      <th>MomID</th>\n",
              "      <th>DadID</th>\n",
              "      <th>BabyNum</th>\n",
              "      <th>FeedDay</th>\n",
              "      <th>Milk</th>\n",
              "      <th>Sampling date</th>\n",
              "      <th>Age</th>\n",
              "      <th>BreedNum</th>\n",
              "      <th>Temperature</th>\n",
              "      <th>T Max</th>\n",
              "      <th>RH</th>\n",
              "      <th>RHMin</th>\n",
              "      <th>Precp</th>\n",
              "      <th>THI</th>\n",
              "      <th>cycle</th>\n",
              "      <th>tcalving number</th>\n",
              "      <th>disease</th>\n",
              "      <th>Sampling D Year</th>\n",
              "      <th>Sampling D Month</th>\n",
              "    </tr>\n",
              "  </thead>\n",
              "  <tbody>\n",
              "    <tr>\n",
              "      <th>0</th>\n",
              "      <td>0</td>\n",
              "      <td>18072</td>\n",
              "      <td>2</td>\n",
              "      <td>122630</td>\n",
              "      <td>98111436.0</td>\n",
              "      <td>007HO08361</td>\n",
              "      <td>3</td>\n",
              "      <td>183</td>\n",
              "      <td>40.0</td>\n",
              "      <td>2017/1/19</td>\n",
              "      <td>70</td>\n",
              "      <td>2</td>\n",
              "      <td>20.800000</td>\n",
              "      <td>25.500000</td>\n",
              "      <td>85.00000</td>\n",
              "      <td>69.000000</td>\n",
              "      <td>0.000000</td>\n",
              "      <td>20.236278</td>\n",
              "      <td>2.0</td>\n",
              "      <td>1.0</td>\n",
              "      <td>0.0</td>\n",
              "      <td>2017.0</td>\n",
              "      <td>1.0</td>\n",
              "    </tr>\n",
              "    <tr>\n",
              "      <th>1</th>\n",
              "      <td>1</td>\n",
              "      <td>15357</td>\n",
              "      <td>2</td>\n",
              "      <td>2122398</td>\n",
              "      <td>98111423.0</td>\n",
              "      <td>7H7536</td>\n",
              "      <td>3</td>\n",
              "      <td>71</td>\n",
              "      <td>28.0</td>\n",
              "      <td>2017/7/18</td>\n",
              "      <td>50</td>\n",
              "      <td>0</td>\n",
              "      <td>23.953353</td>\n",
              "      <td>35.200000</td>\n",
              "      <td>82.00000</td>\n",
              "      <td>69.000000</td>\n",
              "      <td>0.000000</td>\n",
              "      <td>22.838761</td>\n",
              "      <td>0.0</td>\n",
              "      <td>1.0</td>\n",
              "      <td>0.0</td>\n",
              "      <td>2017.0</td>\n",
              "      <td>7.0</td>\n",
              "    </tr>\n",
              "    <tr>\n",
              "      <th>2</th>\n",
              "      <td>2</td>\n",
              "      <td>37069</td>\n",
              "      <td>3</td>\n",
              "      <td>99183211</td>\n",
              "      <td>94172172.0</td>\n",
              "      <td>1H8328</td>\n",
              "      <td>1</td>\n",
              "      <td>365</td>\n",
              "      <td>12.0</td>\n",
              "      <td>2013/6/25</td>\n",
              "      <td>38</td>\n",
              "      <td>5</td>\n",
              "      <td>23.953353</td>\n",
              "      <td>27.808703</td>\n",
              "      <td>78.38099</td>\n",
              "      <td>59.814749</td>\n",
              "      <td>4.851584</td>\n",
              "      <td>22.838761</td>\n",
              "      <td>2.0</td>\n",
              "      <td>0.0</td>\n",
              "      <td>0.0</td>\n",
              "      <td>2013.0</td>\n",
              "      <td>6.0</td>\n",
              "    </tr>\n",
              "    <tr>\n",
              "      <th>3</th>\n",
              "      <td>3</td>\n",
              "      <td>17574</td>\n",
              "      <td>2</td>\n",
              "      <td>122607</td>\n",
              "      <td>98115809.0</td>\n",
              "      <td>029HO11295</td>\n",
              "      <td>4</td>\n",
              "      <td>177</td>\n",
              "      <td>35.0</td>\n",
              "      <td>2017/3/20</td>\n",
              "      <td>73</td>\n",
              "      <td>1</td>\n",
              "      <td>24.300000</td>\n",
              "      <td>29.100000</td>\n",
              "      <td>81.00000</td>\n",
              "      <td>65.000000</td>\n",
              "      <td>0.000000</td>\n",
              "      <td>23.221440</td>\n",
              "      <td>1.0</td>\n",
              "      <td>1.0</td>\n",
              "      <td>0.0</td>\n",
              "      <td>2017.0</td>\n",
              "      <td>3.0</td>\n",
              "    </tr>\n",
              "    <tr>\n",
              "      <th>4</th>\n",
              "      <td>4</td>\n",
              "      <td>3256</td>\n",
              "      <td>1</td>\n",
              "      <td>1051850</td>\n",
              "      <td>96040547.0</td>\n",
              "      <td>7H9502</td>\n",
              "      <td>1</td>\n",
              "      <td>42</td>\n",
              "      <td>28.8</td>\n",
              "      <td>2015/2/5</td>\n",
              "      <td>28</td>\n",
              "      <td>0</td>\n",
              "      <td>10.400000</td>\n",
              "      <td>11.100000</td>\n",
              "      <td>71.00000</td>\n",
              "      <td>55.000000</td>\n",
              "      <td>3.500000</td>\n",
              "      <td>10.980262</td>\n",
              "      <td>0.0</td>\n",
              "      <td>0.0</td>\n",
              "      <td>0.0</td>\n",
              "      <td>2015.0</td>\n",
              "      <td>2.0</td>\n",
              "    </tr>\n",
              "    <tr>\n",
              "      <th>...</th>\n",
              "      <td>...</td>\n",
              "      <td>...</td>\n",
              "      <td>...</td>\n",
              "      <td>...</td>\n",
              "      <td>...</td>\n",
              "      <td>...</td>\n",
              "      <td>...</td>\n",
              "      <td>...</td>\n",
              "      <td>...</td>\n",
              "      <td>...</td>\n",
              "      <td>...</td>\n",
              "      <td>...</td>\n",
              "      <td>...</td>\n",
              "      <td>...</td>\n",
              "      <td>...</td>\n",
              "      <td>...</td>\n",
              "      <td>...</td>\n",
              "      <td>...</td>\n",
              "      <td>...</td>\n",
              "      <td>...</td>\n",
              "      <td>...</td>\n",
              "      <td>...</td>\n",
              "      <td>...</td>\n",
              "    </tr>\n",
              "    <tr>\n",
              "      <th>6678</th>\n",
              "      <td>7496</td>\n",
              "      <td>11987</td>\n",
              "      <td>2</td>\n",
              "      <td>1123347</td>\n",
              "      <td>99116307.0</td>\n",
              "      <td>7H8361</td>\n",
              "      <td>3</td>\n",
              "      <td>18</td>\n",
              "      <td>39.0</td>\n",
              "      <td>2015/8/20</td>\n",
              "      <td>42</td>\n",
              "      <td>0</td>\n",
              "      <td>31.000000</td>\n",
              "      <td>34.900000</td>\n",
              "      <td>82.00000</td>\n",
              "      <td>61.000000</td>\n",
              "      <td>0.000000</td>\n",
              "      <td>29.323086</td>\n",
              "      <td>0.0</td>\n",
              "      <td>1.0</td>\n",
              "      <td>0.0</td>\n",
              "      <td>2015.0</td>\n",
              "      <td>8.0</td>\n",
              "    </tr>\n",
              "    <tr>\n",
              "      <th>6679</th>\n",
              "      <td>7497</td>\n",
              "      <td>23863</td>\n",
              "      <td>2</td>\n",
              "      <td>99127667</td>\n",
              "      <td>NoData</td>\n",
              "      <td>200H1715</td>\n",
              "      <td>2</td>\n",
              "      <td>508</td>\n",
              "      <td>10.0</td>\n",
              "      <td>2014/7/21</td>\n",
              "      <td>52</td>\n",
              "      <td>4</td>\n",
              "      <td>31.500000</td>\n",
              "      <td>34.800000</td>\n",
              "      <td>72.00000</td>\n",
              "      <td>54.000000</td>\n",
              "      <td>0.000000</td>\n",
              "      <td>28.814617</td>\n",
              "      <td>2.0</td>\n",
              "      <td>0.0</td>\n",
              "      <td>0.0</td>\n",
              "      <td>2014.0</td>\n",
              "      <td>7.0</td>\n",
              "    </tr>\n",
              "    <tr>\n",
              "      <th>6680</th>\n",
              "      <td>7498</td>\n",
              "      <td>24192</td>\n",
              "      <td>2</td>\n",
              "      <td>97124147</td>\n",
              "      <td>NoData</td>\n",
              "      <td>7H6155</td>\n",
              "      <td>3</td>\n",
              "      <td>158</td>\n",
              "      <td>30.6</td>\n",
              "      <td>2013/5/27</td>\n",
              "      <td>62</td>\n",
              "      <td>1</td>\n",
              "      <td>29.300000</td>\n",
              "      <td>34.400000</td>\n",
              "      <td>75.00000</td>\n",
              "      <td>51.000000</td>\n",
              "      <td>0.000000</td>\n",
              "      <td>27.200232</td>\n",
              "      <td>2.0</td>\n",
              "      <td>1.0</td>\n",
              "      <td>0.0</td>\n",
              "      <td>2013.0</td>\n",
              "      <td>5.0</td>\n",
              "    </tr>\n",
              "    <tr>\n",
              "      <th>6681</th>\n",
              "      <td>7500</td>\n",
              "      <td>14623</td>\n",
              "      <td>2</td>\n",
              "      <td>2122364</td>\n",
              "      <td>95110600.0</td>\n",
              "      <td>29H10124</td>\n",
              "      <td>1</td>\n",
              "      <td>9</td>\n",
              "      <td>20.0</td>\n",
              "      <td>2014/12/25</td>\n",
              "      <td>22</td>\n",
              "      <td>0</td>\n",
              "      <td>16.900000</td>\n",
              "      <td>19.500000</td>\n",
              "      <td>80.00000</td>\n",
              "      <td>60.000000</td>\n",
              "      <td>5.500000</td>\n",
              "      <td>16.578618</td>\n",
              "      <td>0.0</td>\n",
              "      <td>0.0</td>\n",
              "      <td>1.0</td>\n",
              "      <td>2014.0</td>\n",
              "      <td>12.0</td>\n",
              "    </tr>\n",
              "    <tr>\n",
              "      <th>6682</th>\n",
              "      <td>7501</td>\n",
              "      <td>27986</td>\n",
              "      <td>2</td>\n",
              "      <td>4123090</td>\n",
              "      <td>2111107.0</td>\n",
              "      <td>501HO2611</td>\n",
              "      <td>1</td>\n",
              "      <td>204</td>\n",
              "      <td>16.0</td>\n",
              "      <td>2018/4/18</td>\n",
              "      <td>32</td>\n",
              "      <td>4</td>\n",
              "      <td>21.700000</td>\n",
              "      <td>25.900000</td>\n",
              "      <td>72.00000</td>\n",
              "      <td>62.000000</td>\n",
              "      <td>0.000000</td>\n",
              "      <td>20.509629</td>\n",
              "      <td>2.0</td>\n",
              "      <td>0.0</td>\n",
              "      <td>0.0</td>\n",
              "      <td>2018.0</td>\n",
              "      <td>4.0</td>\n",
              "    </tr>\n",
              "  </tbody>\n",
              "</table>\n",
              "<p>6683 rows × 23 columns</p>\n",
              "</div>"
            ],
            "text/plain": [
              "      index     ID  firm  ...  disease Sampling D Year Sampling D Month\n",
              "0         0  18072     2  ...      0.0          2017.0              1.0\n",
              "1         1  15357     2  ...      0.0          2017.0              7.0\n",
              "2         2  37069     3  ...      0.0          2013.0              6.0\n",
              "3         3  17574     2  ...      0.0          2017.0              3.0\n",
              "4         4   3256     1  ...      0.0          2015.0              2.0\n",
              "...     ...    ...   ...  ...      ...             ...              ...\n",
              "6678   7496  11987     2  ...      0.0          2015.0              8.0\n",
              "6679   7497  23863     2  ...      0.0          2014.0              7.0\n",
              "6680   7498  24192     2  ...      0.0          2013.0              5.0\n",
              "6681   7500  14623     2  ...      1.0          2014.0             12.0\n",
              "6682   7501  27986     2  ...      0.0          2018.0              4.0\n",
              "\n",
              "[6683 rows x 23 columns]"
            ]
          },
          "metadata": {
            "tags": []
          },
          "execution_count": 26
        }
      ]
    },
    {
      "cell_type": "code",
      "metadata": {
        "id": "qeHtnt4bOZVQ",
        "colab_type": "code",
        "colab": {}
      },
      "source": [
        "new_train=new_train.fillna(0)\n",
        "new_test=new_test.fillna(0)"
      ],
      "execution_count": 27,
      "outputs": []
    },
    {
      "cell_type": "code",
      "metadata": {
        "id": "9AqMIEL3ObQm",
        "colab_type": "code",
        "colab": {}
      },
      "source": [
        "##測試為毛y_test會有0的部分 ，勿管\n",
        "new_train_backup01 = new_train\n",
        "new_train_backup01\n",
        "y__tt=pd.DataFrame(data=new_train_backup01,columns=['ID','Milk'])\n",
        "#y__tt\n",
        "#print(y__tt.loc[[3427]])"
      ],
      "execution_count": 28,
      "outputs": []
    },
    {
      "cell_type": "code",
      "metadata": {
        "id": "plSzSFvf_ONi",
        "colab_type": "code",
        "colab": {
          "base_uri": "https://localhost:8080/",
          "height": 221
        },
        "outputId": "a648873c-ae9f-41f5-ac6e-20509126fb2b"
      },
      "source": [
        "y_fortest=new_test['Milk']\n",
        "y_fortest"
      ],
      "execution_count": 29,
      "outputs": [
        {
          "output_type": "execute_result",
          "data": {
            "text/plain": [
              "0       40.0\n",
              "1       28.0\n",
              "2       12.0\n",
              "3       35.0\n",
              "4       28.8\n",
              "        ... \n",
              "6678    39.0\n",
              "6679    10.0\n",
              "6680    30.6\n",
              "6681    20.0\n",
              "6682    16.0\n",
              "Name: Milk, Length: 6683, dtype: float64"
            ]
          },
          "metadata": {
            "tags": []
          },
          "execution_count": 29
        }
      ]
    },
    {
      "cell_type": "code",
      "metadata": {
        "id": "LTpeS-6SOcbn",
        "colab_type": "code",
        "colab": {
          "base_uri": "https://localhost:8080/",
          "height": 221
        },
        "outputId": "56641371-616b-4841-b10e-63b5d63a7f5b"
      },
      "source": [
        "y=new_train['Milk']\n",
        "y"
      ],
      "execution_count": 30,
      "outputs": [
        {
          "output_type": "execute_result",
          "data": {
            "text/plain": [
              "0        20.0\n",
              "1        43.0\n",
              "2        24.0\n",
              "3        18.2\n",
              "4        10.0\n",
              "         ... \n",
              "26475    33.0\n",
              "26476    24.0\n",
              "26477    20.4\n",
              "26478    19.0\n",
              "26479    25.5\n",
              "Name: Milk, Length: 26480, dtype: float64"
            ]
          },
          "metadata": {
            "tags": []
          },
          "execution_count": 30
        }
      ]
    },
    {
      "cell_type": "code",
      "metadata": {
        "id": "WPuuyTrmOfty",
        "colab_type": "code",
        "colab": {}
      },
      "source": [
        "new_train_backup = new_train\n",
        "new_test_backup = new_test"
      ],
      "execution_count": 31,
      "outputs": []
    },
    {
      "cell_type": "code",
      "metadata": {
        "id": "ooFKIIeGOg8o",
        "colab_type": "code",
        "colab": {
          "base_uri": "https://localhost:8080/",
          "height": 419
        },
        "outputId": "05803c9d-ec76-40ab-d48b-9665f5520ef2"
      },
      "source": [
        "#挑選靠賽要訓練的資料\n",
        "new_train=pd.DataFrame(data=new_train_backup,columns=['firm','CowID','BabyNum','FeedDay','Age','BreedNum','T Max','THI','disease','Sampling D Month'])\n",
        "new_train"
      ],
      "execution_count": 32,
      "outputs": [
        {
          "output_type": "execute_result",
          "data": {
            "text/html": [
              "<div>\n",
              "<style scoped>\n",
              "    .dataframe tbody tr th:only-of-type {\n",
              "        vertical-align: middle;\n",
              "    }\n",
              "\n",
              "    .dataframe tbody tr th {\n",
              "        vertical-align: top;\n",
              "    }\n",
              "\n",
              "    .dataframe thead th {\n",
              "        text-align: right;\n",
              "    }\n",
              "</style>\n",
              "<table border=\"1\" class=\"dataframe\">\n",
              "  <thead>\n",
              "    <tr style=\"text-align: right;\">\n",
              "      <th></th>\n",
              "      <th>firm</th>\n",
              "      <th>CowID</th>\n",
              "      <th>BabyNum</th>\n",
              "      <th>FeedDay</th>\n",
              "      <th>Age</th>\n",
              "      <th>BreedNum</th>\n",
              "      <th>T Max</th>\n",
              "      <th>THI</th>\n",
              "      <th>disease</th>\n",
              "      <th>Sampling D Month</th>\n",
              "    </tr>\n",
              "  </thead>\n",
              "  <tbody>\n",
              "    <tr>\n",
              "      <th>0</th>\n",
              "      <td>2</td>\n",
              "      <td>3126105</td>\n",
              "      <td>1</td>\n",
              "      <td>55</td>\n",
              "      <td>30</td>\n",
              "      <td>2</td>\n",
              "      <td>27.826169</td>\n",
              "      <td>22.850519</td>\n",
              "      <td>1.0</td>\n",
              "      <td>7.0</td>\n",
              "    </tr>\n",
              "    <tr>\n",
              "      <th>1</th>\n",
              "      <td>2</td>\n",
              "      <td>3126118</td>\n",
              "      <td>2</td>\n",
              "      <td>62</td>\n",
              "      <td>38</td>\n",
              "      <td>1</td>\n",
              "      <td>34.900000</td>\n",
              "      <td>27.093337</td>\n",
              "      <td>0.0</td>\n",
              "      <td>4.0</td>\n",
              "    </tr>\n",
              "    <tr>\n",
              "      <th>2</th>\n",
              "      <td>2</td>\n",
              "      <td>3126179</td>\n",
              "      <td>1</td>\n",
              "      <td>11</td>\n",
              "      <td>27</td>\n",
              "      <td>0</td>\n",
              "      <td>23.800000</td>\n",
              "      <td>21.498437</td>\n",
              "      <td>0.0</td>\n",
              "      <td>11.0</td>\n",
              "    </tr>\n",
              "    <tr>\n",
              "      <th>3</th>\n",
              "      <td>1</td>\n",
              "      <td>2052011</td>\n",
              "      <td>2</td>\n",
              "      <td>290</td>\n",
              "      <td>57</td>\n",
              "      <td>7</td>\n",
              "      <td>15.700000</td>\n",
              "      <td>12.100133</td>\n",
              "      <td>0.0</td>\n",
              "      <td>3.0</td>\n",
              "    </tr>\n",
              "    <tr>\n",
              "      <th>4</th>\n",
              "      <td>2</td>\n",
              "      <td>127993</td>\n",
              "      <td>2</td>\n",
              "      <td>156</td>\n",
              "      <td>55</td>\n",
              "      <td>1</td>\n",
              "      <td>20.200000</td>\n",
              "      <td>17.597478</td>\n",
              "      <td>0.0</td>\n",
              "      <td>2.0</td>\n",
              "    </tr>\n",
              "    <tr>\n",
              "      <th>...</th>\n",
              "      <td>...</td>\n",
              "      <td>...</td>\n",
              "      <td>...</td>\n",
              "      <td>...</td>\n",
              "      <td>...</td>\n",
              "      <td>...</td>\n",
              "      <td>...</td>\n",
              "      <td>...</td>\n",
              "      <td>...</td>\n",
              "      <td>...</td>\n",
              "    </tr>\n",
              "    <tr>\n",
              "      <th>26475</th>\n",
              "      <td>2</td>\n",
              "      <td>2122400</td>\n",
              "      <td>3</td>\n",
              "      <td>137</td>\n",
              "      <td>60</td>\n",
              "      <td>1</td>\n",
              "      <td>31.900000</td>\n",
              "      <td>27.146230</td>\n",
              "      <td>0.0</td>\n",
              "      <td>5.0</td>\n",
              "    </tr>\n",
              "    <tr>\n",
              "      <th>26476</th>\n",
              "      <td>2</td>\n",
              "      <td>10837415</td>\n",
              "      <td>1</td>\n",
              "      <td>216</td>\n",
              "      <td>33</td>\n",
              "      <td>1</td>\n",
              "      <td>27.900000</td>\n",
              "      <td>24.074355</td>\n",
              "      <td>0.0</td>\n",
              "      <td>10.0</td>\n",
              "    </tr>\n",
              "    <tr>\n",
              "      <th>26477</th>\n",
              "      <td>2</td>\n",
              "      <td>124308</td>\n",
              "      <td>1</td>\n",
              "      <td>37</td>\n",
              "      <td>26</td>\n",
              "      <td>0</td>\n",
              "      <td>16.200000</td>\n",
              "      <td>13.401030</td>\n",
              "      <td>0.0</td>\n",
              "      <td>12.0</td>\n",
              "    </tr>\n",
              "    <tr>\n",
              "      <th>26478</th>\n",
              "      <td>1</td>\n",
              "      <td>1051856</td>\n",
              "      <td>1</td>\n",
              "      <td>73</td>\n",
              "      <td>34</td>\n",
              "      <td>0</td>\n",
              "      <td>34.100000</td>\n",
              "      <td>26.279941</td>\n",
              "      <td>0.0</td>\n",
              "      <td>8.0</td>\n",
              "    </tr>\n",
              "    <tr>\n",
              "      <th>26479</th>\n",
              "      <td>1</td>\n",
              "      <td>96051858</td>\n",
              "      <td>3</td>\n",
              "      <td>321</td>\n",
              "      <td>70</td>\n",
              "      <td>4</td>\n",
              "      <td>33.800000</td>\n",
              "      <td>26.861394</td>\n",
              "      <td>0.0</td>\n",
              "      <td>8.0</td>\n",
              "    </tr>\n",
              "  </tbody>\n",
              "</table>\n",
              "<p>26480 rows × 10 columns</p>\n",
              "</div>"
            ],
            "text/plain": [
              "       firm     CowID  BabyNum  ...        THI  disease  Sampling D Month\n",
              "0         2   3126105        1  ...  22.850519      1.0               7.0\n",
              "1         2   3126118        2  ...  27.093337      0.0               4.0\n",
              "2         2   3126179        1  ...  21.498437      0.0              11.0\n",
              "3         1   2052011        2  ...  12.100133      0.0               3.0\n",
              "4         2    127993        2  ...  17.597478      0.0               2.0\n",
              "...     ...       ...      ...  ...        ...      ...               ...\n",
              "26475     2   2122400        3  ...  27.146230      0.0               5.0\n",
              "26476     2  10837415        1  ...  24.074355      0.0              10.0\n",
              "26477     2    124308        1  ...  13.401030      0.0              12.0\n",
              "26478     1   1051856        1  ...  26.279941      0.0               8.0\n",
              "26479     1  96051858        3  ...  26.861394      0.0               8.0\n",
              "\n",
              "[26480 rows x 10 columns]"
            ]
          },
          "metadata": {
            "tags": []
          },
          "execution_count": 32
        }
      ]
    },
    {
      "cell_type": "code",
      "metadata": {
        "id": "mLzp7n4uOha1",
        "colab_type": "code",
        "colab": {
          "base_uri": "https://localhost:8080/",
          "height": 419
        },
        "outputId": "89b91d08-65d6-4f2e-a24e-6f42172cbd4a"
      },
      "source": [
        "new_test=pd.DataFrame(data=new_test_backup,columns=['firm','CowID','BabyNum','FeedDay','Age','BreedNum','T Max','THI','disease','Sampling D Month'])\n",
        "new_test"
      ],
      "execution_count": 33,
      "outputs": [
        {
          "output_type": "execute_result",
          "data": {
            "text/html": [
              "<div>\n",
              "<style scoped>\n",
              "    .dataframe tbody tr th:only-of-type {\n",
              "        vertical-align: middle;\n",
              "    }\n",
              "\n",
              "    .dataframe tbody tr th {\n",
              "        vertical-align: top;\n",
              "    }\n",
              "\n",
              "    .dataframe thead th {\n",
              "        text-align: right;\n",
              "    }\n",
              "</style>\n",
              "<table border=\"1\" class=\"dataframe\">\n",
              "  <thead>\n",
              "    <tr style=\"text-align: right;\">\n",
              "      <th></th>\n",
              "      <th>firm</th>\n",
              "      <th>CowID</th>\n",
              "      <th>BabyNum</th>\n",
              "      <th>FeedDay</th>\n",
              "      <th>Age</th>\n",
              "      <th>BreedNum</th>\n",
              "      <th>T Max</th>\n",
              "      <th>THI</th>\n",
              "      <th>disease</th>\n",
              "      <th>Sampling D Month</th>\n",
              "    </tr>\n",
              "  </thead>\n",
              "  <tbody>\n",
              "    <tr>\n",
              "      <th>0</th>\n",
              "      <td>2</td>\n",
              "      <td>122630</td>\n",
              "      <td>3</td>\n",
              "      <td>183</td>\n",
              "      <td>70</td>\n",
              "      <td>2</td>\n",
              "      <td>25.500000</td>\n",
              "      <td>20.236278</td>\n",
              "      <td>0.0</td>\n",
              "      <td>1.0</td>\n",
              "    </tr>\n",
              "    <tr>\n",
              "      <th>1</th>\n",
              "      <td>2</td>\n",
              "      <td>2122398</td>\n",
              "      <td>3</td>\n",
              "      <td>71</td>\n",
              "      <td>50</td>\n",
              "      <td>0</td>\n",
              "      <td>35.200000</td>\n",
              "      <td>22.838761</td>\n",
              "      <td>0.0</td>\n",
              "      <td>7.0</td>\n",
              "    </tr>\n",
              "    <tr>\n",
              "      <th>2</th>\n",
              "      <td>3</td>\n",
              "      <td>99183211</td>\n",
              "      <td>1</td>\n",
              "      <td>365</td>\n",
              "      <td>38</td>\n",
              "      <td>5</td>\n",
              "      <td>27.808703</td>\n",
              "      <td>22.838761</td>\n",
              "      <td>0.0</td>\n",
              "      <td>6.0</td>\n",
              "    </tr>\n",
              "    <tr>\n",
              "      <th>3</th>\n",
              "      <td>2</td>\n",
              "      <td>122607</td>\n",
              "      <td>4</td>\n",
              "      <td>177</td>\n",
              "      <td>73</td>\n",
              "      <td>1</td>\n",
              "      <td>29.100000</td>\n",
              "      <td>23.221440</td>\n",
              "      <td>0.0</td>\n",
              "      <td>3.0</td>\n",
              "    </tr>\n",
              "    <tr>\n",
              "      <th>4</th>\n",
              "      <td>1</td>\n",
              "      <td>1051850</td>\n",
              "      <td>1</td>\n",
              "      <td>42</td>\n",
              "      <td>28</td>\n",
              "      <td>0</td>\n",
              "      <td>11.100000</td>\n",
              "      <td>10.980262</td>\n",
              "      <td>0.0</td>\n",
              "      <td>2.0</td>\n",
              "    </tr>\n",
              "    <tr>\n",
              "      <th>...</th>\n",
              "      <td>...</td>\n",
              "      <td>...</td>\n",
              "      <td>...</td>\n",
              "      <td>...</td>\n",
              "      <td>...</td>\n",
              "      <td>...</td>\n",
              "      <td>...</td>\n",
              "      <td>...</td>\n",
              "      <td>...</td>\n",
              "      <td>...</td>\n",
              "    </tr>\n",
              "    <tr>\n",
              "      <th>6678</th>\n",
              "      <td>2</td>\n",
              "      <td>1123347</td>\n",
              "      <td>3</td>\n",
              "      <td>18</td>\n",
              "      <td>42</td>\n",
              "      <td>0</td>\n",
              "      <td>34.900000</td>\n",
              "      <td>29.323086</td>\n",
              "      <td>0.0</td>\n",
              "      <td>8.0</td>\n",
              "    </tr>\n",
              "    <tr>\n",
              "      <th>6679</th>\n",
              "      <td>2</td>\n",
              "      <td>99127667</td>\n",
              "      <td>2</td>\n",
              "      <td>508</td>\n",
              "      <td>52</td>\n",
              "      <td>4</td>\n",
              "      <td>34.800000</td>\n",
              "      <td>28.814617</td>\n",
              "      <td>0.0</td>\n",
              "      <td>7.0</td>\n",
              "    </tr>\n",
              "    <tr>\n",
              "      <th>6680</th>\n",
              "      <td>2</td>\n",
              "      <td>97124147</td>\n",
              "      <td>3</td>\n",
              "      <td>158</td>\n",
              "      <td>62</td>\n",
              "      <td>1</td>\n",
              "      <td>34.400000</td>\n",
              "      <td>27.200232</td>\n",
              "      <td>0.0</td>\n",
              "      <td>5.0</td>\n",
              "    </tr>\n",
              "    <tr>\n",
              "      <th>6681</th>\n",
              "      <td>2</td>\n",
              "      <td>2122364</td>\n",
              "      <td>1</td>\n",
              "      <td>9</td>\n",
              "      <td>22</td>\n",
              "      <td>0</td>\n",
              "      <td>19.500000</td>\n",
              "      <td>16.578618</td>\n",
              "      <td>1.0</td>\n",
              "      <td>12.0</td>\n",
              "    </tr>\n",
              "    <tr>\n",
              "      <th>6682</th>\n",
              "      <td>2</td>\n",
              "      <td>4123090</td>\n",
              "      <td>1</td>\n",
              "      <td>204</td>\n",
              "      <td>32</td>\n",
              "      <td>4</td>\n",
              "      <td>25.900000</td>\n",
              "      <td>20.509629</td>\n",
              "      <td>0.0</td>\n",
              "      <td>4.0</td>\n",
              "    </tr>\n",
              "  </tbody>\n",
              "</table>\n",
              "<p>6683 rows × 10 columns</p>\n",
              "</div>"
            ],
            "text/plain": [
              "      firm     CowID  BabyNum  ...        THI  disease  Sampling D Month\n",
              "0        2    122630        3  ...  20.236278      0.0               1.0\n",
              "1        2   2122398        3  ...  22.838761      0.0               7.0\n",
              "2        3  99183211        1  ...  22.838761      0.0               6.0\n",
              "3        2    122607        4  ...  23.221440      0.0               3.0\n",
              "4        1   1051850        1  ...  10.980262      0.0               2.0\n",
              "...    ...       ...      ...  ...        ...      ...               ...\n",
              "6678     2   1123347        3  ...  29.323086      0.0               8.0\n",
              "6679     2  99127667        2  ...  28.814617      0.0               7.0\n",
              "6680     2  97124147        3  ...  27.200232      0.0               5.0\n",
              "6681     2   2122364        1  ...  16.578618      1.0              12.0\n",
              "6682     2   4123090        1  ...  20.509629      0.0               4.0\n",
              "\n",
              "[6683 rows x 10 columns]"
            ]
          },
          "metadata": {
            "tags": []
          },
          "execution_count": 33
        }
      ]
    },
    {
      "cell_type": "code",
      "metadata": {
        "id": "hNTI_rKoOigv",
        "colab_type": "code",
        "colab": {}
      },
      "source": [
        "#把要one hot的類別轉換成數字\n",
        "from sklearn.preprocessing import LabelEncoder\n",
        "labelencoder = LabelEncoder()\n",
        "all_data=pd.concat([new_train,new_test])\n",
        "#all_data['3'] = labelencoder.fit_transform(all_data['3'])\n",
        "all_data['CowID'] = labelencoder.fit_transform(all_data['CowID'])\n",
        "#all_data['MomID'] = labelencoder.fit_transform(all_data['MomID'])\n",
        "#all_data['DadID'] = labelencoder.fit_transform(all_data['DadID'])\n",
        "all_data['Sampling D Month'] = labelencoder.fit_transform(all_data['Sampling D Month'])\n",
        "new_train = all_data[0:len(new_train)]\n",
        "new_test = all_data[len(new_train)::]\n",
        "all_data=pd.concat([new_train,new_test])\n"
      ],
      "execution_count": 34,
      "outputs": []
    },
    {
      "cell_type": "code",
      "metadata": {
        "id": "DPvPGadmOj6C",
        "colab_type": "code",
        "colab": {
          "base_uri": "https://localhost:8080/",
          "height": 419
        },
        "outputId": "0b727faa-4f24-47ea-c1cd-9c90ffee01b9"
      },
      "source": [
        "all_data"
      ],
      "execution_count": 35,
      "outputs": [
        {
          "output_type": "execute_result",
          "data": {
            "text/html": [
              "<div>\n",
              "<style scoped>\n",
              "    .dataframe tbody tr th:only-of-type {\n",
              "        vertical-align: middle;\n",
              "    }\n",
              "\n",
              "    .dataframe tbody tr th {\n",
              "        vertical-align: top;\n",
              "    }\n",
              "\n",
              "    .dataframe thead th {\n",
              "        text-align: right;\n",
              "    }\n",
              "</style>\n",
              "<table border=\"1\" class=\"dataframe\">\n",
              "  <thead>\n",
              "    <tr style=\"text-align: right;\">\n",
              "      <th></th>\n",
              "      <th>firm</th>\n",
              "      <th>CowID</th>\n",
              "      <th>BabyNum</th>\n",
              "      <th>FeedDay</th>\n",
              "      <th>Age</th>\n",
              "      <th>BreedNum</th>\n",
              "      <th>T Max</th>\n",
              "      <th>THI</th>\n",
              "      <th>disease</th>\n",
              "      <th>Sampling D Month</th>\n",
              "    </tr>\n",
              "  </thead>\n",
              "  <tbody>\n",
              "    <tr>\n",
              "      <th>0</th>\n",
              "      <td>2</td>\n",
              "      <td>728</td>\n",
              "      <td>1</td>\n",
              "      <td>55</td>\n",
              "      <td>30</td>\n",
              "      <td>2</td>\n",
              "      <td>27.826169</td>\n",
              "      <td>22.850519</td>\n",
              "      <td>1.0</td>\n",
              "      <td>6</td>\n",
              "    </tr>\n",
              "    <tr>\n",
              "      <th>1</th>\n",
              "      <td>2</td>\n",
              "      <td>736</td>\n",
              "      <td>2</td>\n",
              "      <td>62</td>\n",
              "      <td>38</td>\n",
              "      <td>1</td>\n",
              "      <td>34.900000</td>\n",
              "      <td>27.093337</td>\n",
              "      <td>0.0</td>\n",
              "      <td>3</td>\n",
              "    </tr>\n",
              "    <tr>\n",
              "      <th>2</th>\n",
              "      <td>2</td>\n",
              "      <td>781</td>\n",
              "      <td>1</td>\n",
              "      <td>11</td>\n",
              "      <td>27</td>\n",
              "      <td>0</td>\n",
              "      <td>23.800000</td>\n",
              "      <td>21.498437</td>\n",
              "      <td>0.0</td>\n",
              "      <td>10</td>\n",
              "    </tr>\n",
              "    <tr>\n",
              "      <th>3</th>\n",
              "      <td>1</td>\n",
              "      <td>388</td>\n",
              "      <td>2</td>\n",
              "      <td>290</td>\n",
              "      <td>57</td>\n",
              "      <td>7</td>\n",
              "      <td>15.700000</td>\n",
              "      <td>12.100133</td>\n",
              "      <td>0.0</td>\n",
              "      <td>2</td>\n",
              "    </tr>\n",
              "    <tr>\n",
              "      <th>4</th>\n",
              "      <td>2</td>\n",
              "      <td>189</td>\n",
              "      <td>2</td>\n",
              "      <td>156</td>\n",
              "      <td>55</td>\n",
              "      <td>1</td>\n",
              "      <td>20.200000</td>\n",
              "      <td>17.597478</td>\n",
              "      <td>0.0</td>\n",
              "      <td>1</td>\n",
              "    </tr>\n",
              "    <tr>\n",
              "      <th>...</th>\n",
              "      <td>...</td>\n",
              "      <td>...</td>\n",
              "      <td>...</td>\n",
              "      <td>...</td>\n",
              "      <td>...</td>\n",
              "      <td>...</td>\n",
              "      <td>...</td>\n",
              "      <td>...</td>\n",
              "      <td>...</td>\n",
              "      <td>...</td>\n",
              "    </tr>\n",
              "    <tr>\n",
              "      <th>6678</th>\n",
              "      <td>2</td>\n",
              "      <td>280</td>\n",
              "      <td>3</td>\n",
              "      <td>18</td>\n",
              "      <td>42</td>\n",
              "      <td>0</td>\n",
              "      <td>34.900000</td>\n",
              "      <td>29.323086</td>\n",
              "      <td>0.0</td>\n",
              "      <td>7</td>\n",
              "    </tr>\n",
              "    <tr>\n",
              "      <th>6679</th>\n",
              "      <td>2</td>\n",
              "      <td>1790</td>\n",
              "      <td>2</td>\n",
              "      <td>508</td>\n",
              "      <td>52</td>\n",
              "      <td>4</td>\n",
              "      <td>34.800000</td>\n",
              "      <td>28.814617</td>\n",
              "      <td>0.0</td>\n",
              "      <td>6</td>\n",
              "    </tr>\n",
              "    <tr>\n",
              "      <th>6680</th>\n",
              "      <td>2</td>\n",
              "      <td>1555</td>\n",
              "      <td>3</td>\n",
              "      <td>158</td>\n",
              "      <td>62</td>\n",
              "      <td>1</td>\n",
              "      <td>34.400000</td>\n",
              "      <td>27.200232</td>\n",
              "      <td>0.0</td>\n",
              "      <td>4</td>\n",
              "    </tr>\n",
              "    <tr>\n",
              "      <th>6681</th>\n",
              "      <td>2</td>\n",
              "      <td>466</td>\n",
              "      <td>1</td>\n",
              "      <td>9</td>\n",
              "      <td>22</td>\n",
              "      <td>0</td>\n",
              "      <td>19.500000</td>\n",
              "      <td>16.578618</td>\n",
              "      <td>1.0</td>\n",
              "      <td>11</td>\n",
              "    </tr>\n",
              "    <tr>\n",
              "      <th>6682</th>\n",
              "      <td>2</td>\n",
              "      <td>980</td>\n",
              "      <td>1</td>\n",
              "      <td>204</td>\n",
              "      <td>32</td>\n",
              "      <td>4</td>\n",
              "      <td>25.900000</td>\n",
              "      <td>20.509629</td>\n",
              "      <td>0.0</td>\n",
              "      <td>3</td>\n",
              "    </tr>\n",
              "  </tbody>\n",
              "</table>\n",
              "<p>33163 rows × 10 columns</p>\n",
              "</div>"
            ],
            "text/plain": [
              "      firm  CowID  BabyNum  ...        THI  disease  Sampling D Month\n",
              "0        2    728        1  ...  22.850519      1.0                 6\n",
              "1        2    736        2  ...  27.093337      0.0                 3\n",
              "2        2    781        1  ...  21.498437      0.0                10\n",
              "3        1    388        2  ...  12.100133      0.0                 2\n",
              "4        2    189        2  ...  17.597478      0.0                 1\n",
              "...    ...    ...      ...  ...        ...      ...               ...\n",
              "6678     2    280        3  ...  29.323086      0.0                 7\n",
              "6679     2   1790        2  ...  28.814617      0.0                 6\n",
              "6680     2   1555        3  ...  27.200232      0.0                 4\n",
              "6681     2    466        1  ...  16.578618      1.0                11\n",
              "6682     2    980        1  ...  20.509629      0.0                 3\n",
              "\n",
              "[33163 rows x 10 columns]"
            ]
          },
          "metadata": {
            "tags": []
          },
          "execution_count": 35
        }
      ]
    },
    {
      "cell_type": "code",
      "metadata": {
        "id": "majAv8pDFqO1",
        "colab_type": "code",
        "colab": {
          "base_uri": "https://localhost:8080/",
          "height": 156
        },
        "outputId": "6f4860d6-f920-46aa-ff7a-a5b02257676a"
      },
      "source": [
        "#把要的類別轉換成one hot\n",
        "import numpy as np\n",
        "from sklearn.preprocessing import OneHotEncoder\n",
        "\n",
        "enc = OneHotEncoder(categorical_features =[0,1,2,5,8,9])#6\n",
        "enc.fit(all_data)\n",
        "X=enc.transform(new_train).toarray()\n",
        "X_test=enc.transform(new_test).toarray()\n",
        "X.shape"
      ],
      "execution_count": 36,
      "outputs": [
        {
          "output_type": "stream",
          "text": [
            "/usr/local/lib/python3.6/dist-packages/sklearn/preprocessing/_encoders.py:363: FutureWarning: The handling of integer data will change in version 0.22. Currently, the categories are determined based on the range [0, max(values)], while in the future they will be determined based on the unique values.\n",
            "If you want the future behaviour and silence this warning, you can specify \"categories='auto'\".\n",
            "In case you used a LabelEncoder before this OneHotEncoder to convert the categories to integers, then you can now use the OneHotEncoder directly.\n",
            "  warnings.warn(msg, FutureWarning)\n",
            "/usr/local/lib/python3.6/dist-packages/sklearn/preprocessing/_encoders.py:385: DeprecationWarning: The 'categorical_features' keyword is deprecated in version 0.20 and will be removed in 0.22. You can use the ColumnTransformer instead.\n",
            "  \"use the ColumnTransformer instead.\", DeprecationWarning)\n"
          ],
          "name": "stderr"
        },
        {
          "output_type": "execute_result",
          "data": {
            "text/plain": [
              "(26480, 1866)"
            ]
          },
          "metadata": {
            "tags": []
          },
          "execution_count": 36
        }
      ]
    },
    {
      "cell_type": "code",
      "metadata": {
        "id": "bVHWkLJgH7wH",
        "colab_type": "code",
        "colab": {
          "base_uri": "https://localhost:8080/",
          "height": 34
        },
        "outputId": "427586d4-4ddc-4344-c3a0-dcc06e5b9a11"
      },
      "source": [
        "X_test.shape"
      ],
      "execution_count": 37,
      "outputs": [
        {
          "output_type": "execute_result",
          "data": {
            "text/plain": [
              "(6683, 1866)"
            ]
          },
          "metadata": {
            "tags": []
          },
          "execution_count": 37
        }
      ]
    },
    {
      "cell_type": "code",
      "metadata": {
        "id": "StuiAXygddR8",
        "colab_type": "code",
        "colab": {
          "base_uri": "https://localhost:8080/",
          "height": 419
        },
        "outputId": "b40848bb-bfab-4700-d463-cf5a637e4663"
      },
      "source": [
        "new_test"
      ],
      "execution_count": 38,
      "outputs": [
        {
          "output_type": "execute_result",
          "data": {
            "text/html": [
              "<div>\n",
              "<style scoped>\n",
              "    .dataframe tbody tr th:only-of-type {\n",
              "        vertical-align: middle;\n",
              "    }\n",
              "\n",
              "    .dataframe tbody tr th {\n",
              "        vertical-align: top;\n",
              "    }\n",
              "\n",
              "    .dataframe thead th {\n",
              "        text-align: right;\n",
              "    }\n",
              "</style>\n",
              "<table border=\"1\" class=\"dataframe\">\n",
              "  <thead>\n",
              "    <tr style=\"text-align: right;\">\n",
              "      <th></th>\n",
              "      <th>firm</th>\n",
              "      <th>CowID</th>\n",
              "      <th>BabyNum</th>\n",
              "      <th>FeedDay</th>\n",
              "      <th>Age</th>\n",
              "      <th>BreedNum</th>\n",
              "      <th>T Max</th>\n",
              "      <th>THI</th>\n",
              "      <th>disease</th>\n",
              "      <th>Sampling D Month</th>\n",
              "    </tr>\n",
              "  </thead>\n",
              "  <tbody>\n",
              "    <tr>\n",
              "      <th>0</th>\n",
              "      <td>2</td>\n",
              "      <td>96</td>\n",
              "      <td>3</td>\n",
              "      <td>183</td>\n",
              "      <td>70</td>\n",
              "      <td>2</td>\n",
              "      <td>25.500000</td>\n",
              "      <td>20.236278</td>\n",
              "      <td>0.0</td>\n",
              "      <td>0</td>\n",
              "    </tr>\n",
              "    <tr>\n",
              "      <th>1</th>\n",
              "      <td>2</td>\n",
              "      <td>494</td>\n",
              "      <td>3</td>\n",
              "      <td>71</td>\n",
              "      <td>50</td>\n",
              "      <td>0</td>\n",
              "      <td>35.200000</td>\n",
              "      <td>22.838761</td>\n",
              "      <td>0.0</td>\n",
              "      <td>6</td>\n",
              "    </tr>\n",
              "    <tr>\n",
              "      <th>2</th>\n",
              "      <td>3</td>\n",
              "      <td>1817</td>\n",
              "      <td>1</td>\n",
              "      <td>365</td>\n",
              "      <td>38</td>\n",
              "      <td>5</td>\n",
              "      <td>27.808703</td>\n",
              "      <td>22.838761</td>\n",
              "      <td>0.0</td>\n",
              "      <td>5</td>\n",
              "    </tr>\n",
              "    <tr>\n",
              "      <th>3</th>\n",
              "      <td>2</td>\n",
              "      <td>76</td>\n",
              "      <td>4</td>\n",
              "      <td>177</td>\n",
              "      <td>73</td>\n",
              "      <td>1</td>\n",
              "      <td>29.100000</td>\n",
              "      <td>23.221440</td>\n",
              "      <td>0.0</td>\n",
              "      <td>2</td>\n",
              "    </tr>\n",
              "    <tr>\n",
              "      <th>4</th>\n",
              "      <td>1</td>\n",
              "      <td>250</td>\n",
              "      <td>1</td>\n",
              "      <td>42</td>\n",
              "      <td>28</td>\n",
              "      <td>0</td>\n",
              "      <td>11.100000</td>\n",
              "      <td>10.980262</td>\n",
              "      <td>0.0</td>\n",
              "      <td>1</td>\n",
              "    </tr>\n",
              "    <tr>\n",
              "      <th>...</th>\n",
              "      <td>...</td>\n",
              "      <td>...</td>\n",
              "      <td>...</td>\n",
              "      <td>...</td>\n",
              "      <td>...</td>\n",
              "      <td>...</td>\n",
              "      <td>...</td>\n",
              "      <td>...</td>\n",
              "      <td>...</td>\n",
              "      <td>...</td>\n",
              "    </tr>\n",
              "    <tr>\n",
              "      <th>6678</th>\n",
              "      <td>2</td>\n",
              "      <td>280</td>\n",
              "      <td>3</td>\n",
              "      <td>18</td>\n",
              "      <td>42</td>\n",
              "      <td>0</td>\n",
              "      <td>34.900000</td>\n",
              "      <td>29.323086</td>\n",
              "      <td>0.0</td>\n",
              "      <td>7</td>\n",
              "    </tr>\n",
              "    <tr>\n",
              "      <th>6679</th>\n",
              "      <td>2</td>\n",
              "      <td>1790</td>\n",
              "      <td>2</td>\n",
              "      <td>508</td>\n",
              "      <td>52</td>\n",
              "      <td>4</td>\n",
              "      <td>34.800000</td>\n",
              "      <td>28.814617</td>\n",
              "      <td>0.0</td>\n",
              "      <td>6</td>\n",
              "    </tr>\n",
              "    <tr>\n",
              "      <th>6680</th>\n",
              "      <td>2</td>\n",
              "      <td>1555</td>\n",
              "      <td>3</td>\n",
              "      <td>158</td>\n",
              "      <td>62</td>\n",
              "      <td>1</td>\n",
              "      <td>34.400000</td>\n",
              "      <td>27.200232</td>\n",
              "      <td>0.0</td>\n",
              "      <td>4</td>\n",
              "    </tr>\n",
              "    <tr>\n",
              "      <th>6681</th>\n",
              "      <td>2</td>\n",
              "      <td>466</td>\n",
              "      <td>1</td>\n",
              "      <td>9</td>\n",
              "      <td>22</td>\n",
              "      <td>0</td>\n",
              "      <td>19.500000</td>\n",
              "      <td>16.578618</td>\n",
              "      <td>1.0</td>\n",
              "      <td>11</td>\n",
              "    </tr>\n",
              "    <tr>\n",
              "      <th>6682</th>\n",
              "      <td>2</td>\n",
              "      <td>980</td>\n",
              "      <td>1</td>\n",
              "      <td>204</td>\n",
              "      <td>32</td>\n",
              "      <td>4</td>\n",
              "      <td>25.900000</td>\n",
              "      <td>20.509629</td>\n",
              "      <td>0.0</td>\n",
              "      <td>3</td>\n",
              "    </tr>\n",
              "  </tbody>\n",
              "</table>\n",
              "<p>6683 rows × 10 columns</p>\n",
              "</div>"
            ],
            "text/plain": [
              "      firm  CowID  BabyNum  ...        THI  disease  Sampling D Month\n",
              "0        2     96        3  ...  20.236278      0.0                 0\n",
              "1        2    494        3  ...  22.838761      0.0                 6\n",
              "2        3   1817        1  ...  22.838761      0.0                 5\n",
              "3        2     76        4  ...  23.221440      0.0                 2\n",
              "4        1    250        1  ...  10.980262      0.0                 1\n",
              "...    ...    ...      ...  ...        ...      ...               ...\n",
              "6678     2    280        3  ...  29.323086      0.0                 7\n",
              "6679     2   1790        2  ...  28.814617      0.0                 6\n",
              "6680     2   1555        3  ...  27.200232      0.0                 4\n",
              "6681     2    466        1  ...  16.578618      1.0                11\n",
              "6682     2    980        1  ...  20.509629      0.0                 3\n",
              "\n",
              "[6683 rows x 10 columns]"
            ]
          },
          "metadata": {
            "tags": []
          },
          "execution_count": 38
        }
      ]
    },
    {
      "cell_type": "code",
      "metadata": {
        "id": "qnfAbfP0GfCT",
        "colab_type": "code",
        "colab": {
          "base_uri": "https://localhost:8080/",
          "height": 238
        },
        "outputId": "913384d7-f7e5-4c9e-cf52-743c4a6d2db7"
      },
      "source": [
        "X"
      ],
      "execution_count": 39,
      "outputs": [
        {
          "output_type": "execute_result",
          "data": {
            "text/plain": [
              "array([[ 0.        ,  1.        ,  0.        , ..., 30.        ,\n",
              "        27.82616918, 22.85051932],\n",
              "       [ 0.        ,  1.        ,  0.        , ..., 38.        ,\n",
              "        34.9       , 27.09333711],\n",
              "       [ 0.        ,  1.        ,  0.        , ..., 27.        ,\n",
              "        23.8       , 21.4984371 ],\n",
              "       ...,\n",
              "       [ 0.        ,  1.        ,  0.        , ..., 26.        ,\n",
              "        16.2       , 13.40103018],\n",
              "       [ 1.        ,  0.        ,  0.        , ..., 34.        ,\n",
              "        34.1       , 26.27994148],\n",
              "       [ 1.        ,  0.        ,  0.        , ..., 70.        ,\n",
              "        33.8       , 26.86139404]])"
            ]
          },
          "metadata": {
            "tags": []
          },
          "execution_count": 39
        }
      ]
    },
    {
      "cell_type": "code",
      "metadata": {
        "id": "_ZaaNOl2OpGQ",
        "colab_type": "code",
        "colab": {}
      },
      "source": [
        "#X=X.values\n",
        "X = X.astype('float32')\n",
        "scaler = MinMaxScaler(feature_range=(0, 1))\n",
        "X = scaler.fit_transform(X)\n",
        "y=y.values"
      ],
      "execution_count": 40,
      "outputs": []
    },
    {
      "cell_type": "code",
      "metadata": {
        "id": "GWd6pyJkSIA9",
        "colab_type": "code",
        "colab": {
          "base_uri": "https://localhost:8080/",
          "height": 238
        },
        "outputId": "94a31f3a-f6b0-4407-a3b8-b6c1eaa207b1"
      },
      "source": [
        "X"
      ],
      "execution_count": 41,
      "outputs": [
        {
          "output_type": "execute_result",
          "data": {
            "text/plain": [
              "array([[0.        , 1.        , 0.        , ..., 0.18867923, 0.61618984,\n",
              "        0.6523535 ],\n",
              "       [0.        , 1.        , 0.        , ..., 0.2389937 , 0.8338462 ,\n",
              "        0.82666194],\n",
              "       [0.        , 1.        , 0.        , ..., 0.16981131, 0.49230766,\n",
              "        0.5968058 ],\n",
              "       ...,\n",
              "       [0.        , 1.        , 0.        , ..., 0.163522  , 0.25846156,\n",
              "        0.26413873],\n",
              "       [1.        , 0.        , 0.        , ..., 0.21383648, 0.8092307 ,\n",
              "        0.7932451 ],\n",
              "       [1.        , 0.        , 0.        , ..., 0.44025156, 0.79999995,\n",
              "        0.81713307]], dtype=float32)"
            ]
          },
          "metadata": {
            "tags": []
          },
          "execution_count": 41
        }
      ]
    },
    {
      "cell_type": "code",
      "metadata": {
        "id": "cj4Cpx3_-HPK",
        "colab_type": "code",
        "colab": {}
      },
      "source": [
        "x_train,x_test,y_train,y_test=train_test_split(X,y,test_size=0.1,random_state=42)\n",
        "#random_state為02.ipynb"
      ],
      "execution_count": 42,
      "outputs": []
    },
    {
      "cell_type": "code",
      "metadata": {
        "id": "SsP2Se_z-IzP",
        "colab_type": "code",
        "colab": {
          "base_uri": "https://localhost:8080/",
          "height": 85
        },
        "outputId": "3aadb074-85c4-40f5-b5bc-213a92384000"
      },
      "source": [
        "print(\"Please show me the shape of x_train:\",x_train.shape)\n",
        "print(\"Please show me the shape of x_test:\",x_test.shape)\n",
        "print(\"Please show me the shape of y_train:\",y_train.shape)\n",
        "print(\"Please show me the shape of y_test:\",y_test.shape)"
      ],
      "execution_count": 43,
      "outputs": [
        {
          "output_type": "stream",
          "text": [
            "Please show me the shape of x_train: (23832, 1866)\n",
            "Please show me the shape of x_test: (2648, 1866)\n",
            "Please show me the shape of y_train: (23832,)\n",
            "Please show me the shape of y_test: (2648,)\n"
          ],
          "name": "stdout"
        }
      ]
    },
    {
      "cell_type": "code",
      "metadata": {
        "id": "Hnkk7bxDO89G",
        "colab_type": "code",
        "colab": {}
      },
      "source": [
        "from keras import backend as K\n",
        "def rmse(y_pred, y_true):\n",
        "    return K.sqrt(K.mean(K.square(y_pred - y_true)))"
      ],
      "execution_count": 44,
      "outputs": []
    },
    {
      "cell_type": "code",
      "metadata": {
        "id": "Kv7RvMvJ-Q9T",
        "colab_type": "code",
        "colab": {
          "base_uri": "https://localhost:8080/",
          "height": 51
        },
        "outputId": "2f4b2347-9e7f-4e20-a909-90d0e40cccfb"
      },
      "source": [
        "from sklearn.model_selection import KFold\n",
        "from keras import regularizers\n",
        "from matplotlib import pyplot\n",
        "from keras import optimizers\n",
        "import keras\n",
        "from keras.callbacks import ReduceLROnPlateau\n",
        "count=1\n",
        "trainacc=0\n",
        "testacc=0\n",
        "keras.initializers.RandomNormal(mean=0.0, stddev=0.05, seed=None)\n",
        "print(\"y_test:\") #看每次y_test一不一樣\n",
        "print(y_test)"
      ],
      "execution_count": 45,
      "outputs": [
        {
          "output_type": "stream",
          "text": [
            "y_test:\n",
            "[20.9 19.  18.  ... 16.  39.  26. ]\n"
          ],
          "name": "stdout"
        }
      ]
    },
    {
      "cell_type": "code",
      "metadata": {
        "id": "vfrQHPnWAl8s",
        "colab_type": "code",
        "colab": {
          "base_uri": "https://localhost:8080/",
          "height": 51
        },
        "outputId": "661a0c72-3d39-44fa-fc2d-5089a1338fcd"
      },
      "source": [
        "print(\"y_train:\") #看每次y_train一不一樣\n",
        "print(y_train)"
      ],
      "execution_count": 46,
      "outputs": [
        {
          "output_type": "stream",
          "text": [
            "y_train:\n",
            "[29.  35.  21.  ... 20.  23.5 19. ]\n"
          ],
          "name": "stdout"
        }
      ]
    },
    {
      "cell_type": "code",
      "metadata": {
        "id": "uMzNkYwQ-SIa",
        "colab_type": "code",
        "colab": {}
      },
      "source": [
        "x_train = np.reshape(x_train,(x_train.shape[0],1,x_train.shape[1]))#做成三維\n",
        "x_test = np.reshape(x_test,(x_test.shape[0],1,x_test.shape[1]))"
      ],
      "execution_count": 47,
      "outputs": []
    },
    {
      "cell_type": "code",
      "metadata": {
        "id": "3IsgU5mA-13p",
        "colab_type": "code",
        "colab": {
          "base_uri": "https://localhost:8080/",
          "height": 85
        },
        "outputId": "44325c51-8964-425e-aeff-585699539341"
      },
      "source": [
        "print(\"Please show me the shape of x_train:\",x_train.shape)\n",
        "print(\"Please show me the shape of x_test:\",x_test.shape)\n",
        "print(\"Please show me the shape of y_train:\",y_train.shape)\n",
        "print(\"Please show me the shape of y_test:\",y_test.shape)"
      ],
      "execution_count": 48,
      "outputs": [
        {
          "output_type": "stream",
          "text": [
            "Please show me the shape of x_train: (23832, 1, 1866)\n",
            "Please show me the shape of x_test: (2648, 1, 1866)\n",
            "Please show me the shape of y_train: (23832,)\n",
            "Please show me the shape of y_test: (2648,)\n"
          ],
          "name": "stdout"
        }
      ]
    },
    {
      "cell_type": "code",
      "metadata": {
        "id": "Tj00-1KuKE1j",
        "colab_type": "code",
        "colab": {
          "base_uri": "https://localhost:8080/",
          "height": 918
        },
        "outputId": "c9feab67-cdde-49ca-f346-db8f8aaaa084"
      },
      "source": [
        "from keras.layers import GRU\n",
        "from keras.layers import Embedding, Bidirectional,TimeDistributed\n",
        "from keras.layers.normalization import BatchNormalization\n",
        "from keras.layers import Activation, Dense\n",
        "from keras.callbacks import EarlyStopping\n",
        "model = Sequential()#LSTM\n",
        "model.add(GRU(50, input_shape=(1,x_train.shape[2]),return_sequences=True))\n",
        "model.add(Dropout(0.02))\n",
        "model.add(GRU(50,return_sequences=True))\n",
        "model.add(Dropout(0.02))\n",
        "model.add(GRU(50,return_sequences=True))\n",
        "model.add(Dropout(0.02))\n",
        "model.add(GRU(50))\n",
        "model.add(Dropout(0.02))\n",
        "model.add(Dense(1))\n",
        "model.compile(loss=rmse, optimizer='adam',metrics=[rmse])\n",
        "early_stopping=EarlyStopping(monitor='val_loss', patience=10)\n",
        "#reduce_lr = ReduceLROnPlateau(monitor='val_loss', factor=0.2, patience=5, min_lr=0.001)\n",
        "history=model.fit(x_train, y_train, epochs=500,validation_data=(x_test, y_test), batch_size=5, verbose=2, callbacks=[early_stopping],shuffle=True)#epochs要改回1000\n",
        "\n",
        "Predicts = model.predict(x_train)#TrainRMSE\n",
        "testScore = math.sqrt(mean_squared_error(y_train, Predicts))\n",
        "print('Train Score: %.2f RMSE' % (testScore))\n",
        "    \n",
        "\n",
        "Predict = model.predict(x_test)#TestRMSE\n",
        "testScore = math.sqrt(mean_squared_error(y_test, Predict))\n",
        "print('Test Score: %.2f RMSE' % (testScore))\n",
        "print(Predict)\n"
      ],
      "execution_count": 51,
      "outputs": [
        {
          "output_type": "stream",
          "text": [
            "Epoch 1/500\n",
            "4767/4767 - 34s - loss: 7.0438 - rmse: 7.0433 - val_loss: 5.3971 - val_rmse: 5.3977\n",
            "Epoch 2/500\n",
            "4767/4767 - 33s - loss: 5.1608 - rmse: 5.1608 - val_loss: 5.0331 - val_rmse: 5.0345\n",
            "Epoch 3/500\n",
            "4767/4767 - 33s - loss: 4.7815 - rmse: 4.7811 - val_loss: 4.9437 - val_rmse: 4.9458\n",
            "Epoch 4/500\n",
            "4767/4767 - 33s - loss: 4.5205 - rmse: 4.5203 - val_loss: 4.9660 - val_rmse: 4.9684\n",
            "Epoch 5/500\n",
            "4767/4767 - 33s - loss: 4.2797 - rmse: 4.2798 - val_loss: 4.6876 - val_rmse: 4.6900\n",
            "Epoch 6/500\n",
            "4767/4767 - 33s - loss: 4.1049 - rmse: 4.1050 - val_loss: 4.4644 - val_rmse: 4.4674\n",
            "Epoch 7/500\n",
            "4767/4767 - 32s - loss: 3.9220 - rmse: 3.9219 - val_loss: 4.4837 - val_rmse: 4.4867\n",
            "Epoch 8/500\n",
            "4767/4767 - 32s - loss: 3.7494 - rmse: 3.7493 - val_loss: 4.4752 - val_rmse: 4.4780\n",
            "Epoch 9/500\n",
            "4767/4767 - 32s - loss: 3.6095 - rmse: 3.6092 - val_loss: 4.5070 - val_rmse: 4.5107\n",
            "Epoch 10/500\n",
            "4767/4767 - 33s - loss: 3.4676 - rmse: 3.4675 - val_loss: 4.6568 - val_rmse: 4.6613\n",
            "Epoch 11/500\n",
            "4767/4767 - 33s - loss: 3.3311 - rmse: 3.3309 - val_loss: 4.4548 - val_rmse: 4.4589\n",
            "Epoch 12/500\n",
            "4767/4767 - 33s - loss: 3.2029 - rmse: 3.2026 - val_loss: 4.3766 - val_rmse: 4.3806\n",
            "Epoch 13/500\n",
            "4767/4767 - 33s - loss: 3.0766 - rmse: 3.0767 - val_loss: 4.4799 - val_rmse: 4.4848\n",
            "Epoch 14/500\n",
            "4767/4767 - 34s - loss: 2.9471 - rmse: 2.9469 - val_loss: 4.5236 - val_rmse: 4.5286\n",
            "Epoch 15/500\n",
            "4767/4767 - 33s - loss: 2.8465 - rmse: 2.8468 - val_loss: 4.5020 - val_rmse: 4.5062\n",
            "Epoch 16/500\n",
            "4767/4767 - 33s - loss: 2.7159 - rmse: 2.7158 - val_loss: 4.5415 - val_rmse: 4.5463\n",
            "Epoch 17/500\n",
            "4767/4767 - 32s - loss: 2.6162 - rmse: 2.6160 - val_loss: 4.5063 - val_rmse: 4.5107\n",
            "Epoch 18/500\n",
            "4767/4767 - 32s - loss: 2.5058 - rmse: 2.5057 - val_loss: 4.5753 - val_rmse: 4.5799\n",
            "Epoch 19/500\n",
            "4767/4767 - 33s - loss: 2.4142 - rmse: 2.4143 - val_loss: 4.6093 - val_rmse: 4.6133\n",
            "Epoch 20/500\n",
            "4767/4767 - 32s - loss: 2.3099 - rmse: 2.3098 - val_loss: 4.6022 - val_rmse: 4.6064\n",
            "Epoch 21/500\n",
            "4767/4767 - 33s - loss: 2.2179 - rmse: 2.2178 - val_loss: 4.6560 - val_rmse: 4.6602\n",
            "Epoch 22/500\n",
            "4767/4767 - 32s - loss: 2.1485 - rmse: 2.1483 - val_loss: 4.6118 - val_rmse: 4.6156\n",
            "Train Score: 2.05 RMSE\n",
            "Test Score: 5.07 RMSE\n",
            "[[24.531015 ]\n",
            " [16.971548 ]\n",
            " [16.391344 ]\n",
            " ...\n",
            " [15.3878565]\n",
            " [38.119755 ]\n",
            " [42.505753 ]]\n"
          ],
          "name": "stdout"
        }
      ]
    },
    {
      "cell_type": "code",
      "metadata": {
        "id": "aY_tEkU--cBt",
        "colab_type": "code",
        "colab": {
          "base_uri": "https://localhost:8080/",
          "height": 295
        },
        "outputId": "1175959c-79ec-472d-cde7-408ef5a73e62"
      },
      "source": [
        "plt.plot(history.history['loss'])\n",
        "plt.plot(history.history['val_loss'])\n",
        "pyplot.title('model train vs validation loss')\n",
        "pyplot.ylabel('loss')\n",
        "pyplot.xlabel('epoch')\n",
        "pyplot.legend(['train', 'validation'], loc='upper right')\n",
        "pyplot.show()"
      ],
      "execution_count": 52,
      "outputs": [
        {
          "output_type": "display_data",
          "data": {
            "image/png": "[encoded data removed]",
            "text/plain": [
              "<Figure size 432x288 with 1 Axes>"
            ]
          },
          "metadata": {
            "tags": [],
            "needs_background": "light"
          }
        }
      ]
    },
    {
      "cell_type": "code",
      "metadata": {
        "id": "qEfpNwpMxOVT",
        "colab_type": "code",
        "colab": {
          "base_uri": "https://localhost:8080/",
          "height": 459
        },
        "outputId": "8a53426b-958e-4333-cdd0-565864c5dbb2"
      },
      "source": [
        "model.summary()"
      ],
      "execution_count": 53,
      "outputs": [
        {
          "output_type": "stream",
          "text": [
            "Model: \"sequential_2\"\n",
            "_________________________________________________________________\n",
            "Layer (type)                 Output Shape              Param #   \n",
            "=================================================================\n",
            "gru_8 (GRU)                  (None, 1, 50)             287700    \n",
            "_________________________________________________________________\n",
            "dropout_8 (Dropout)          (None, 1, 50)             0         \n",
            "_________________________________________________________________\n",
            "gru_9 (GRU)                  (None, 1, 50)             15300     \n",
            "_________________________________________________________________\n",
            "dropout_9 (Dropout)          (None, 1, 50)             0         \n",
            "_________________________________________________________________\n",
            "gru_10 (GRU)                 (None, 1, 50)             15300     \n",
            "_________________________________________________________________\n",
            "dropout_10 (Dropout)         (None, 1, 50)             0         \n",
            "_________________________________________________________________\n",
            "gru_11 (GRU)                 (None, 50)                15300     \n",
            "_________________________________________________________________\n",
            "dropout_11 (Dropout)         (None, 50)                0         \n",
            "_________________________________________________________________\n",
            "dense_2 (Dense)              (None, 1)                 51        \n",
            "=================================================================\n",
            "Total params: 333,651\n",
            "Trainable params: 333,651\n",
            "Non-trainable params: 0\n",
            "_________________________________________________________________\n"
          ],
          "name": "stdout"
        }
      ]
    },
    {
      "cell_type": "code",
      "metadata": {
        "id": "VC0MD2pFPXuF",
        "colab_type": "code",
        "colab": {}
      },
      "source": [
        "#X_test=X_test.values\n",
        "X_test=X_test.astype('float32')\n",
        "X_test=scaler.transform(X_test)"
      ],
      "execution_count": 54,
      "outputs": []
    },
    {
      "cell_type": "code",
      "metadata": {
        "id": "HfeCtS4-ICTB",
        "colab_type": "code",
        "colab": {
          "base_uri": "https://localhost:8080/",
          "height": 34
        },
        "outputId": "26fac328-2013-48a3-9764-ad7fd7048e8d"
      },
      "source": [
        "X_test.shape"
      ],
      "execution_count": 55,
      "outputs": [
        {
          "output_type": "execute_result",
          "data": {
            "text/plain": [
              "(6683, 1866)"
            ]
          },
          "metadata": {
            "tags": []
          },
          "execution_count": 55
        }
      ]
    },
    {
      "cell_type": "code",
      "metadata": {
        "id": "fSyiOY3H-iGd",
        "colab_type": "code",
        "colab": {}
      },
      "source": [
        "X_test= np.reshape(X_test,(X_test.shape[0],1,X_test.shape[1]))"
      ],
      "execution_count": 56,
      "outputs": []
    },
    {
      "cell_type": "code",
      "metadata": {
        "id": "Znchq0qU3sPB",
        "colab_type": "code",
        "colab": {
          "base_uri": "https://localhost:8080/",
          "height": 34
        },
        "outputId": "83cfbf6f-aaab-4da1-c77b-e3402696c7ca"
      },
      "source": [
        "X_test.shape"
      ],
      "execution_count": 57,
      "outputs": [
        {
          "output_type": "execute_result",
          "data": {
            "text/plain": [
              "(6683, 1, 1866)"
            ]
          },
          "metadata": {
            "tags": []
          },
          "execution_count": 57
        }
      ]
    },
    {
      "cell_type": "code",
      "metadata": {
        "id": "woFRArSF8MGp",
        "colab_type": "code",
        "colab": {
          "base_uri": "https://localhost:8080/",
          "height": 136
        },
        "outputId": "96793e24-ed0f-4068-a526-c365aa2dd1eb"
      },
      "source": [
        "Prediction = model.predict(X_test)\n",
        "Prediction"
      ],
      "execution_count": 58,
      "outputs": [
        {
          "output_type": "execute_result",
          "data": {
            "text/plain": [
              "array([[41.278923],\n",
              "       [27.997562],\n",
              "       [13.494754],\n",
              "       ...,\n",
              "       [37.57325 ],\n",
              "       [18.284544],\n",
              "       [18.073492]], dtype=float32)"
            ]
          },
          "metadata": {
            "tags": []
          },
          "execution_count": 58
        }
      ]
    },
    {
      "cell_type": "code",
      "metadata": {
        "id": "CCqY6z8KxRaR",
        "colab_type": "code",
        "colab": {
          "base_uri": "https://localhost:8080/",
          "height": 34
        },
        "outputId": "56bbb3a3-b07a-439e-b57b-bea6ac8fe748"
      },
      "source": [
        "testScore = math.sqrt(mean_squared_error(y_fortest, Prediction))\n",
        "print('Test Score: %.2f RMSE' % (testScore))"
      ],
      "execution_count": 59,
      "outputs": [
        {
          "output_type": "stream",
          "text": [
            "Test Score: 5.10 RMSE\n"
          ],
          "name": "stdout"
        }
      ]
    },
    {
      "cell_type": "code",
      "metadata": {
        "id": "tyhR0UCNf5by",
        "colab_type": "code",
        "colab": {
          "base_uri": "https://localhost:8080/",
          "height": 221
        },
        "outputId": "0a212dbc-aa44-4735-8131-3a6a092c901e"
      },
      "source": [
        "y_fortest"
      ],
      "execution_count": 60,
      "outputs": [
        {
          "output_type": "execute_result",
          "data": {
            "text/plain": [
              "0       40.0\n",
              "1       28.0\n",
              "2       12.0\n",
              "3       35.0\n",
              "4       28.8\n",
              "        ... \n",
              "6678    39.0\n",
              "6679    10.0\n",
              "6680    30.6\n",
              "6681    20.0\n",
              "6682    16.0\n",
              "Name: Milk, Length: 6683, dtype: float64"
            ]
          },
          "metadata": {
            "tags": []
          },
          "execution_count": 60
        }
      ]
    },
    {
      "cell_type": "code",
      "metadata": {
        "id": "17SfwASAZ0lV",
        "colab_type": "code",
        "colab": {}
      },
      "source": [
        "from numpy import ndarray\n",
        "import numpy as np\n",
        "compare=np.zeros(5,int)\n",
        "#0-2,3-5,6-8,9-11,11以上\n",
        "#print(compare[0])\n",
        "#print(compare[1])\n",
        "#print(compare[2])\n",
        "#print(compare[3])\n",
        "#print(compare[4])"
      ],
      "execution_count": 61,
      "outputs": []
    },
    {
      "cell_type": "code",
      "metadata": {
        "id": "s43e5kNTNRpe",
        "colab_type": "code",
        "colab": {}
      },
      "source": [
        "y=0\n",
        "for i in range(6683):\n",
        "  temp=y_fortest[i]-Prediction[i]\n",
        "  num=abs(temp)\n",
        "  if num>0 and num<=2:\n",
        "    compare[0]=compare[0]+1\n",
        "  elif num>2 and num <=5:\n",
        "    compare[1]=compare[1]+1\n",
        "  elif num>5 and num <=8:\n",
        "    compare[2]=compare[2]+1\n",
        "  elif num>8 and num <=11:\n",
        "    compare[3]=compare[3]+1\n",
        "  elif num>11:\n",
        "    compare[4]=compare[4]+1"
      ],
      "execution_count": 62,
      "outputs": []
    },
    {
      "cell_type": "code",
      "metadata": {
        "id": "i_73Q_hBeA9p",
        "colab_type": "code",
        "colab": {
          "base_uri": "https://localhost:8080/",
          "height": 34
        },
        "outputId": "dbdc27ae-0545-478d-cf52-254102a189f6"
      },
      "source": [
        "print(compare[0],compare[1],compare[2],compare[3],compare[4])"
      ],
      "execution_count": 63,
      "outputs": [
        {
          "output_type": "stream",
          "text": [
            "2718 2346 932 374 313\n"
          ],
          "name": "stdout"
        }
      ]
    },
    {
      "cell_type": "code",
      "metadata": {
        "id": "vviKXJ8ZfRjh",
        "colab_type": "code",
        "colab": {
          "base_uri": "https://localhost:8080/",
          "height": 282
        },
        "outputId": "1b36e537-7605-421e-86a2-7a16521ee007"
      },
      "source": [
        "import matplotlib.pyplot as plt\n",
        "x_ray=['0-2','3-5','6-8','9-11','11up']\n",
        "plt.bar(x_ray, compare, label = 'compare')\n"
      ],
      "execution_count": 64,
      "outputs": [
        {
          "output_type": "execute_result",
          "data": {
            "text/plain": [
              "<BarContainer object of 5 artists>"
            ]
          },
          "metadata": {
            "tags": []
          },
          "execution_count": 64
        },
        {
          "output_type": "display_data",
          "data": {
            "image/png": "[encoded data removed]",
            "text/plain": [
              "<Figure size 432x288 with 1 Axes>"
            ]
          },
          "metadata": {
            "tags": [],
            "needs_background": "light"
          }
        }
      ]
    },
    {
      "cell_type": "code",
      "metadata": {
        "id": "SjRjKAH1mMKi",
        "colab_type": "code",
        "colab": {
          "base_uri": "https://localhost:8080/",
          "height": 282
        },
        "outputId": "361a0a37-ae4c-4c36-b702-6b67c20d5253"
      },
      "source": [
        "print(plt.bar(x_ray, compare, label = 'compare'))"
      ],
      "execution_count": 65,
      "outputs": [
        {
          "output_type": "stream",
          "text": [
            "<BarContainer object of 5 artists>\n"
          ],
          "name": "stdout"
        },
        {
          "output_type": "display_data",
          "data": {
            "image/png": "[encoded data removed]",
            "text/plain": [
              "<Figure size 432x288 with 1 Axes>"
            ]
          },
          "metadata": {
            "tags": [],
            "needs_background": "light"
          }
        }
      ]
    },
    {
      "cell_type": "code",
      "metadata": {
        "id": "3v6PZEQSPlNE",
        "colab_type": "code",
        "colab": {}
      },
      "source": [
        "import pandas as pd\n",
        "#字典中的key值即為csv中列名\n",
        "dataframe = pd.DataFrame({'y_true':list(y_fortest),'prediction':list(Prediction)})\n",
        "#dataframe = pd.DataFrame({'prediction':data})\n",
        "#將DataFrame儲存為csv,index表示是否顯示行名，default=True\n",
        "dataframe.to_csv(\"testPrediction.csv\",index=False,sep=',')"
      ],
      "execution_count": 66,
      "outputs": []
    },
    {
      "cell_type": "code",
      "metadata": {
        "id": "hBY1mYBqWHat",
        "colab_type": "code",
        "colab": {}
      },
      "source": [
        "from keras.models import load_model\n",
        "\n",
        "model.save('0902_4.88.h5')  # creates a HDF5 file 'model.h5'"
      ],
      "execution_count": 67,
      "outputs": []
    }
  ]
}